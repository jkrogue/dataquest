{
 "cells": [
  {
   "cell_type": "markdown",
   "metadata": {},
   "source": [
    "# Gun Deaths in US\n",
    "\n",
    "In this notebook I will explore demographic data on gun deaths in the US, and break them down by gender, race, date and intention (accidental vs homicide) looking for meaningful trends"
   ]
  },
  {
   "cell_type": "markdown",
   "metadata": {
    "collapsed": true
   },
   "source": [
    "### Explanation of variables in guns.csv (index is 1 less)\n",
    "\n",
    "1. Row number\n",
    "1. Year\n",
    "2. Month (1-12)\n",
    "3. Intent (Suicide, Accidental, NA, Homicide, Undetermined)\n",
    "4. Police\n",
    "5. Sex (M/F)\n",
    "6. Age (to one decimal)\n",
    "7. Race (Asian/Pacific Islander, Native American/Native Alaskan, Black, Hispanic, or White)\n",
    "8. Hispanic\n",
    "9. Place (Home, Street, Other specified\n",
    "10. Education (1: less than HS, 2: graduated HS, 3: some college, 4: graduated college, 5: not available)"
   ]
  },
  {
   "cell_type": "code",
   "execution_count": 1,
   "metadata": {},
   "outputs": [],
   "source": [
    "import csv\n",
    "import datetime\n",
    "\n",
    "with open(\"guns.csv\",\"r\") as input_file:\n",
    "    data = list(csv.reader(input_file))"
   ]
  },
  {
   "cell_type": "code",
   "execution_count": 2,
   "metadata": {},
   "outputs": [],
   "source": [
    "headers = data[0]\n",
    "data = data[1:]"
   ]
  },
  {
   "cell_type": "code",
   "execution_count": 3,
   "metadata": {},
   "outputs": [
    {
     "name": "stdout",
     "output_type": "stream",
     "text": [
      "{'2012': 33563, '2013': 33636, '2014': 33599}\n"
     ]
    }
   ],
   "source": [
    "def count_deaths(index, dataset):\n",
    "    death_count = {}\n",
    "    for each in dataset:\n",
    "        var = each[index]\n",
    "        if var in death_count:\n",
    "            death_count[var] += 1\n",
    "        else:\n",
    "            death_count[var] = 1\n",
    "    return death_count \n",
    "\n",
    "years = [each[1] for each in data]\n",
    "year_counts = count_deaths(1, data)\n",
    "\n",
    "print (year_counts)"
   ]
  },
  {
   "cell_type": "code",
   "execution_count": 4,
   "metadata": {},
   "outputs": [
    {
     "name": "stdout",
     "output_type": "stream",
     "text": [
      "Jan 2012: 2758\n",
      "Feb 2012: 2357\n",
      "Mar 2012: 2743\n",
      "Apr 2012: 2795\n",
      "May 2012: 2999\n",
      "Jun 2012: 2826\n",
      "Jul 2012: 3026\n",
      "Aug 2012: 2954\n",
      "Sep 2012: 2852\n",
      "Oct 2012: 2733\n",
      "Nov 2012: 2729\n",
      "Dec 2012: 2791\n",
      "Jan 2013: 2864\n",
      "Feb 2013: 2375\n",
      "Mar 2013: 2862\n",
      "Apr 2013: 2798\n",
      "May 2013: 2806\n",
      "Jun 2013: 2920\n",
      "Jul 2013: 3079\n",
      "Aug 2013: 2859\n",
      "Sep 2013: 2742\n",
      "Oct 2013: 2808\n",
      "Nov 2013: 2758\n",
      "Dec 2013: 2765\n",
      "Jan 2014: 2651\n",
      "Feb 2014: 2361\n",
      "Mar 2014: 2684\n",
      "Apr 2014: 2862\n",
      "May 2014: 2864\n",
      "Jun 2014: 2931\n",
      "Jul 2014: 2884\n",
      "Aug 2014: 2970\n",
      "Sep 2014: 2914\n",
      "Oct 2014: 2865\n",
      "Nov 2014: 2756\n",
      "Dec 2014: 2857\n"
     ]
    }
   ],
   "source": [
    "dates = [datetime.datetime(year=int(each[1]),month=int(each[2]),day=1) for each in data]\n",
    "\n",
    "date_counts = {}\n",
    "for each in dates:\n",
    "    if each in date_counts:\n",
    "        date_counts[each] += 1\n",
    "    else:\n",
    "        date_counts[each] = 1\n",
    "\n",
    "        \n",
    "for date in date_counts:\n",
    "    print(date.strftime(\"%b %Y\") + \": %d\" % (date_counts[date]))"
   ]
  },
  {
   "cell_type": "markdown",
   "metadata": {},
   "source": [
    "**Gun deaths occur randomly throughout the year**"
   ]
  },
  {
   "cell_type": "markdown",
   "metadata": {},
   "source": [
    "# Gun deaths by race\n",
    "\n",
    "Below I will explore gun deaths by race.  Initially I will determine how many absolute gun deaths by race occurred, and then I will determine the death rate per 100k by race.  Finally I will stratify by intent, obtaining the homicide and accidental death rates per 100k"
   ]
  },
  {
   "cell_type": "code",
   "execution_count": 5,
   "metadata": {},
   "outputs": [
    {
     "name": "stdout",
     "output_type": "stream",
     "text": [
      "{'Asian/Pacific Islander': 1326, 'White': 66237, 'Native American/Native Alaskan': 917, 'Black': 23296, 'Hispanic': 9022}\n",
      "{'M': 86349, 'F': 14449}\n"
     ]
    }
   ],
   "source": [
    "sex_counts = count_deaths(5,data)\n",
    "race_counts = count_deaths(7,data)\n",
    "print(race_counts)\n",
    "print(sex_counts)"
   ]
  },
  {
   "cell_type": "markdown",
   "metadata": {},
   "source": [
    "Males die much more frequently than women by gun.  We have total numbers of gun deaths by race, but unclear of significance without breaking it down into death rates / 100k people.  In the next cells we'll use demographic data from US census to convert death counts by race into rates"
   ]
  },
  {
   "cell_type": "code",
   "execution_count": 6,
   "metadata": {},
   "outputs": [],
   "source": [
    "with open(\"census.csv\",\"r\") as input_file:\n",
    "    census = list(csv.reader(input_file))"
   ]
  },
  {
   "cell_type": "markdown",
   "metadata": {},
   "source": [
    "Census data is table with only **2 rows**, shown below\n",
    "\n",
    "<table class=\"dataframe\">\n",
    "<thead>\n",
    "<tr>\n",
    "<th>Id</th>\n",
    "<th>Year</th>\n",
    "<th>Id.1</th>\n",
    "<th>Sex</th>\n",
    "<th>Id.2</th>\n",
    "<th>Hispanic Origin</th>\n",
    "<th>Id.3</th>\n",
    "<th>Id2</th>\n",
    "<th>Geography</th>\n",
    "<th>Total</th>\n",
    "<th>Race Alone - White</th>\n",
    "<th>Race Alone - Hispanic</th>\n",
    "<th>Race Alone - Black or African American</th>\n",
    "<th>Race Alone - American Indian and Alaska Native</th>\n",
    "<th>Race Alone - Asian</th>\n",
    "<th>Race Alone - Native Hawaiian and Other Pacific Islander</th>\n",
    "<th>Two or More Races</th>\n",
    "</tr>\n",
    "</thead>\n",
    "<tbody>\n",
    "<tr>\n",
    "<td>cen42010</td>\n",
    "<td>April 1, 2010 Census</td>\n",
    "<td>totsex</td>\n",
    "<td>Both Sexes</td>\n",
    "<td>tothisp</td>\n",
    "<td>Total</td>\n",
    "<td>0100000US</td>\n",
    "<td>NaN</td>\n",
    "<td>United States</td>\n",
    "<td>308745538</td>\n",
    "<td>197318956</td>\n",
    "<td>44618105</td>\n",
    "<td>40250635</td>\n",
    "<td>3739506</td>\n",
    "<td>15159516</td>\n",
    "<td>674625</td>\n",
    "<td>6984195</td>\n",
    "</tr>\n",
    "</tbody>\n",
    "</table>"
   ]
  },
  {
   "cell_type": "code",
   "execution_count": 7,
   "metadata": {},
   "outputs": [],
   "source": [
    "num_white = int(census[1][10])\n",
    "num_asian = int(census[1][14]) + int(census[1][15])\n",
    "num_hispanic = int(census[1][11])\n",
    "num_black = int(census[1][12])\n",
    "num_indian = int(census[1][13])\n",
    "\n",
    "mapping = {\n",
    "    \"Asian/Pacific Islander\": num_asian,\n",
    "    \"Black\": num_black,\n",
    "    \"Native American/Native Alaskan\": num_indian,\n",
    "    \"Hispanic\": num_hispanic,\n",
    "    \"White\": num_white\n",
    "}"
   ]
  },
  {
   "cell_type": "code",
   "execution_count": 8,
   "metadata": {},
   "outputs": [
    {
     "name": "stdout",
     "output_type": "stream",
     "text": [
      "Rates of gun deaths by race:\n",
      "Asian/Pacific Islander: 8.4/100,000\n",
      "White: 33.6/100,000\n",
      "Native American/Native Alaskan: 24.5/100,000\n",
      "Black: 57.9/100,000\n",
      "Hispanic: 20.2/100,000\n"
     ]
    }
   ],
   "source": [
    "race_rates_per_hundredk = {}\n",
    "\n",
    "for race in race_counts:\n",
    "    rate = race_counts[race]/mapping[race] * 100000\n",
    "    race_rates_per_hundredk[race] = rate\n",
    "\n",
    "def display_rates(title, rates):\n",
    "    print(title + \":\")\n",
    "    for each in rates:\n",
    "        print(each + \": %.1f\" % (rates[each]) + \"/100,000\")\n",
    "        \n",
    "display_rates(\"Rates of gun deaths by race\",race_rates_per_hundredk)"
   ]
  },
  {
   "cell_type": "markdown",
   "metadata": {},
   "source": [
    "These represent rates of gun deaths per 100k people, but do not specifically focus on rates of gun *homicides*.  Will do this below by specifying intent"
   ]
  },
  {
   "cell_type": "markdown",
   "metadata": {},
   "source": [
    "# Homicide gun death rates by race\n",
    "\n",
    "* Blacks have >10x of rate dying by gun homicide as whites\n",
    "* Hispanics have 3x rate as whites\n",
    "* Native America/Native Alaskan have 2x rate as whites"
   ]
  },
  {
   "cell_type": "code",
   "execution_count": 9,
   "metadata": {},
   "outputs": [
    {
     "name": "stdout",
     "output_type": "stream",
     "text": [
      "Rates of gun death homicides by race:\n",
      "White: 4.6/100,000\n",
      "Asian/Pacific Islander: 3.5/100,000\n",
      "Black: 48.5/100,000\n",
      "Native American/Native Alaskan: 8.7/100,000\n",
      "Hispanic: 12.6/100,000\n"
     ]
    }
   ],
   "source": [
    "intents = [each[3] for each in data]\n",
    "races = [each[7] for each in data]\n",
    "\n",
    "def get_death_counts(intent,demographic):\n",
    "    homicide_counts = {}\n",
    "\n",
    "    for i, value in enumerate(demographic):\n",
    "        if intents[i] == intent:\n",
    "            if value in homicide_counts:\n",
    "                homicide_counts[value] += 1\n",
    "            else:\n",
    "                homicide_counts[value] = 1\n",
    "    return homicide_counts\n",
    "\n",
    "homicide_race_counts = get_death_counts(\"Homicide\",races)\n",
    "homicide_rates_by_race = {}\n",
    "\n",
    "for each in homicide_race_counts:\n",
    "    homicide_rates_by_race[each] = homicide_race_counts[each]/mapping[each]*100000\n",
    "\n",
    "display_rates(\"Rates of gun death homicides by race\",homicide_rates_by_race)"
   ]
  },
  {
   "cell_type": "markdown",
   "metadata": {},
   "source": [
    "# Accidental gun death rates by rates\n",
    "\n",
    "* Interestingly, these do not vary much by race"
   ]
  },
  {
   "cell_type": "code",
   "execution_count": 10,
   "metadata": {},
   "outputs": [
    {
     "name": "stdout",
     "output_type": "stream",
     "text": [
      "Rates of gun death accidents by race:\n",
      "White: 0.6/100,000\n",
      "Black: 0.8/100,000\n",
      "Hispanic: 0.3/100,000\n",
      "Asian/Pacific Islander: 0.1/100,000\n",
      "Native American/Native Alaskan: 0.6/100,000\n"
     ]
    }
   ],
   "source": [
    "accident_race_counts = get_death_counts(\"Accidental\",races)\n",
    "accident_race_rates = {}\n",
    "\n",
    "for each in accident_race_counts:\n",
    "    accident_race_rates[each] = accident_race_counts[each]/mapping[each]* 100000\n",
    "    \n",
    "display_rates(\"Rates of gun death accidents by race\",accident_race_rates)"
   ]
  },
  {
   "cell_type": "markdown",
   "metadata": {},
   "source": [
    "# Rates by gender"
   ]
  },
  {
   "cell_type": "code",
   "execution_count": 11,
   "metadata": {},
   "outputs": [],
   "source": [
    "# Obtain presumed number of people in each gender in US\n",
    "total_people = int(census[1][9])\n",
    "each_gender = total_people/2"
   ]
  },
  {
   "cell_type": "code",
   "execution_count": 12,
   "metadata": {},
   "outputs": [
    {
     "name": "stdout",
     "output_type": "stream",
     "text": [
      "Total death counts by gender:\n",
      "M: 86349\n",
      "F: 14449\n"
     ]
    }
   ],
   "source": [
    "#sex_counts was already obtained above by calling count_deaths(5,data)\n",
    "\n",
    "print(\"Total death counts by gender:\")\n",
    "for each in sex_counts:\n",
    "    print(each + \": %d\" % (sex_counts[each]))\n"
   ]
  },
  {
   "cell_type": "code",
   "execution_count": 13,
   "metadata": {},
   "outputs": [],
   "source": [
    "def get_rates_by_gender(intent):\n",
    "    counts = {}\n",
    "    gender = [each[5] for each in data]\n",
    "    for i, value in enumerate(gender):\n",
    "        if intents[i] == intent:\n",
    "            if value in counts:\n",
    "                counts[value] += 1\n",
    "            else:\n",
    "                counts[value] = 1\n",
    "    rates = {}\n",
    "    for each in gender:\n",
    "        rates[each] = counts[each] / each_gender * 100000\n",
    "    return rates"
   ]
  },
  {
   "cell_type": "code",
   "execution_count": 14,
   "metadata": {},
   "outputs": [
    {
     "name": "stdout",
     "output_type": "stream",
     "text": [
      "Rates of gun death homicides by gender:\n",
      "M: 19.3/100,000\n",
      "F: 3.5/100,000\n"
     ]
    }
   ],
   "source": [
    "display_rates(\"Rates of gun death homicides by gender\",get_rates_by_gender(\"Homicide\"))"
   ]
  },
  {
   "cell_type": "code",
   "execution_count": 15,
   "metadata": {},
   "outputs": [
    {
     "name": "stdout",
     "output_type": "stream",
     "text": [
      "Rates of gun death accidents by gender:\n",
      "M: 0.9/100,000\n",
      "F: 0.1/100,000\n"
     ]
    }
   ],
   "source": [
    "display_rates(\"Rates of gun death accidents by gender\",get_rates_by_gender(\"Accidental\"))"
   ]
  },
  {
   "cell_type": "markdown",
   "metadata": {},
   "source": [
    "Men die approximately ***9 times*** more often by gun than women, both via homicide and accident"
   ]
  },
  {
   "cell_type": "markdown",
   "metadata": {},
   "source": [
    "# Gun deaths by month"
   ]
  },
  {
   "cell_type": "code",
   "execution_count": 16,
   "metadata": {},
   "outputs": [
    {
     "name": "stdout",
     "output_type": "stream",
     "text": [
      "Total deaths by month\n",
      "1: 8273\n",
      "2: 7093\n",
      "3: 8289\n",
      "4: 8455\n",
      "5: 8669\n",
      "6: 8677\n",
      "7: 8989\n",
      "8: 8783\n",
      "9: 8508\n",
      "10: 8406\n",
      "11: 8243\n",
      "12: 8413\n"
     ]
    }
   ],
   "source": [
    "month_counts = {}\n",
    "\n",
    "months = [int(each[2]) for each in data]\n",
    "for each in months:\n",
    "    month = int(each)\n",
    "    if month in month_counts:\n",
    "        month_counts[month] += 1\n",
    "    else:\n",
    "        month_counts[month] = 1\n",
    "\n",
    "\n",
    "print(\"Total deaths by month\")\n",
    "for each in month_counts:\n",
    "    print (\"%d: %d\" % (each,month_counts[each]))"
   ]
  },
  {
   "cell_type": "markdown",
   "metadata": {},
   "source": [
    "There doesn't appear to be a link between total gun deaths by month, although February had significatly fewer.  Let's look at homicides and accidents specifically"
   ]
  },
  {
   "cell_type": "code",
   "execution_count": 17,
   "metadata": {},
   "outputs": [
    {
     "name": "stdout",
     "output_type": "stream",
     "text": [
      "Total accidental deaths by month:\n",
      "2: 127\n",
      "7: 149\n",
      "8: 164\n",
      "9: 118\n",
      "12: 179\n",
      "1: 152\n",
      "3: 134\n",
      "4: 98\n",
      "5: 115\n",
      "11: 160\n",
      "10: 131\n",
      "6: 112\n"
     ]
    }
   ],
   "source": [
    "accidents_by_month = get_death_counts(\"Accidental\",months)\n",
    "\n",
    "print(\"Total accidental deaths by month:\")\n",
    "for each in accidents_by_month:\n",
    "    print(\"%d: %d\" % (each, accidents_by_month[each]))"
   ]
  },
  {
   "cell_type": "markdown",
   "metadata": {},
   "source": [
    "Seems random"
   ]
  },
  {
   "cell_type": "code",
   "execution_count": 18,
   "metadata": {},
   "outputs": [
    {
     "name": "stdout",
     "output_type": "stream",
     "text": [
      "Total homicide deaths by month:\n",
      "3: 2780\n",
      "4: 2845\n",
      "6: 3130\n",
      "7: 3269\n",
      "8: 3125\n",
      "9: 2966\n",
      "10: 2968\n",
      "12: 3191\n",
      "1: 2829\n",
      "2: 2178\n",
      "5: 2976\n",
      "11: 2919\n"
     ]
    }
   ],
   "source": [
    "homicides_by_month = get_death_counts(\"Homicide\",months)\n",
    "\n",
    "print(\"Total homicide deaths by month:\")\n",
    "for each in homicides_by_month:\n",
    "    print(\"%d: %d\" % (each, homicides_by_month[each]))"
   ]
  },
  {
   "cell_type": "markdown",
   "metadata": {},
   "source": [
    "Slight Summer spike?"
   ]
  },
  {
   "cell_type": "code",
   "execution_count": null,
   "metadata": {},
   "outputs": [],
   "source": []
  }
 ],
 "metadata": {
  "kernelspec": {
   "display_name": "Python 3",
   "language": "python",
   "name": "python3"
  },
  "language_info": {
   "codemirror_mode": {
    "name": "ipython",
    "version": 3
   },
   "file_extension": ".py",
   "mimetype": "text/x-python",
   "name": "python",
   "nbconvert_exporter": "python",
   "pygments_lexer": "ipython3",
   "version": "3.6.4"
  }
 },
 "nbformat": 4,
 "nbformat_minor": 1
}
