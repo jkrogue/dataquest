{
 "cells": [
  {
   "cell_type": "markdown",
   "metadata": {},
   "source": [
    "# Thanksgiving 2015\n",
    "\n",
    "## Background\n",
    "\n",
    "This directory contains the data behind the story [Here’s What Your Part of America Eats On Thanksgiving](http://fivethirtyeight.com/features/heres-what-your-part-of-america-eats-on-thanksgiving).\n",
    "\n",
    "Using a SurveyMonkey poll, we asked 1,058 respondents on Nov. 17, 2015 the following questions about their Thanksgiving:\n",
    "\n",
    "* Do you celebrate Thanksgiving?\n",
    "* What is typically the main dish at your Thanksgiving dinner?\t\n",
    "\t+ Other (please specify)\n",
    "* How is the main dish typically cooked?\n",
    "\t+ Other (please specify)\n",
    "* What kind of stuffing/dressing do you typically have?\t\n",
    "\t+ Other (please specify)\n",
    "* What type of cranberry sauce do you typically have? \n",
    "\t+ Other (please specify)\n",
    "* Do you typically have gravy?\n",
    "* Which of these side dishes are typically served at your Thanksgiving dinner? Please select all that apply.\n",
    "\t+ Brussel sprouts\n",
    "\t+ Carrots\n",
    "\t+ Cauliflower\n",
    "\t+ Corn\n",
    "\t+ Cornbread\n",
    "\t+ Fruit salad\n",
    "\t+ Green beans/green bean casserole\n",
    "\t+ Macaroni and cheese\n",
    "\t+ Mashed potatoes\n",
    "\t+ Rolls/biscuits\n",
    "\t+ Vegetable salad\n",
    "\t+ Yams/sweet potato casserole\n",
    "\t+ Other (please specify)\n",
    "* Which type of pie is typically served at your Thanksgiving dinner? Please select all that apply. \n",
    "\t+ Apple\n",
    "\t+ Buttermilk\n",
    "\t+ Cherry\n",
    "\t+ Chocolate\n",
    "\t+ Coconut cream\n",
    "\t+ Key lime\n",
    "\t+ Peach\n",
    "\t+ Pecan\n",
    "\t+ Pumpkin\n",
    "\t+ Sweet Potato\n",
    "\t+ None \n",
    "\t+ Other (please specify)\n",
    "* Which of these desserts do you typically have at Thanksgiving dinner? Please select all that apply.\n",
    "\t+ Apple cobbler\n",
    "\t+ Blondies\n",
    "\t+ Brownies\n",
    "\t+ Carrot cake\n",
    "\t+ Cheesecake\n",
    "\t+ Cookies\n",
    "\t+ Fudge\n",
    "\t+ Ice cream\n",
    "\t+ Peach cobbler\n",
    "\t+ None\n",
    "\t+ Other (please specify)\n",
    "* Do you typically pray before or after the Thanksgiving meal?\n",
    "* How far will you travel for Thanksgiving?\n",
    "* Will you watch any of the following programs on Thanksgiving? Please select all that apply.  \n",
    "\t+ Macy's Parade\n",
    "* What's the age cutoff at your \"kids' table\" at Thanksgiving?\n",
    "* Have you ever tried to meet up with hometown friends on Thanksgiving night?\n",
    "* Will you shop any Black Friday sales on Thanksgiving Day?\n",
    "* Do you work in retail?\n",
    "* Will you employer make you work on Black Friday?\n",
    "* How would you describe where you live? \n",
    "* Age\n",
    "* What is your gender?\n",
    "* How much total combined money did all members of your HOUSEHOLD earn last year?\n",
    "* US Region\n"
   ]
  },
  {
   "cell_type": "markdown",
   "metadata": {},
   "source": [
    "### Some of the most important columns\n",
    "\n",
    "* RespondentID -- a unique ID of the respondent to the survey.\n",
    "* Do you celebrate Thanksgiving? -- a Yes/No reponse to the question.\n",
    "* How would you describe where you live? -- responses are Suburban, Urban, and Rural.\n",
    "* Age -- resposes are one of several categories, such as 18-29, and 30-44.\n",
    "* How much total combined money did all members of your HOUSEHOLD earn last year? -- one of several categories, such as $75,000 to $99,999.\n"
   ]
  },
  {
   "cell_type": "code",
   "execution_count": 11,
   "metadata": {
    "collapsed": false
   },
   "outputs": [
    {
     "name": "stdout",
     "output_type": "stream",
     "text": [
      "   RespondentID Do you celebrate Thanksgiving?  \\\n",
      "0    4337954960                            Yes   \n",
      "1    4337951949                            Yes   \n",
      "2    4337935621                            Yes   \n",
      "\n",
      "  What is typically the main dish at your Thanksgiving dinner?  \\\n",
      "0                                             Turkey             \n",
      "1                                             Turkey             \n",
      "2                                             Turkey             \n",
      "\n",
      "  What is typically the main dish at your Thanksgiving dinner? - Other (please specify)  \\\n",
      "0                                                NaN                                      \n",
      "1                                                NaN                                      \n",
      "2                                                NaN                                      \n",
      "\n",
      "  How is the main dish typically cooked?  \\\n",
      "0                                  Baked   \n",
      "1                                  Baked   \n",
      "2                                Roasted   \n",
      "\n",
      "  How is the main dish typically cooked? - Other (please specify)  \\\n",
      "0                                                NaN                \n",
      "1                                                NaN                \n",
      "2                                                NaN                \n",
      "\n",
      "  What kind of stuffing/dressing do you typically have?  \\\n",
      "0                                        Bread-based      \n",
      "1                                        Bread-based      \n",
      "2                                         Rice-based      \n",
      "\n",
      "  What kind of stuffing/dressing do you typically have? - Other (please specify)  \\\n",
      "0                                                NaN                               \n",
      "1                                                NaN                               \n",
      "2                                                NaN                               \n",
      "\n",
      "  What type of cranberry saucedo you typically have?  \\\n",
      "0                                               None   \n",
      "1                             Other (please specify)   \n",
      "2                                           Homemade   \n",
      "\n",
      "  What type of cranberry saucedo you typically have? - Other (please specify)  \\\n",
      "0                                                NaN                            \n",
      "1                    Homemade cranberry gelatin ring                            \n",
      "2                                                NaN                            \n",
      "\n",
      "          ...          \\\n",
      "0         ...           \n",
      "1         ...           \n",
      "2         ...           \n",
      "\n",
      "  Have you ever tried to meet up with hometown friends on Thanksgiving night?  \\\n",
      "0                                                Yes                            \n",
      "1                                                 No                            \n",
      "2                                                Yes                            \n",
      "\n",
      "  Have you ever attended a \"Friendsgiving?\"  \\\n",
      "0                                        No   \n",
      "1                                        No   \n",
      "2                                       Yes   \n",
      "\n",
      "  Will you shop any Black Friday sales on Thanksgiving Day?  \\\n",
      "0                                                 No          \n",
      "1                                                Yes          \n",
      "2                                                Yes          \n",
      "\n",
      "  Do you work in retail? Will you employer make you work on Black Friday?  \\\n",
      "0                     No                                              NaN   \n",
      "1                     No                                              NaN   \n",
      "2                     No                                              NaN   \n",
      "\n",
      "  How would you describe where you live?      Age What is your gender?  \\\n",
      "0                               Suburban  18 - 29                 Male   \n",
      "1                                  Rural  18 - 29               Female   \n",
      "2                               Suburban  18 - 29                 Male   \n",
      "\n",
      "  How much total combined money did all members of your HOUSEHOLD earn last year?  \\\n",
      "0                                 $75,000 to $99,999                                \n",
      "1                                 $50,000 to $74,999                                \n",
      "2                                       $0 to $9,999                                \n",
      "\n",
      "            US Region  \n",
      "0     Middle Atlantic  \n",
      "1  East South Central  \n",
      "2            Mountain  \n",
      "\n",
      "[3 rows x 65 columns]\n"
     ]
    }
   ],
   "source": [
    "import pandas as pd\n",
    "\n",
    "data = pd.read_csv(\"thanksgiving-2015-poll-data.csv\", encoding=\"Latin-1\")\n",
    "\n",
    "print(data.head(3))"
   ]
  },
  {
   "cell_type": "code",
   "execution_count": 12,
   "metadata": {
    "collapsed": false
   },
   "outputs": [
    {
     "name": "stdout",
     "output_type": "stream",
     "text": [
      "Index(['RespondentID', 'Do you celebrate Thanksgiving?',\n",
      "       'What is typically the main dish at your Thanksgiving dinner?',\n",
      "       'What is typically the main dish at your Thanksgiving dinner? - Other (please specify)',\n",
      "       'How is the main dish typically cooked?',\n",
      "       'How is the main dish typically cooked? - Other (please specify)',\n",
      "       'What kind of stuffing/dressing do you typically have?',\n",
      "       'What kind of stuffing/dressing do you typically have? - Other (please specify)',\n",
      "       'What type of cranberry saucedo you typically have?',\n",
      "       'What type of cranberry saucedo you typically have? - Other (please specify)',\n",
      "       'Do you typically have gravy?',\n",
      "       'Which of these side dishes aretypically served at your Thanksgiving dinner? Please select all that apply. - Brussel sprouts',\n",
      "       'Which of these side dishes aretypically served at your Thanksgiving dinner? Please select all that apply. - Carrots',\n",
      "       'Which of these side dishes aretypically served at your Thanksgiving dinner? Please select all that apply. - Cauliflower',\n",
      "       'Which of these side dishes aretypically served at your Thanksgiving dinner? Please select all that apply. - Corn',\n",
      "       'Which of these side dishes aretypically served at your Thanksgiving dinner? Please select all that apply. - Cornbread',\n",
      "       'Which of these side dishes aretypically served at your Thanksgiving dinner? Please select all that apply. - Fruit salad',\n",
      "       'Which of these side dishes aretypically served at your Thanksgiving dinner? Please select all that apply. - Green beans/green bean casserole',\n",
      "       'Which of these side dishes aretypically served at your Thanksgiving dinner? Please select all that apply. - Macaroni and cheese',\n",
      "       'Which of these side dishes aretypically served at your Thanksgiving dinner? Please select all that apply. - Mashed potatoes',\n",
      "       'Which of these side dishes aretypically served at your Thanksgiving dinner? Please select all that apply. - Rolls/biscuits',\n",
      "       'Which of these side dishes aretypically served at your Thanksgiving dinner? Please select all that apply. - Squash',\n",
      "       'Which of these side dishes aretypically served at your Thanksgiving dinner? Please select all that apply. - Vegetable salad',\n",
      "       'Which of these side dishes aretypically served at your Thanksgiving dinner? Please select all that apply. - Yams/sweet potato casserole',\n",
      "       'Which of these side dishes aretypically served at your Thanksgiving dinner? Please select all that apply. - Other (please specify)',\n",
      "       'Which of these side dishes aretypically served at your Thanksgiving dinner? Please select all that apply. - Other (please specify).1',\n",
      "       'Which type of pie is typically served at your Thanksgiving dinner? Please select all that apply. - Apple',\n",
      "       'Which type of pie is typically served at your Thanksgiving dinner? Please select all that apply. - Buttermilk',\n",
      "       'Which type of pie is typically served at your Thanksgiving dinner? Please select all that apply. - Cherry',\n",
      "       'Which type of pie is typically served at your Thanksgiving dinner? Please select all that apply. - Chocolate',\n",
      "       'Which type of pie is typically served at your Thanksgiving dinner? Please select all that apply. - Coconut cream',\n",
      "       'Which type of pie is typically served at your Thanksgiving dinner? Please select all that apply. - Key lime',\n",
      "       'Which type of pie is typically served at your Thanksgiving dinner? Please select all that apply. - Peach',\n",
      "       'Which type of pie is typically served at your Thanksgiving dinner? Please select all that apply. - Pecan',\n",
      "       'Which type of pie is typically served at your Thanksgiving dinner? Please select all that apply. - Pumpkin',\n",
      "       'Which type of pie is typically served at your Thanksgiving dinner? Please select all that apply. - Sweet Potato',\n",
      "       'Which type of pie is typically served at your Thanksgiving dinner? Please select all that apply. - None',\n",
      "       'Which type of pie is typically served at your Thanksgiving dinner? Please select all that apply. - Other (please specify)',\n",
      "       'Which type of pie is typically served at your Thanksgiving dinner? Please select all that apply. - Other (please specify).1',\n",
      "       'Which of these desserts do you typically have at Thanksgiving dinner? Please select all that apply.   - Apple cobbler',\n",
      "       'Which of these desserts do you typically have at Thanksgiving dinner? Please select all that apply.   - Blondies',\n",
      "       'Which of these desserts do you typically have at Thanksgiving dinner? Please select all that apply.   - Brownies',\n",
      "       'Which of these desserts do you typically have at Thanksgiving dinner? Please select all that apply.   - Carrot cake',\n",
      "       'Which of these desserts do you typically have at Thanksgiving dinner? Please select all that apply.   - Cheesecake',\n",
      "       'Which of these desserts do you typically have at Thanksgiving dinner? Please select all that apply.   - Cookies',\n",
      "       'Which of these desserts do you typically have at Thanksgiving dinner? Please select all that apply.   - Fudge',\n",
      "       'Which of these desserts do you typically have at Thanksgiving dinner? Please select all that apply.   - Ice cream',\n",
      "       'Which of these desserts do you typically have at Thanksgiving dinner? Please select all that apply.   - Peach cobbler',\n",
      "       'Which of these desserts do you typically have at Thanksgiving dinner? Please select all that apply.   - None',\n",
      "       'Which of these desserts do you typically have at Thanksgiving dinner? Please select all that apply.   - Other (please specify)',\n",
      "       'Which of these desserts do you typically have at Thanksgiving dinner? Please select all that apply.   - Other (please specify).1',\n",
      "       'Do you typically pray before or after the Thanksgiving meal?',\n",
      "       'How far will you travel for Thanksgiving?',\n",
      "       'Will you watch any of the following programs on Thanksgiving? Please select all that apply. - Macy's Parade',\n",
      "       'What's the age cutoff at your \"kids' table\" at Thanksgiving?',\n",
      "       'Have you ever tried to meet up with hometown friends on Thanksgiving night?',\n",
      "       'Have you ever attended a \"Friendsgiving?\"',\n",
      "       'Will you shop any Black Friday sales on Thanksgiving Day?',\n",
      "       'Do you work in retail?',\n",
      "       'Will you employer make you work on Black Friday?',\n",
      "       'How would you describe where you live?', 'Age', 'What is your gender?',\n",
      "       'How much total combined money did all members of your HOUSEHOLD earn last year?',\n",
      "       'US Region'],\n",
      "      dtype='object')\n"
     ]
    }
   ],
   "source": [
    "print(data.columns)"
   ]
  },
  {
   "cell_type": "code",
   "execution_count": 13,
   "metadata": {
    "collapsed": false
   },
   "outputs": [
    {
     "name": "stdout",
     "output_type": "stream",
     "text": [
      "0     Yes\n",
      "1     Yes\n",
      "2     Yes\n",
      "3     Yes\n",
      "4     Yes\n",
      "5     Yes\n",
      "6     Yes\n",
      "7     Yes\n",
      "8     Yes\n",
      "9     Yes\n",
      "10     No\n",
      "Name: Do you celebrate Thanksgiving?, dtype: object\n"
     ]
    }
   ],
   "source": [
    "print(data.loc[:10,\"Do you celebrate Thanksgiving?\"])"
   ]
  },
  {
   "cell_type": "code",
   "execution_count": 14,
   "metadata": {
    "collapsed": false
   },
   "outputs": [
    {
     "name": "stdout",
     "output_type": "stream",
     "text": [
      "0    Yes\n",
      "1    Yes\n",
      "2    Yes\n",
      "3    Yes\n",
      "4    Yes\n",
      "5    Yes\n",
      "6    Yes\n",
      "7    Yes\n",
      "8    Yes\n",
      "9    Yes\n",
      "Name: Do you celebrate Thanksgiving?, dtype: object\n"
     ]
    }
   ],
   "source": [
    "data = data.loc[data[\"Do you celebrate Thanksgiving?\"] == \"Yes\"]\n",
    "print(data.loc[:10,\"Do you celebrate Thanksgiving?\"])"
   ]
  },
  {
   "cell_type": "code",
   "execution_count": 15,
   "metadata": {
    "collapsed": false
   },
   "outputs": [
    {
     "name": "stdout",
     "output_type": "stream",
     "text": [
      "<class 'pandas.core.series.Series'>\n",
      "Turkey                    859\n",
      "Other (please specify)     35\n",
      "Ham/Pork                   29\n",
      "Tofurkey                   20\n",
      "Chicken                    12\n",
      "Roast beef                 11\n",
      "I don't know                5\n",
      "Turducken                   3\n",
      "Name: What is typically the main dish at your Thanksgiving dinner?, dtype: int64\n"
     ]
    }
   ],
   "source": [
    "# print out the different kinds of main dishes people have\n",
    "main_dish_counts = data[\"What is typically the main dish at your Thanksgiving dinner?\"].value_counts()\n",
    "\n",
    "print(type(main_dish_counts))\n",
    "\n",
    "print(main_dish_counts)\n",
    "\n"
   ]
  },
  {
   "cell_type": "code",
   "execution_count": 16,
   "metadata": {
    "collapsed": false
   },
   "outputs": [
    {
     "name": "stdout",
     "output_type": "stream",
     "text": [
      "4      Yes\n",
      "33     Yes\n",
      "69      No\n",
      "72      No\n",
      "77     Yes\n",
      "145    Yes\n",
      "175    Yes\n",
      "218     No\n",
      "243    Yes\n",
      "275     No\n",
      "393    Yes\n",
      "399    Yes\n",
      "571    Yes\n",
      "594    Yes\n",
      "628     No\n",
      "774     No\n",
      "820     No\n",
      "837    Yes\n",
      "860     No\n",
      "953    Yes\n",
      "Name: Do you typically have gravy?, dtype: object\n"
     ]
    }
   ],
   "source": [
    "# Find out who uses gravy of people eating tofurkey\n",
    "\n",
    "tofurkey_data = data.loc[data[\"What is typically the main dish at your Thanksgiving dinner?\"] == \"Tofurkey\"]\n",
    "\n",
    "gravy_series = tofurkey_data[\"Do you typically have gravy?\"]\n",
    "print(gravy_series)\n",
    "\n"
   ]
  },
  {
   "cell_type": "code",
   "execution_count": 42,
   "metadata": {
    "collapsed": false
   },
   "outputs": [
    {
     "name": "stdout",
     "output_type": "stream",
     "text": [
      "Apple    514\n",
      "Name: Which type of pie is typically served at your Thanksgiving dinner? Please select all that apply. - Apple, dtype: int64\n",
      "Pumpkin    729\n",
      "Name: Which type of pie is typically served at your Thanksgiving dinner? Please select all that apply. - Pumpkin, dtype: int64\n",
      "Pecan    342\n",
      "Name: Which type of pie is typically served at your Thanksgiving dinner? Please select all that apply. - Pecan, dtype: int64\n",
      "<class 'pandas.core.series.Series'>\n",
      "False    876\n",
      "True     104\n",
      "dtype: int64\n"
     ]
    }
   ],
   "source": [
    "# Who's eating which pies\n",
    "\n",
    "print(data[\"Which type of pie is typically served at your Thanksgiving dinner? Please select all that apply. - Apple\"].value_counts())\n",
    "print(data[\"Which type of pie is typically served at your Thanksgiving dinner? Please select all that apply. - Pumpkin\"].value_counts())\n",
    "print(data[\"Which type of pie is typically served at your Thanksgiving dinner? Please select all that apply. - Pecan\"].value_counts())\n",
    "\n",
    "apple_isnull = pd.isnull(data[\"Which type of pie is typically served at your Thanksgiving dinner? Please select all that apply. - Apple\"])\n",
    "\n",
    "print(type(apple_isnull))\n",
    "pumpkin_isnull = pd.isnull(data[\"Which type of pie is typically served at your Thanksgiving dinner? Please select all that apply. - Pumpkin\"])\n",
    "\n",
    "pecan_isnull = pd.isnull(data[\"Which type of pie is typically served at your Thanksgiving dinner? Please select all that apply. - Pecan\"])\n",
    "\n",
    "data[\"ate_pies\"] = apple_isnull & pumpkin_isnull & pecan_isnull\n",
    "\n",
    "print(ate_pies.value_counts())"
   ]
  },
  {
   "cell_type": "code",
   "execution_count": 18,
   "metadata": {
    "collapsed": false
   },
   "outputs": [
    {
     "name": "stdout",
     "output_type": "stream",
     "text": [
      "0       18.0\n",
      "1       18.0\n",
      "2       18.0\n",
      "3       30.0\n",
      "4       30.0\n",
      "5       18.0\n",
      "6       18.0\n",
      "7       18.0\n",
      "8       30.0\n",
      "9       30.0\n",
      "11      30.0\n",
      "12      18.0\n",
      "13      18.0\n",
      "14      60.0\n",
      "15      30.0\n",
      "16      30.0\n",
      "17      18.0\n",
      "18      30.0\n",
      "19      30.0\n",
      "20      30.0\n",
      "21      18.0\n",
      "23      18.0\n",
      "24      30.0\n",
      "25      18.0\n",
      "26      30.0\n",
      "27      18.0\n",
      "28      30.0\n",
      "29      30.0\n",
      "30      30.0\n",
      "32      18.0\n",
      "        ... \n",
      "1024    45.0\n",
      "1025    60.0\n",
      "1026    45.0\n",
      "1027    60.0\n",
      "1029    60.0\n",
      "1030    45.0\n",
      "1031    45.0\n",
      "1033    30.0\n",
      "1034    30.0\n",
      "1035    30.0\n",
      "1037    30.0\n",
      "1038    60.0\n",
      "1039    18.0\n",
      "1040    30.0\n",
      "1041    45.0\n",
      "1042    45.0\n",
      "1043    45.0\n",
      "1044    60.0\n",
      "1045    30.0\n",
      "1046    18.0\n",
      "1047    30.0\n",
      "1048    60.0\n",
      "1049     NaN\n",
      "1050    60.0\n",
      "1051    60.0\n",
      "1053    30.0\n",
      "1054    60.0\n",
      "1055    60.0\n",
      "1056     NaN\n",
      "1057     NaN\n",
      "Name: int_age, Length: 980, dtype: float64\n",
      "count    947.000000\n",
      "mean      40.089757\n",
      "std       15.352014\n",
      "min       18.000000\n",
      "25%       30.000000\n",
      "50%       45.000000\n",
      "75%       60.000000\n",
      "max       60.000000\n",
      "Name: int_age, dtype: float64\n"
     ]
    }
   ],
   "source": [
    "# Converting age to numeric\n",
    "\n",
    "def extract_int(string):\n",
    "    if pd.isnull(string):  # return None if NaN\n",
    "        return None\n",
    "    elif (\"+\" in string):   # return \"60\" for \"60+\"\n",
    "        return int(string.split(\"+\")[0])\n",
    "    return int(string.split(\" \")[0])   # return \"18\" for \"!8 - 30\"\n",
    "\n",
    "data[\"int_age\"] = data[\"Age\"].apply(extract_int)\n",
    "\n",
    "print(data[\"int_age\"])\n",
    "\n",
    "print(data[\"int_age\"].describe())"
   ]
  },
  {
   "cell_type": "markdown",
   "metadata": {},
   "source": [
    "### About age data\n",
    "\n",
    "Our data is leftward skewed as we took just the first age in the range, but it does show a relatively evenly distributed range of ages"
   ]
  },
  {
   "cell_type": "code",
   "execution_count": 19,
   "metadata": {
    "collapsed": false
   },
   "outputs": [
    {
     "name": "stdout",
     "output_type": "stream",
     "text": [
      "count       829.000000\n",
      "mean      75965.018094\n",
      "std       59068.636748\n",
      "min           0.000000\n",
      "25%       25000.000000\n",
      "50%       75000.000000\n",
      "75%      100000.000000\n",
      "max      200000.000000\n",
      "Name: int_income, dtype: float64\n"
     ]
    }
   ],
   "source": [
    "# Converting earnings to money\n",
    "import re\n",
    "\n",
    "def extract_salary(string):\n",
    "    if (pd.isnull(string)):\n",
    "        return None\n",
    "    salary = string.split(\" \")[0]\n",
    "    if \"Prefer\" in salary:\n",
    "        return None\n",
    "    salary = re.sub(r\"[,$]\",\"\",salary)\n",
    "    return int(salary)\n",
    "\n",
    "data[\"int_income\"] = data[\"How much total combined money did all members of your HOUSEHOLD earn last year?\"].apply(extract_salary)\n",
    "\n",
    "print(data[\"int_income\"].describe())"
   ]
  },
  {
   "cell_type": "markdown",
   "metadata": {},
   "source": [
    "### About salary data\n",
    "\n",
    "As in age data, our data is left-ward skewed as we selected the lower range of the salary data in each case.\n",
    "\n",
    "We attempt to rectify this below by returning average of range (e.g., 5000 for range $0-$10000), but this is still limited as for range $200,000 we don't have upper bound"
   ]
  },
  {
   "cell_type": "code",
   "execution_count": 35,
   "metadata": {
    "collapsed": false
   },
   "outputs": [
    {
     "name": "stdout",
     "output_type": "stream",
     "text": [
      "count       829.000000\n",
      "mean      86486.276840\n",
      "std       57789.467567\n",
      "min        4999.500000\n",
      "25%       37499.500000\n",
      "50%       87499.500000\n",
      "75%      112499.500000\n",
      "max      200000.000000\n",
      "Name: avg_income, dtype: float64\n"
     ]
    }
   ],
   "source": [
    "def extract_avg_salary(string):\n",
    "    if (pd.isnull(string) or \"Prefer\" in string):\n",
    "        return None\n",
    "    #print(string)\n",
    "    pattern = r\"\\$(\\S+).+?\\$(\\S+)\"\n",
    "    match = re.search(pattern,string)\n",
    "    if match is not None: # Runs except when match fails (which will be when range is \"$200,000 and up\")\n",
    "        low_bound = int(re.sub(r\",\",\"\",str(match.group(1))))\n",
    "        high_bound = int(re.sub(r\",\",\"\",str(match.group(2))))\n",
    "        #print (\"Low bound: %s\\tHigh Bound: %s\\n\" % (low_bound, high_bound))\n",
    "        return (low_bound + high_bound)/2\n",
    "    else: # Runs when match above fails (i.e., when range is \"$200,000 and up\")\n",
    "        low_bound = int(re.sub(r\",\",\"\",re.search(r\"\\$(\\S+)\", string).group(1)))\n",
    "        #print (\"Low bound: %s\\n\" % (low_bound))\n",
    "        return low_bound\n",
    "        \n",
    "data[\"avg_income\"] = data[\"How much total combined money did all members of your HOUSEHOLD earn last year?\"].apply(extract_avg_salary)\n",
    "\n",
    "print(data[\"avg_income\"].describe())"
   ]
  },
  {
   "cell_type": "code",
   "execution_count": 63,
   "metadata": {},
   "outputs": [
    {
     "name": "stdout",
     "output_type": "stream",
     "text": [
      "Thanksgiving travel for people making < $150,000:\n",
      "Thanksgiving is happening at my home--I won't travel at all                         281\n",
      "Thanksgiving is local--it will take place in the town I live in                     203\n",
      "Thanksgiving is out of town but not too far--it's a drive of a few hours or less    150\n",
      "Thanksgiving is out of town and far away--I have to drive several hours or fly       55\n",
      "Name: How far will you travel for Thanksgiving?, dtype: int64\n",
      "\n",
      "Thanksgiving travel for people making >= $150,000:\n",
      "Thanksgiving is happening at my home--I won't travel at all                         66\n",
      "Thanksgiving is local--it will take place in the town I live in                     34\n",
      "Thanksgiving is out of town but not too far--it's a drive of a few hours or less    25\n",
      "Thanksgiving is out of town and far away--I have to drive several hours or fly      15\n",
      "Name: How far will you travel for Thanksgiving?, dtype: int64\n"
     ]
    }
   ],
   "source": [
    "less_150000 = data[data[\"int_income\"] < 150000]\n",
    "print(\"Thanksgiving travel for people making < $150,000:\\n%s\" % (less_150000[\"How far will you travel for Thanksgiving?\"].value_counts()))\n",
    "\n",
    "print()\n",
    "\n",
    "greater_150000 = data[data[\"int_income\"] >= 150000]\n",
    "print(\"Thanksgiving travel for people making >= $150,000:\\n%s\" % (greater_150000[\"How far will you travel for Thanksgiving?\"].value_counts()))"
   ]
  },
  {
   "cell_type": "code",
   "execution_count": 65,
   "metadata": {},
   "outputs": [
    {
     "name": "stdout",
     "output_type": "stream",
     "text": [
      "Average age of respondents:\n",
      "Have you ever attended a \"Friendsgiving?\"                  No        Yes\n",
      "Have you ever tried to meet up with hometown fr...                      \n",
      "No                                                  42.283702  37.010526\n",
      "Yes                                                 41.475410  33.976744\n",
      "\n",
      "Average income of respondents:\n",
      "Have you ever attended a \"Friendsgiving?\"                     No           Yes\n",
      "Have you ever tried to meet up with hometown fr...                            \n",
      "No                                                  78914.549654  72894.736842\n",
      "Yes                                                 78750.000000  66019.736842\n",
      "\n"
     ]
    }
   ],
   "source": [
    "friends_age = data.pivot_table(index = \"Have you ever tried to meet up with hometown friends on Thanksgiving night?\", columns = 'Have you ever attended a \"Friendsgiving?\"', values = \"int_age\")\n",
    "\n",
    "friends_income = data.pivot_table(index = \"Have you ever tried to meet up with hometown friends on Thanksgiving night?\", columns = 'Have you ever attended a \"Friendsgiving?\"', values = \"int_income\")\n",
    "\n",
    "print(\"Average age of respondents:\\n%s\\n\" %(friends_age))\n",
    "\n",
    "print(\"Average income of respondents:\\n%s\\n\" %(friends_income))\n"
   ]
  },
  {
   "cell_type": "markdown",
   "metadata": {},
   "source": [
    "### Explanation of above\n",
    "\n",
    "Those who met up with friends or had a \"friendsgiving\" tended to be younger and make less money"
   ]
  },
  {
   "cell_type": "code",
   "execution_count": 78,
   "metadata": {},
   "outputs": [
    {
     "name": "stdout",
     "output_type": "stream",
     "text": [
      "Apple cobbler    110\n",
      "Name: Which of these desserts do you typically have at Thanksgiving dinner? Please select all that apply.   - Apple cobbler, dtype: int64\n",
      "\n",
      "Blondies    16\n",
      "Name: Which of these desserts do you typically have at Thanksgiving dinner? Please select all that apply.   - Blondies, dtype: int64\n",
      "\n",
      "Brownies    128\n",
      "Name: Which of these desserts do you typically have at Thanksgiving dinner? Please select all that apply.   - Brownies, dtype: int64\n",
      "\n",
      "Carrot cake    72\n",
      "Name: Which of these desserts do you typically have at Thanksgiving dinner? Please select all that apply.   - Carrot cake, dtype: int64\n",
      "\n",
      "Cheesecake    191\n",
      "Name: Which of these desserts do you typically have at Thanksgiving dinner? Please select all that apply.   - Cheesecake, dtype: int64\n",
      "\n",
      "Cookies    204\n",
      "Name: Which of these desserts do you typically have at Thanksgiving dinner? Please select all that apply.   - Cookies, dtype: int64\n",
      "\n",
      "Fudge    43\n",
      "Name: Which of these desserts do you typically have at Thanksgiving dinner? Please select all that apply.   - Fudge, dtype: int64\n",
      "\n",
      "Ice cream    266\n",
      "Name: Which of these desserts do you typically have at Thanksgiving dinner? Please select all that apply.   - Ice cream, dtype: int64\n",
      "\n",
      "Peach cobbler    103\n",
      "Name: Which of these desserts do you typically have at Thanksgiving dinner? Please select all that apply.   - Peach cobbler, dtype: int64\n",
      "\n",
      "None    295\n",
      "Name: Which of these desserts do you typically have at Thanksgiving dinner? Please select all that apply.   - None, dtype: int64\n",
      "\n",
      "Other (please specify)    134\n",
      "Name: Which of these desserts do you typically have at Thanksgiving dinner? Please select all that apply.   - Other (please specify), dtype: int64\n",
      "\n",
      "pie                                                            13\n",
      "Pie                                                            12\n",
      "pies                                                            6\n",
      "pumpkin pie                                                     4\n",
      "Pumpkin pie                                                     4\n",
      "Pies                                                            3\n",
      "chocolate cake                                                  3\n",
      "cake                                                            2\n",
      "Pumpkin Pie                                                     2\n",
      "Flan                                                            2\n",
      "Chocolate Cake                                                  1\n",
      "Pecan and pumpkin pie                                           1\n",
      "Pound Cake                                                      1\n",
      "Fruit salad                                                     1\n",
      "watergate salad                                                 1\n",
      "Triple Treat (butterscotch, cream cheese mix, and nut crust     1\n",
      "lemon cake                                                      1\n",
      "pumpkin roll                                                    1\n",
      "eclair                                                          1\n",
      "German Chocolate cake                                           1\n",
      "pumpkin pie. why ask this twice?                                1\n",
      "pies selected in previous question (apple, pumpkin)             1\n",
      "With pie listed above                                           1\n",
      "Chocolate Oreo pudding cake                                     1\n",
      "Just pie                                                        1\n",
      "a variety of pies                                               1\n",
      "banana pudding                                                  1\n",
      "as above                                                        1\n",
      "THE PIE YOU JUST ASKED ABOUT.                                   1\n",
      "chocolate cake or coconut cake                                  1\n",
      "                                                               ..\n",
      "pie-spple & pecan                                               1\n",
      "just pie                                                        1\n",
      "usually plus another non-pie desert                             1\n",
      "Chocolate trifle, bread pudding                                 1\n",
      "Cake (not carrot)                                               1\n",
      "Restaurant with various choices.                                1\n",
      "Some sort of chocolate dessert                                  1\n",
      "Pies....Look at #8 answer!                                      1\n",
      "cheesecake.                                                     1\n",
      "Pecan pie                                                       1\n",
      "bread pudding                                                   1\n",
      "Pumpkin log                                                     1\n",
      "Lemon Pound, Sour Cream Pound, Rum Cake                         1\n",
      "I don't know                                                    1\n",
      "pies: pumpkin with cie cream vanilla, apple, pecan              1\n",
      "Green cake                                                      1\n",
      "Pumpkin Chiffon Pie                                             1\n",
      "Pie, pumpkin                                                    1\n",
      "see above                                                       1\n",
      "whipped cream for pie                                           1\n",
      "Banana Pudding                                                  1\n",
      "varies                                                          1\n",
      "german chocolate cake                                           1\n",
      "Jelly roll, sweet cheeseball, chocolate dipped berries          1\n",
      "Pumpkin Roll                                                    1\n",
      "pumpkin bars                                                    1\n",
      "chocolate mousse                                                1\n",
      "Banana bread                                                    1\n",
      "Date balls                                                      1\n",
      "Pumpkin roll                                                    1\n",
      "Name: Which of these desserts do you typically have at Thanksgiving dinner? Please select all that apply.   - Other (please specify).1, Length: 93, dtype: int64\n",
      "\n"
     ]
    }
   ],
   "source": [
    "import numpy as np\n",
    "\n",
    "dessert_cols = []\n",
    "\n",
    "for each in data.columns.values:\n",
    "    if \"Which of these desserts\" in each:\n",
    "        dessert_cols.append(each)\n",
    "        \n",
    "for each in dessert_cols:\n",
    "    print(\"%s\\n\" % (data[each].value_counts()))\n",
    "\n",
    "#print(dessert_table.iloc[:5])"
   ]
  },
  {
   "cell_type": "code",
   "execution_count": 100,
   "metadata": {},
   "outputs": [
    {
     "name": "stdout",
     "output_type": "stream",
     "text": [
      "Percent male:42\n",
      "Percent female:57\n",
      "Number of BF shoppers by gender:\n",
      "Female    127\n",
      "Male       95\n",
      "Name: What is your gender?, dtype: int64\n"
     ]
    }
   ],
   "source": [
    "# number of black friday shoppers who are male\n",
    "bf_shoppers = data[data[\"Will you shop any Black Friday sales on Thanksgiving Day?\"] == \"Yes\"]\n",
    "total = len(bf_shoppers)\n",
    "is_male = bf_shoppers[\"What is your gender?\"] == \"Male\"\n",
    "num_male = bf_shoppers[is_male].shape[0]\n",
    "num_female = total - num_male\n",
    "perc_male = num_male/total * 100\n",
    "perc_female = num_female/total * 100\n",
    "print(\"Percent male:%d\\nPercent female:%d\" % (perc_male, perc_female))\n",
    "\n",
    "\n",
    "print(\"Number of BF shoppers by gender:\\n%s\" % (bf_shoppers[\"What is your gender?\"].value_counts()))\n",
    "\n"
   ]
  },
  {
   "cell_type": "code",
   "execution_count": 106,
   "metadata": {},
   "outputs": [
    {
     "name": "stdout",
     "output_type": "stream",
     "text": [
      "Yes              43\n",
      "No               20\n",
      "Doesn't apply     7\n",
      "Name: Will you employer make you work on Black Friday?, dtype: int64\n"
     ]
    }
   ],
   "source": [
    "# Who works on black friday\n",
    "\n",
    "print(data[\"Will you employer make you work on Black Friday?\"].value_counts())"
   ]
  },
  {
   "cell_type": "code",
   "execution_count": 108,
   "metadata": {},
   "outputs": [
    {
     "name": "stdout",
     "output_type": "stream",
     "text": [
      "                                                    int_income\n",
      "Will you employer make you work on Black Friday?              \n",
      "Doesn't apply                                     57000.000000\n",
      "No                                                51944.444444\n",
      "Yes                                               56666.666667\n"
     ]
    }
   ],
   "source": [
    "income_work_table = data.pivot_table(index = \"Will you employer make you work on Black Friday?\", values = \"int_income\", aggfunc = np.mean)\n",
    "\n",
    "print(income_work_table)"
   ]
  },
  {
   "cell_type": "code",
   "execution_count": 111,
   "metadata": {},
   "outputs": [
    {
     "name": "stdout",
     "output_type": "stream",
     "text": [
      "10 or younger    518\n",
      "21 or older      165\n",
      "12                82\n",
      "13                41\n",
      "14                33\n",
      "16                31\n",
      "15                24\n",
      "11                18\n",
      "18                18\n",
      "17                10\n",
      "20                 7\n",
      "19                 4\n",
      "Name: What's the age cutoff at your \"kids' table\" at Thanksgiving?, dtype: int64\n"
     ]
    }
   ],
   "source": [
    "# Exploring kids table data\n",
    "print(data[\"What's the age cutoff at your \\\"kids' table\\\" at Thanksgiving?\"].value_counts())"
   ]
  },
  {
   "cell_type": "code",
   "execution_count": 113,
   "metadata": {},
   "outputs": [
    {
     "name": "stdout",
     "output_type": "stream",
     "text": [
      "count    951.000000\n",
      "mean      13.026288\n",
      "std        4.215303\n",
      "min       10.000000\n",
      "25%       10.000000\n",
      "50%       10.000000\n",
      "75%       15.000000\n",
      "max       21.000000\n",
      "Name: int_age_kids_table, dtype: float64\n"
     ]
    }
   ],
   "source": [
    "def extract_age_kids_table(string):\n",
    "    if pd.isnull(string):\n",
    "        return None\n",
    "    return int(string.split(\" \")[0])\n",
    "\n",
    "data[\"int_age_kids_table\"] = data[\"What's the age cutoff at your \\\"kids' table\\\" at Thanksgiving?\"].apply(extract_age_kids_table)\n",
    "\n",
    "\n",
    "print(data[\"int_age_kids_table\"].describe())"
   ]
  },
  {
   "cell_type": "code",
   "execution_count": 115,
   "metadata": {},
   "outputs": [
    {
     "name": "stdout",
     "output_type": "stream",
     "text": [
      "                    int_age_kids_table\n",
      "US Region                             \n",
      "East North Central           12.772414\n",
      "East South Central           12.875000\n",
      "Middle Atlantic              13.351724\n",
      "Mountain                     13.951220\n",
      "New England                  13.509091\n",
      "Pacific                      13.246154\n",
      "South Atlantic               12.931034\n",
      "West North Central           12.154930\n",
      "West South Central           12.658824\n"
     ]
    }
   ],
   "source": [
    "kids_table_region_table = data.pivot_table(index = \"US Region\", values = \"int_age_kids_table\", aggfunc=np.mean)\n",
    "\n",
    "print(kids_table_region_table)"
   ]
  },
  {
   "cell_type": "code",
   "execution_count": 120,
   "metadata": {},
   "outputs": [
    {
     "ename": "DataError",
     "evalue": "No numeric types to aggregate",
     "output_type": "error",
     "traceback": [
      "\u001b[0;31m---------------------------------------------------------------------------\u001b[0m",
      "\u001b[0;31mDataError\u001b[0m                                 Traceback (most recent call last)",
      "\u001b[0;32m<ipython-input-120-165ebae7c1d2>\u001b[0m in \u001b[0;36m<module>\u001b[0;34m()\u001b[0m\n\u001b[0;32m----> 1\u001b[0;31m \u001b[0mregion_main_dish_table\u001b[0m \u001b[0;34m=\u001b[0m \u001b[0mdata\u001b[0m\u001b[0;34m.\u001b[0m\u001b[0mpivot_table\u001b[0m\u001b[0;34m(\u001b[0m\u001b[0mindex\u001b[0m \u001b[0;34m=\u001b[0m \u001b[0;34m\"US Region\"\u001b[0m\u001b[0;34m,\u001b[0m \u001b[0mcolumns\u001b[0m \u001b[0;34m=\u001b[0m \u001b[0;34m\"What is typically the main dish at your Thanksgiving dinner?\"\u001b[0m\u001b[0;34m,\u001b[0m \u001b[0mvalues\u001b[0m \u001b[0;34m=\u001b[0m \u001b[0;34m\"What is your gender?\"\u001b[0m\u001b[0;34m)\u001b[0m\u001b[0;34m\u001b[0m\u001b[0m\n\u001b[0m\u001b[1;32m      2\u001b[0m \u001b[0;34m\u001b[0m\u001b[0m\n\u001b[1;32m      3\u001b[0m \u001b[0mprint\u001b[0m\u001b[0;34m(\u001b[0m\u001b[0mregion_main_dish_table\u001b[0m\u001b[0;34m)\u001b[0m\u001b[0;34m\u001b[0m\u001b[0m\n",
      "\u001b[0;32m/anaconda3/lib/python3.6/site-packages/pandas/core/frame.py\u001b[0m in \u001b[0;36mpivot_table\u001b[0;34m(self, values, index, columns, aggfunc, fill_value, margins, dropna, margins_name)\u001b[0m\n\u001b[1;32m   4466\u001b[0m                            \u001b[0maggfunc\u001b[0m\u001b[0;34m=\u001b[0m\u001b[0maggfunc\u001b[0m\u001b[0;34m,\u001b[0m \u001b[0mfill_value\u001b[0m\u001b[0;34m=\u001b[0m\u001b[0mfill_value\u001b[0m\u001b[0;34m,\u001b[0m\u001b[0;34m\u001b[0m\u001b[0m\n\u001b[1;32m   4467\u001b[0m                            \u001b[0mmargins\u001b[0m\u001b[0;34m=\u001b[0m\u001b[0mmargins\u001b[0m\u001b[0;34m,\u001b[0m \u001b[0mdropna\u001b[0m\u001b[0;34m=\u001b[0m\u001b[0mdropna\u001b[0m\u001b[0;34m,\u001b[0m\u001b[0;34m\u001b[0m\u001b[0m\n\u001b[0;32m-> 4468\u001b[0;31m                            margins_name=margins_name)\n\u001b[0m\u001b[1;32m   4469\u001b[0m \u001b[0;34m\u001b[0m\u001b[0m\n\u001b[1;32m   4470\u001b[0m     \u001b[0;32mdef\u001b[0m \u001b[0mstack\u001b[0m\u001b[0;34m(\u001b[0m\u001b[0mself\u001b[0m\u001b[0;34m,\u001b[0m \u001b[0mlevel\u001b[0m\u001b[0;34m=\u001b[0m\u001b[0;34m-\u001b[0m\u001b[0;36m1\u001b[0m\u001b[0;34m,\u001b[0m \u001b[0mdropna\u001b[0m\u001b[0;34m=\u001b[0m\u001b[0;32mTrue\u001b[0m\u001b[0;34m)\u001b[0m\u001b[0;34m:\u001b[0m\u001b[0;34m\u001b[0m\u001b[0m\n",
      "\u001b[0;32m/anaconda3/lib/python3.6/site-packages/pandas/core/reshape/pivot.py\u001b[0m in \u001b[0;36mpivot_table\u001b[0;34m(data, values, index, columns, aggfunc, fill_value, margins, dropna, margins_name)\u001b[0m\n\u001b[1;32m     80\u001b[0m \u001b[0;34m\u001b[0m\u001b[0m\n\u001b[1;32m     81\u001b[0m     \u001b[0mgrouped\u001b[0m \u001b[0;34m=\u001b[0m \u001b[0mdata\u001b[0m\u001b[0;34m.\u001b[0m\u001b[0mgroupby\u001b[0m\u001b[0;34m(\u001b[0m\u001b[0mkeys\u001b[0m\u001b[0;34m)\u001b[0m\u001b[0;34m\u001b[0m\u001b[0m\n\u001b[0;32m---> 82\u001b[0;31m     \u001b[0magged\u001b[0m \u001b[0;34m=\u001b[0m \u001b[0mgrouped\u001b[0m\u001b[0;34m.\u001b[0m\u001b[0magg\u001b[0m\u001b[0;34m(\u001b[0m\u001b[0maggfunc\u001b[0m\u001b[0;34m)\u001b[0m\u001b[0;34m\u001b[0m\u001b[0m\n\u001b[0m\u001b[1;32m     83\u001b[0m \u001b[0;34m\u001b[0m\u001b[0m\n\u001b[1;32m     84\u001b[0m     \u001b[0mtable\u001b[0m \u001b[0;34m=\u001b[0m \u001b[0magged\u001b[0m\u001b[0;34m\u001b[0m\u001b[0m\n",
      "\u001b[0;32m/anaconda3/lib/python3.6/site-packages/pandas/core/groupby.py\u001b[0m in \u001b[0;36maggregate\u001b[0;34m(self, arg, *args, **kwargs)\u001b[0m\n\u001b[1;32m   4289\u001b[0m         versionadded=''))\n\u001b[1;32m   4290\u001b[0m     \u001b[0;32mdef\u001b[0m \u001b[0maggregate\u001b[0m\u001b[0;34m(\u001b[0m\u001b[0mself\u001b[0m\u001b[0;34m,\u001b[0m \u001b[0marg\u001b[0m\u001b[0;34m,\u001b[0m \u001b[0;34m*\u001b[0m\u001b[0margs\u001b[0m\u001b[0;34m,\u001b[0m \u001b[0;34m**\u001b[0m\u001b[0mkwargs\u001b[0m\u001b[0;34m)\u001b[0m\u001b[0;34m:\u001b[0m\u001b[0;34m\u001b[0m\u001b[0m\n\u001b[0;32m-> 4291\u001b[0;31m         \u001b[0;32mreturn\u001b[0m \u001b[0msuper\u001b[0m\u001b[0;34m(\u001b[0m\u001b[0mDataFrameGroupBy\u001b[0m\u001b[0;34m,\u001b[0m \u001b[0mself\u001b[0m\u001b[0;34m)\u001b[0m\u001b[0;34m.\u001b[0m\u001b[0maggregate\u001b[0m\u001b[0;34m(\u001b[0m\u001b[0marg\u001b[0m\u001b[0;34m,\u001b[0m \u001b[0;34m*\u001b[0m\u001b[0margs\u001b[0m\u001b[0;34m,\u001b[0m \u001b[0;34m**\u001b[0m\u001b[0mkwargs\u001b[0m\u001b[0;34m)\u001b[0m\u001b[0;34m\u001b[0m\u001b[0m\n\u001b[0m\u001b[1;32m   4292\u001b[0m \u001b[0;34m\u001b[0m\u001b[0m\n\u001b[1;32m   4293\u001b[0m     \u001b[0magg\u001b[0m \u001b[0;34m=\u001b[0m \u001b[0maggregate\u001b[0m\u001b[0;34m\u001b[0m\u001b[0m\n",
      "\u001b[0;32m/anaconda3/lib/python3.6/site-packages/pandas/core/groupby.py\u001b[0m in \u001b[0;36maggregate\u001b[0;34m(self, arg, *args, **kwargs)\u001b[0m\n\u001b[1;32m   3722\u001b[0m \u001b[0;34m\u001b[0m\u001b[0m\n\u001b[1;32m   3723\u001b[0m         \u001b[0m_level\u001b[0m \u001b[0;34m=\u001b[0m \u001b[0mkwargs\u001b[0m\u001b[0;34m.\u001b[0m\u001b[0mpop\u001b[0m\u001b[0;34m(\u001b[0m\u001b[0;34m'_level'\u001b[0m\u001b[0;34m,\u001b[0m \u001b[0;32mNone\u001b[0m\u001b[0;34m)\u001b[0m\u001b[0;34m\u001b[0m\u001b[0m\n\u001b[0;32m-> 3724\u001b[0;31m         \u001b[0mresult\u001b[0m\u001b[0;34m,\u001b[0m \u001b[0mhow\u001b[0m \u001b[0;34m=\u001b[0m \u001b[0mself\u001b[0m\u001b[0;34m.\u001b[0m\u001b[0m_aggregate\u001b[0m\u001b[0;34m(\u001b[0m\u001b[0marg\u001b[0m\u001b[0;34m,\u001b[0m \u001b[0m_level\u001b[0m\u001b[0;34m=\u001b[0m\u001b[0m_level\u001b[0m\u001b[0;34m,\u001b[0m \u001b[0;34m*\u001b[0m\u001b[0margs\u001b[0m\u001b[0;34m,\u001b[0m \u001b[0;34m**\u001b[0m\u001b[0mkwargs\u001b[0m\u001b[0;34m)\u001b[0m\u001b[0;34m\u001b[0m\u001b[0m\n\u001b[0m\u001b[1;32m   3725\u001b[0m         \u001b[0;32mif\u001b[0m \u001b[0mhow\u001b[0m \u001b[0;32mis\u001b[0m \u001b[0;32mNone\u001b[0m\u001b[0;34m:\u001b[0m\u001b[0;34m\u001b[0m\u001b[0m\n\u001b[1;32m   3726\u001b[0m             \u001b[0;32mreturn\u001b[0m \u001b[0mresult\u001b[0m\u001b[0;34m\u001b[0m\u001b[0m\n",
      "\u001b[0;32m/anaconda3/lib/python3.6/site-packages/pandas/core/base.py\u001b[0m in \u001b[0;36m_aggregate\u001b[0;34m(self, arg, *args, **kwargs)\u001b[0m\n\u001b[1;32m    338\u001b[0m         \u001b[0;32mif\u001b[0m \u001b[0misinstance\u001b[0m\u001b[0;34m(\u001b[0m\u001b[0marg\u001b[0m\u001b[0;34m,\u001b[0m \u001b[0mcompat\u001b[0m\u001b[0;34m.\u001b[0m\u001b[0mstring_types\u001b[0m\u001b[0;34m)\u001b[0m\u001b[0;34m:\u001b[0m\u001b[0;34m\u001b[0m\u001b[0m\n\u001b[1;32m    339\u001b[0m             return self._try_aggregate_string_function(arg, *args,\n\u001b[0;32m--> 340\u001b[0;31m                                                        **kwargs), None\n\u001b[0m\u001b[1;32m    341\u001b[0m \u001b[0;34m\u001b[0m\u001b[0m\n\u001b[1;32m    342\u001b[0m         \u001b[0;32mif\u001b[0m \u001b[0misinstance\u001b[0m\u001b[0;34m(\u001b[0m\u001b[0marg\u001b[0m\u001b[0;34m,\u001b[0m \u001b[0mdict\u001b[0m\u001b[0;34m)\u001b[0m\u001b[0;34m:\u001b[0m\u001b[0;34m\u001b[0m\u001b[0m\n",
      "\u001b[0;32m/anaconda3/lib/python3.6/site-packages/pandas/core/base.py\u001b[0m in \u001b[0;36m_try_aggregate_string_function\u001b[0;34m(self, arg, *args, **kwargs)\u001b[0m\n\u001b[1;32m    294\u001b[0m         \u001b[0;32mif\u001b[0m \u001b[0mf\u001b[0m \u001b[0;32mis\u001b[0m \u001b[0;32mnot\u001b[0m \u001b[0;32mNone\u001b[0m\u001b[0;34m:\u001b[0m\u001b[0;34m\u001b[0m\u001b[0m\n\u001b[1;32m    295\u001b[0m             \u001b[0;32mif\u001b[0m \u001b[0mcallable\u001b[0m\u001b[0;34m(\u001b[0m\u001b[0mf\u001b[0m\u001b[0;34m)\u001b[0m\u001b[0;34m:\u001b[0m\u001b[0;34m\u001b[0m\u001b[0m\n\u001b[0;32m--> 296\u001b[0;31m                 \u001b[0;32mreturn\u001b[0m \u001b[0mf\u001b[0m\u001b[0;34m(\u001b[0m\u001b[0;34m*\u001b[0m\u001b[0margs\u001b[0m\u001b[0;34m,\u001b[0m \u001b[0;34m**\u001b[0m\u001b[0mkwargs\u001b[0m\u001b[0;34m)\u001b[0m\u001b[0;34m\u001b[0m\u001b[0m\n\u001b[0m\u001b[1;32m    297\u001b[0m \u001b[0;34m\u001b[0m\u001b[0m\n\u001b[1;32m    298\u001b[0m             \u001b[0;31m# people may try to aggregate on a non-callable attribute\u001b[0m\u001b[0;34m\u001b[0m\u001b[0;34m\u001b[0m\u001b[0m\n",
      "\u001b[0;32m/anaconda3/lib/python3.6/site-packages/pandas/core/groupby.py\u001b[0m in \u001b[0;36mmean\u001b[0;34m(self, *args, **kwargs)\u001b[0m\n\u001b[1;32m   1126\u001b[0m         \u001b[0mnv\u001b[0m\u001b[0;34m.\u001b[0m\u001b[0mvalidate_groupby_func\u001b[0m\u001b[0;34m(\u001b[0m\u001b[0;34m'mean'\u001b[0m\u001b[0;34m,\u001b[0m \u001b[0margs\u001b[0m\u001b[0;34m,\u001b[0m \u001b[0mkwargs\u001b[0m\u001b[0;34m,\u001b[0m \u001b[0;34m[\u001b[0m\u001b[0;34m'numeric_only'\u001b[0m\u001b[0;34m]\u001b[0m\u001b[0;34m)\u001b[0m\u001b[0;34m\u001b[0m\u001b[0m\n\u001b[1;32m   1127\u001b[0m         \u001b[0;32mtry\u001b[0m\u001b[0;34m:\u001b[0m\u001b[0;34m\u001b[0m\u001b[0m\n\u001b[0;32m-> 1128\u001b[0;31m             \u001b[0;32mreturn\u001b[0m \u001b[0mself\u001b[0m\u001b[0;34m.\u001b[0m\u001b[0m_cython_agg_general\u001b[0m\u001b[0;34m(\u001b[0m\u001b[0;34m'mean'\u001b[0m\u001b[0;34m,\u001b[0m \u001b[0;34m**\u001b[0m\u001b[0mkwargs\u001b[0m\u001b[0;34m)\u001b[0m\u001b[0;34m\u001b[0m\u001b[0m\n\u001b[0m\u001b[1;32m   1129\u001b[0m         \u001b[0;32mexcept\u001b[0m \u001b[0mGroupByError\u001b[0m\u001b[0;34m:\u001b[0m\u001b[0;34m\u001b[0m\u001b[0m\n\u001b[1;32m   1130\u001b[0m             \u001b[0;32mraise\u001b[0m\u001b[0;34m\u001b[0m\u001b[0m\n",
      "\u001b[0;32m/anaconda3/lib/python3.6/site-packages/pandas/core/groupby.py\u001b[0m in \u001b[0;36m_cython_agg_general\u001b[0;34m(self, how, alt, numeric_only, min_count)\u001b[0m\n\u001b[1;32m   3607\u001b[0m                             min_count=-1):\n\u001b[1;32m   3608\u001b[0m         new_items, new_blocks = self._cython_agg_blocks(\n\u001b[0;32m-> 3609\u001b[0;31m             how, alt=alt, numeric_only=numeric_only, min_count=min_count)\n\u001b[0m\u001b[1;32m   3610\u001b[0m         \u001b[0;32mreturn\u001b[0m \u001b[0mself\u001b[0m\u001b[0;34m.\u001b[0m\u001b[0m_wrap_agged_blocks\u001b[0m\u001b[0;34m(\u001b[0m\u001b[0mnew_items\u001b[0m\u001b[0;34m,\u001b[0m \u001b[0mnew_blocks\u001b[0m\u001b[0;34m)\u001b[0m\u001b[0;34m\u001b[0m\u001b[0m\n\u001b[1;32m   3611\u001b[0m \u001b[0;34m\u001b[0m\u001b[0m\n",
      "\u001b[0;32m/anaconda3/lib/python3.6/site-packages/pandas/core/groupby.py\u001b[0m in \u001b[0;36m_cython_agg_blocks\u001b[0;34m(self, how, alt, numeric_only, min_count)\u001b[0m\n\u001b[1;32m   3679\u001b[0m \u001b[0;34m\u001b[0m\u001b[0m\n\u001b[1;32m   3680\u001b[0m         \u001b[0;32mif\u001b[0m \u001b[0mlen\u001b[0m\u001b[0;34m(\u001b[0m\u001b[0mnew_blocks\u001b[0m\u001b[0;34m)\u001b[0m \u001b[0;34m==\u001b[0m \u001b[0;36m0\u001b[0m\u001b[0;34m:\u001b[0m\u001b[0;34m\u001b[0m\u001b[0m\n\u001b[0;32m-> 3681\u001b[0;31m             \u001b[0;32mraise\u001b[0m \u001b[0mDataError\u001b[0m\u001b[0;34m(\u001b[0m\u001b[0;34m'No numeric types to aggregate'\u001b[0m\u001b[0;34m)\u001b[0m\u001b[0;34m\u001b[0m\u001b[0m\n\u001b[0m\u001b[1;32m   3682\u001b[0m \u001b[0;34m\u001b[0m\u001b[0m\n\u001b[1;32m   3683\u001b[0m         \u001b[0;31m# reset the locs in the blocks to correspond to our\u001b[0m\u001b[0;34m\u001b[0m\u001b[0;34m\u001b[0m\u001b[0m\n",
      "\u001b[0;31mDataError\u001b[0m: No numeric types to aggregate"
     ]
    }
   ],
   "source": [
    "region_main_dish_table = data.pivot(index = \"US Region\", columns = \"What is typically the main dish at your Thanksgiving dinner?\", values = \"What is your gender?\")\n",
    "\n",
    "print(region_main_dish_table)"
   ]
  },
  {
   "cell_type": "code",
   "execution_count": null,
   "metadata": {},
   "outputs": [],
   "source": []
  }
 ],
 "metadata": {
  "kernelspec": {
   "display_name": "Python 3",
   "language": "python",
   "name": "python3"
  },
  "language_info": {
   "codemirror_mode": {
    "name": "ipython",
    "version": 3
   },
   "file_extension": ".py",
   "mimetype": "text/x-python",
   "name": "python",
   "nbconvert_exporter": "python",
   "pygments_lexer": "ipython3",
   "version": "3.6.4"
  }
 },
 "nbformat": 4,
 "nbformat_minor": 2
}
