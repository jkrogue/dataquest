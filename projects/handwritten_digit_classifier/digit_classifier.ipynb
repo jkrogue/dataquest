{
 "cells": [
  {
   "cell_type": "code",
   "execution_count": 1,
   "metadata": {},
   "outputs": [
    {
     "name": "stdout",
     "output_type": "stream",
     "text": [
      "(1797, 64)\n",
      "(1797,)\n"
     ]
    }
   ],
   "source": [
    "import pandas as pd\n",
    "import numpy as np\n",
    "from sklearn.datasets import load_digits\n",
    "from sklearn.neural_network import MLPClassifier\n",
    "from sklearn.linear_model import LogisticRegression\n",
    "from sklearn.linear_model import SGDClassifier\n",
    "from sklearn.ensemble import RandomForestClassifier\n",
    "from sklearn.tree import DecisionTreeClassifier\n",
    "from sklearn.metrics import *\n",
    "import matplotlib.pyplot as plt\n",
    "%matplotlib inline\n",
    "\n",
    "digits = load_digits()\n",
    "X = digits.data\n",
    "y = digits.target\n",
    "print(X.shape)\n",
    "print(y.shape)"
   ]
  },
  {
   "cell_type": "code",
   "execution_count": 2,
   "metadata": {},
   "outputs": [],
   "source": [
    "def reshape(pixels):\n",
    "    sqrt = int(np.sqrt(pixels.shape[0]))\n",
    "    return pixels.copy().reshape(sqrt,sqrt)\n",
    "\n",
    "def visualize(data, index):\n",
    "    pixels = data.data[index]\n",
    "    label = data.target[index]\n",
    "    pixels = reshape(pixels)\n",
    "    plt.title(label)\n",
    "    plt.imshow(pixels, cmap='gray_r')\n",
    "    \n",
    "def visualize(data, st_idx, end_idx):\n",
    "    n_images = end_idx - st_idx\n",
    "    for i in range(st_idx, end_idx):\n",
    "        subplot_idx = i - st_idx + 1\n",
    "        ax = plt.subplot(n_images,1,subplot_idx)\n",
    "        pixels = data.data[i]\n",
    "        label = data.target[i]\n",
    "        pixels = reshape(pixels)\n",
    "        ax.imshow(pixels, cmap='gray_r')\n",
    "    plt.title(label)\n",
    "    plt.show()"
   ]
  },
  {
   "cell_type": "code",
   "execution_count": 3,
   "metadata": {},
   "outputs": [
    {
     "data": {
      "image/png": "[encoded data removed]",
      "text/plain": [
       "<Figure size 432x288 with 5 Axes>"
      ]
     },
     "metadata": {},
     "output_type": "display_data"
    }
   ],
   "source": [
    "visualize(digits, 0, 5)"
   ]
  },
  {
   "cell_type": "code",
   "execution_count": 4,
   "metadata": {},
   "outputs": [],
   "source": [
    "np.random.seed(1)#for consistent results\n",
    "shuffled_index = np.random.permutation(range(X.shape[0]))\n",
    "shuffled_X = X[shuffled_index]\n",
    "shuffled_y = y[shuffled_index]\n",
    "train_test_split = int(X.shape[0] * 0.85)\n",
    "\n",
    "train_X = shuffled_X[:train_test_split]\n",
    "train_y = shuffled_y[:train_test_split]\n",
    "test_X = shuffled_X[train_test_split:]\n",
    "test_y = shuffled_y[train_test_split:]"
   ]
  },
  {
   "cell_type": "code",
   "execution_count": 5,
   "metadata": {},
   "outputs": [],
   "source": [
    "def model(clf):\n",
    "    global train_X, train_y, test_X, test_y\n",
    "    clf = clf.fit(train_X, train_y)\n",
    "    train_preds = clf.predict(train_X)\n",
    "    test_preds = clf.predict(test_X)\n",
    "    acc = {}\n",
    "    acc['train'] = accuracy_score(train_y, train_preds)\n",
    "    acc['test'] = accuracy_score(test_y, test_preds)\n",
    "    return acc\n",
    "\n",
    "def print_acc(model_name, acc):\n",
    "    print (\"\"\"\n",
    "{}\n",
    "Train: {:.2%}\\tTest: {:.2%}\"\"\".format(model_name,acc['train'],acc['test']))"
   ]
  },
  {
   "cell_type": "code",
   "execution_count": 6,
   "metadata": {},
   "outputs": [
    {
     "name": "stdout",
     "output_type": "stream",
     "text": [
      "\n",
      "Logistic Regression\n",
      "Train: 99.74%\tTest: 94.44%\n"
     ]
    }
   ],
   "source": [
    "log_acc = model(LogisticRegression())\n",
    "print_acc(\"Logistic Regression\",log_acc)"
   ]
  },
  {
   "cell_type": "markdown",
   "metadata": {},
   "source": [
    "Logistic regression alone works pretty well here, with accuracies ~94.4%!  There is some overfitting, let's see if we can improve with increasing weight of L2 regularization"
   ]
  },
  {
   "cell_type": "code",
   "execution_count": 7,
   "metadata": {},
   "outputs": [
    {
     "name": "stdout",
     "output_type": "stream",
     "text": [
      "\n",
      "Logistic Regression\n",
      "Train: 98.30%\tTest: 97.04%\n"
     ]
    }
   ],
   "source": [
    "log_acc = model(LogisticRegression(C=0.01))\n",
    "print_acc(\"Logistic Regression\",log_acc)"
   ]
  },
  {
   "cell_type": "markdown",
   "metadata": {},
   "source": [
    "Through regularization we were able to improve results to 97%"
   ]
  },
  {
   "cell_type": "code",
   "execution_count": 8,
   "metadata": {},
   "outputs": [
    {
     "name": "stdout",
     "output_type": "stream",
     "text": [
      "\n",
      "Single unit nn (logistic regression)\n",
      "Train: 99.87%\tTest: 94.81%\n"
     ]
    }
   ],
   "source": [
    "nn_log = model(MLPClassifier(hidden_layer_sizes=(), max_iter=1000,random_state=1))\n",
    "print_acc('Single unit nn (logistic regression)',nn_log)"
   ]
  },
  {
   "cell_type": "markdown",
   "metadata": {},
   "source": [
    "As expected, single output neuron network has performance similar to logistic regression as that's all it's doing!"
   ]
  },
  {
   "cell_type": "code",
   "execution_count": 9,
   "metadata": {},
   "outputs": [
    {
     "name": "stdout",
     "output_type": "stream",
     "text": [
      "MLP with single hidden layer\n",
      "\n",
      "1 hidden units\n",
      "Train: 28.81%\tTest: 24.07%\n",
      "\n",
      "8 hidden units\n",
      "Train: 98.10%\tTest: 91.48%\n",
      "\n",
      "16 hidden units\n",
      "Train: 100.00%\tTest: 96.30%\n",
      "\n",
      "32 hidden units\n",
      "Train: 100.00%\tTest: 96.30%\n",
      "\n",
      "64 hidden units\n",
      "Train: 100.00%\tTest: 97.78%\n",
      "\n",
      "128 hidden units\n",
      "Train: 100.00%\tTest: 96.67%\n",
      "\n",
      "256 hidden units\n",
      "Train: 100.00%\tTest: 97.04%\n",
      "\n",
      "512 hidden units\n",
      "Train: 100.00%\tTest: 97.41%\n",
      "\n",
      "1024 hidden units\n",
      "Train: 100.00%\tTest: 97.04%\n"
     ]
    }
   ],
   "source": [
    "neurons = [1,8,16,32,64,128,256,512,1024]\n",
    "accuracies = []\n",
    "aucs = []\n",
    "print(\"MLP with single hidden layer\")\n",
    "for each in neurons:\n",
    "    nn = MLPClassifier(hidden_layer_sizes=(each), max_iter=1000,activation='relu', random_state=1)\n",
    "    acc = model(nn)\n",
    "    print_acc('{} hidden units'.format(each), acc)"
   ]
  },
  {
   "cell_type": "markdown",
   "metadata": {},
   "source": [
    "Test set accuracy increases with number of hidden units until 64 then we begin to suffer increased error likely 2/2 overfitting.  Interestingly, making hidden layer size smaller than output size actually decreases accuracy, which makes sense as you're boing down all features into 1 neuron and then trying to expand from there.  If you want to learn hierarchical representation of features, likely need to start with larger number of hidden units and then boil down to output size"
   ]
  },
  {
   "cell_type": "code",
   "execution_count": 10,
   "metadata": {},
   "outputs": [
    {
     "name": "stdout",
     "output_type": "stream",
     "text": [
      "MLP with two hidden layers\n",
      "\n",
      "1 hidden units\n",
      "Train: 28.09%\tTest: 25.93%\n",
      "\n",
      "8 hidden units\n",
      "Train: 98.49%\tTest: 91.85%\n",
      "\n",
      "16 hidden units\n",
      "Train: 100.00%\tTest: 95.19%\n",
      "\n",
      "32 hidden units\n",
      "Train: 100.00%\tTest: 97.04%\n",
      "\n",
      "64 hidden units\n",
      "Train: 100.00%\tTest: 97.41%\n",
      "\n",
      "128 hidden units\n",
      "Train: 100.00%\tTest: 97.78%\n",
      "\n",
      "256 hidden units\n",
      "Train: 100.00%\tTest: 98.15%\n",
      "\n",
      "512 hidden units\n",
      "Train: 100.00%\tTest: 98.52%\n",
      "\n",
      "1024 hidden units\n",
      "Train: 100.00%\tTest: 98.15%\n"
     ]
    }
   ],
   "source": [
    "neurons = [1,8,16,32,64,128,256,512,1024]\n",
    "accuracies = []\n",
    "aucs = []\n",
    "print(\"MLP with two hidden layers\")\n",
    "for each in neurons:\n",
    "    nn = MLPClassifier(hidden_layer_sizes=(each,each), max_iter=1000,activation='relu', random_state=1)\n",
    "    acc = model(nn)\n",
    "    print_acc('{} hidden units'.format(each), acc)\n"
   ]
  },
  {
   "cell_type": "code",
   "execution_count": 11,
   "metadata": {},
   "outputs": [
    {
     "name": "stdout",
     "output_type": "stream",
     "text": [
      "MLP with three hidden layers\n",
      "\n",
      "1 hidden units\n",
      "Train: 22.99%\tTest: 19.26%\n",
      "\n",
      "8 hidden units\n",
      "Train: 98.23%\tTest: 90.74%\n",
      "\n",
      "16 hidden units\n",
      "Train: 99.93%\tTest: 93.33%\n",
      "\n",
      "32 hidden units\n",
      "Train: 100.00%\tTest: 95.93%\n",
      "\n",
      "64 hidden units\n",
      "Train: 100.00%\tTest: 97.41%\n",
      "\n",
      "128 hidden units\n",
      "Train: 100.00%\tTest: 96.67%\n",
      "\n",
      "256 hidden units\n",
      "Train: 100.00%\tTest: 98.15%\n",
      "\n",
      "512 hidden units\n",
      "Train: 100.00%\tTest: 98.52%\n",
      "\n",
      "1024 hidden units\n",
      "Train: 100.00%\tTest: 98.52%\n"
     ]
    }
   ],
   "source": [
    "neurons = [1,8,16,32,64,128,256,512,1024]\n",
    "accuracies = []\n",
    "aucs = []\n",
    "print(\"MLP with three hidden layers\")\n",
    "for each in neurons:\n",
    "    nn = MLPClassifier(hidden_layer_sizes=(each,each,each), max_iter=1000,activation='relu', random_state=1)\n",
    "    acc = model(nn)\n",
    "    print_acc('{} hidden units'.format(each), acc)\n"
   ]
  },
  {
   "cell_type": "markdown",
   "metadata": {},
   "source": [
    "Increasing number of layers improves accuracy with large numbers of hidden units.  In those with smaller number of hidden units, accuracy doesn't improve or begins to overfit.\n",
    "\n",
    "Best models = 2 or 3 layers with 512 units or 3 layers with 1024 units "
   ]
  },
  {
   "cell_type": "code",
   "execution_count": 14,
   "metadata": {},
   "outputs": [
    {
     "name": "stdout",
     "output_type": "stream",
     "text": [
      "\n",
      "Decision Tree (unregularized)\n",
      "Train: 100.00%\tTest: 87.78%\n"
     ]
    }
   ],
   "source": [
    "tree_acc = model(DecisionTreeClassifier(random_state=1))\n",
    "print_acc(\"Decision Tree (unregularized)\", tree_acc)"
   ]
  },
  {
   "cell_type": "markdown",
   "metadata": {},
   "source": [
    "As expected, single decision tree overfit the training data, let's try a random forest"
   ]
  },
  {
   "cell_type": "code",
   "execution_count": 15,
   "metadata": {},
   "outputs": [
    {
     "name": "stdout",
     "output_type": "stream",
     "text": [
      "\n",
      "Random Forest\n",
      "Train: 100.00%\tTest: 97.41%\n"
     ]
    }
   ],
   "source": [
    "rf_acc =model(RandomForestClassifier(n_estimators=100, random_state=1))\n",
    "print_acc('Random Forest', rf_acc)"
   ]
  },
  {
   "cell_type": "markdown",
   "metadata": {},
   "source": [
    "Accuracy of random forest classifier with 100 trees a bit better than regularized logistic regression"
   ]
  },
  {
   "cell_type": "markdown",
   "metadata": {},
   "source": [
    "### Overall accuracy\n",
    "* 98.5%: NN with 2 layers and 512 hidden units each\n",
    "* 97.4%: Random forest\n",
    "* 97.0%: regularized logistic regression\n",
    "* 94.8%: unregularized logistic regression\n",
    "* 87.8%: unregularized decision tree"
   ]
  }
 ],
 "metadata": {
  "anaconda-cloud": {},
  "kernelspec": {
   "display_name": "Python 3",
   "language": "python",
   "name": "python3"
  },
  "language_info": {
   "codemirror_mode": {
    "name": "ipython",
    "version": 3
   },
   "file_extension": ".py",
   "mimetype": "text/x-python",
   "name": "python",
   "nbconvert_exporter": "python",
   "pygments_lexer": "ipython3",
   "version": "3.6.5"
  }
 },
 "nbformat": 4,
 "nbformat_minor": 2
}
