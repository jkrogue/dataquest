{
 "cells": [
  {
   "cell_type": "markdown",
   "metadata": {},
   "source": [
    "# Unemployment Rates: overview of dataset\n",
    "\n",
    "unrate.csv contains unemployment rate in St. Louis as time series from 1948 - 2016\n",
    "\n",
    "Here's a preview of the dataset:\n",
    "\n",
    "DATE: VALUE\n",
    "\n",
    "1948-01-01: .4\n",
    "\n",
    "1948-02-01: 3.8\n",
    "\n",
    "1948-03-01: 4.0\n",
    "\n",
    "1948-04-01: 3.9\n",
    "\n",
    "1948-05-01: 3.5"
   ]
  },
  {
   "cell_type": "code",
   "execution_count": null,
   "metadata": {},
   "outputs": [],
   "source": []
  },
  {
   "cell_type": "code",
   "execution_count": 1,
   "metadata": {},
   "outputs": [
    {
     "name": "stdout",
     "output_type": "stream",
     "text": [
      "         DATE  UNRATE\n",
      "0  1948-01-01     3.4\n",
      "1  1948-02-01     3.8\n",
      "2  1948-03-01     4.0\n",
      "3  1948-04-01     3.9\n",
      "4  1948-05-01     3.5\n",
      "5  1948-06-01     3.6\n",
      "6  1948-07-01     3.6\n",
      "7  1948-08-01     3.9\n",
      "8  1948-09-01     3.8\n",
      "9  1948-10-01     3.7\n",
      "10 1948-11-01     3.8\n",
      "11 1948-12-01     4.0\n"
     ]
    }
   ],
   "source": [
    "# load the dataframe, convert dates to actual datetime objects, and prints out first 12 (rates for year 1948)\n",
    "\n",
    "import pandas as pd\n",
    "import numpy as np\n",
    "\n",
    "unrate = pd.read_csv(\"data/unrate.csv\")\n",
    "\n",
    "unrate[\"DATE\"] = pd.to_datetime(unrate[\"DATE\"])\n",
    "\n",
    "print(unrate.head(12))"
   ]
  },
  {
   "cell_type": "code",
   "execution_count": 2,
   "metadata": {},
   "outputs": [
    {
     "name": "stdout",
     "output_type": "stream",
     "text": [
      "1984 results:           DATE  UNRATE\n",
      "432 1984-01-01     8.0\n",
      "433 1984-02-01     7.8\n",
      "434 1984-03-01     7.8\n",
      "435 1984-04-01     7.7\n",
      "436 1984-05-01     7.4\n",
      "437 1984-06-01     7.2\n",
      "438 1984-07-01     7.5\n",
      "439 1984-08-01     7.5\n",
      "440 1984-09-01     7.3\n",
      "441 1984-10-01     7.4\n",
      "442 1984-11-01     7.2\n",
      "443 1984-12-01     7.3\n",
      "1984 average: 7.51 %\n"
     ]
    }
   ],
   "source": [
    "# allow selection of datetime by years, and demonstrate how this is done in year 1984\n",
    "def year_equals(datetime,year):\n",
    "    return datetime.year == int(year)\n",
    "\n",
    "res_1984 = unrate[unrate[\"DATE\"].apply(year_equals,year=1984)]\n",
    "print(\"1984 results: %s\" % res_1984[[\"DATE\",\"UNRATE\"]])\n",
    "print(\"1984 average: %.2f %%\" % np.mean(res_1984[\"UNRATE\"]))"
   ]
  },
  {
   "cell_type": "code",
   "execution_count": 3,
   "metadata": {},
   "outputs": [
    {
     "name": "stdout",
     "output_type": "stream",
     "text": [
      "         DATE  UNRATE\n",
      "0  1948-01-01     3.4\n",
      "1  1948-02-01     3.8\n",
      "2  1948-03-01     4.0\n",
      "3  1948-04-01     3.9\n",
      "4  1948-05-01     3.5\n",
      "5  1948-06-01     3.6\n",
      "6  1948-07-01     3.6\n",
      "7  1948-08-01     3.9\n",
      "8  1948-09-01     3.8\n",
      "9  1948-10-01     3.7\n",
      "10 1948-11-01     3.8\n",
      "11 1948-12-01     4.0\n"
     ]
    },
    {
     "data": {
      "image/png": "[encoded data removed]",
      "text/plain": [
       "<matplotlib.figure.Figure at 0x11417c7b8>"
      ]
     },
     "metadata": {},
     "output_type": "display_data"
    }
   ],
   "source": [
    "# beginning to work with plots\n",
    "\n",
    "import matplotlib.pyplot as plt\n",
    "\n",
    "%matplotlib inline\n",
    "\n",
    "df_1948 = unrate.head(12)\n",
    "print (df_1948)\n",
    "plt.plot(df_1948[\"DATE\"], df_1948[\"UNRATE\"])\n",
    "plt.show()"
   ]
  },
  {
   "cell_type": "code",
   "execution_count": 1,
   "metadata": {},
   "outputs": [
    {
     "ename": "NameError",
     "evalue": "name 'unrate' is not defined",
     "output_type": "error",
     "traceback": [
      "\u001b[0;31m---------------------------------------------------------------------------\u001b[0m",
      "\u001b[0;31mNameError\u001b[0m                                 Traceback (most recent call last)",
      "\u001b[0;32m<ipython-input-1-6fa538378ce8>\u001b[0m in \u001b[0;36m<module>\u001b[0;34m()\u001b[0m\n\u001b[1;32m      1\u001b[0m \u001b[0;31m# format plot to rotate x-axis labels 90*\u001b[0m\u001b[0;34m\u001b[0m\u001b[0;34m\u001b[0m\u001b[0m\n\u001b[0;32m----> 2\u001b[0;31m \u001b[0mvalues_1948\u001b[0m \u001b[0;34m=\u001b[0m \u001b[0munrate\u001b[0m\u001b[0;34m.\u001b[0m\u001b[0mhead\u001b[0m\u001b[0;34m(\u001b[0m\u001b[0;36m12\u001b[0m\u001b[0;34m)\u001b[0m\u001b[0;34m\u001b[0m\u001b[0m\n\u001b[0m\u001b[1;32m      3\u001b[0m \u001b[0;34m\u001b[0m\u001b[0m\n\u001b[1;32m      4\u001b[0m \u001b[0mplt\u001b[0m\u001b[0;34m.\u001b[0m\u001b[0mplot\u001b[0m\u001b[0;34m(\u001b[0m\u001b[0mvalues_1948\u001b[0m\u001b[0;34m[\u001b[0m\u001b[0;34m\"DATE\"\u001b[0m\u001b[0;34m]\u001b[0m\u001b[0;34m,\u001b[0m\u001b[0mvalues_1948\u001b[0m\u001b[0;34m[\u001b[0m\u001b[0;34m\"UNRATE\"\u001b[0m\u001b[0;34m]\u001b[0m\u001b[0;34m)\u001b[0m\u001b[0;34m\u001b[0m\u001b[0m\n\u001b[1;32m      5\u001b[0m \u001b[0mplt\u001b[0m\u001b[0;34m.\u001b[0m\u001b[0mset_xticks\u001b[0m\u001b[0;34m(\u001b[0m\u001b[0mrotation\u001b[0m\u001b[0;34m=\u001b[0m\u001b[0;36m90\u001b[0m\u001b[0;34m)\u001b[0m\u001b[0;34m\u001b[0m\u001b[0m\n",
      "\u001b[0;31mNameError\u001b[0m: name 'unrate' is not defined"
     ]
    }
   ],
   "source": [
    "# format plot to rotate x-axis labels 90*\n",
    "values_1948 = unrate.head(12)\n",
    "\n",
    "plt.plot(values_1948[\"DATE\"],values_1948[\"UNRATE\"])\n",
    "plt.xticks(rotation=90)\n",
    "plt.show()"
   ]
  },
  {
   "cell_type": "code",
   "execution_count": null,
   "metadata": {},
   "outputs": [],
   "source": [
    "# generating plot again for practice, then add labels/title\n",
    "\n",
    "values_1948 = unrate.iloc[:12]\n",
    "plt.plot(values_1948[\"DATE\"], values_1948[\"UNRATE\"])\n",
    "plt.xticks(rotation=90)\n",
    "plt.xlabel(\"Month\")\n",
    "plt.ylabel(\"Unemployment Rate\")\n",
    "plt.title(\"Monthly Unemployment Trends, 1948\")\n",
    "plt.show()"
   ]
  },
  {
   "cell_type": "code",
   "execution_count": null,
   "metadata": {},
   "outputs": [],
   "source": [
    "# Generate chart for all years\n",
    "\n",
    "plt.plot(unrate[\"DATE\"],unrate[\"UNRATE\"])\n",
    "#plt.xticks(rotation = 90)\n",
    "plt.xlabel(\"Year\")\n",
    "plt.ylabel(\"Unemployment rate\")\n",
    "plt.title(\"Unemployment Trends, by Year\")\n",
    "plt.show()"
   ]
  },
  {
   "cell_type": "code",
   "execution_count": null,
   "metadata": {},
   "outputs": [],
   "source": []
  }
 ],
 "metadata": {
  "kernelspec": {
   "display_name": "Python 3",
   "language": "python",
   "name": "python3"
  },
  "language_info": {
   "codemirror_mode": {
    "name": "ipython",
    "version": 3
   },
   "file_extension": ".py",
   "mimetype": "text/x-python",
   "name": "python",
   "nbconvert_exporter": "python",
   "pygments_lexer": "ipython3",
   "version": "3.6.4"
  }
 },
 "nbformat": 4,
 "nbformat_minor": 2
}
