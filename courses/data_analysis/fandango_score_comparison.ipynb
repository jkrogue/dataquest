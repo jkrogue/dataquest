{
 "cells": [
  {
   "cell_type": "markdown",
   "metadata": {},
   "source": [
    "# Working with Fandango Score Comparison (Pandas Internals: Series and Dataframe)\n",
    "\n",
    "### Columns:\n",
    "* FILM - Film name\n",
    "* RottenTomatoes - Average critic score on Rotten Tomatoes\n",
    "* RottenTomatoes_User - Average user score on Rotten Tomatoes\n",
    "* RT_norm - Average critic score on Rotten Tomatoes (normalized to a 0 to 5-point system)\n",
    "* RT_user-norm - Average user score on Rotten Tomatoes (normalized to a 0 to 5-point system)\n",
    "* Metacritic - Average critic score on Metacritic\n",
    "* Metacritic_User - Average user score on Metacritic"
   ]
  },
  {
   "cell_type": "code",
   "execution_count": 1,
   "metadata": {},
   "outputs": [
    {
     "name": "stdout",
     "output_type": "stream",
     "text": [
      "                             FILM  RottenTomatoes  RottenTomatoes_User  \\\n",
      "0  Avengers: Age of Ultron (2015)              74                   86   \n",
      "1               Cinderella (2015)              85                   80   \n",
      "\n",
      "   Metacritic  Metacritic_User  IMDB  Fandango_Stars  Fandango_Ratingvalue  \\\n",
      "0          66              7.1   7.8             5.0                   4.5   \n",
      "1          67              7.5   7.1             5.0                   4.5   \n",
      "\n",
      "   RT_norm  RT_user_norm         ...           IMDB_norm  RT_norm_round  \\\n",
      "0     3.70           4.3         ...                3.90            3.5   \n",
      "1     4.25           4.0         ...                3.55            4.5   \n",
      "\n",
      "   RT_user_norm_round  Metacritic_norm_round  Metacritic_user_norm_round  \\\n",
      "0                 4.5                    3.5                         3.5   \n",
      "1                 4.0                    3.5                         4.0   \n",
      "\n",
      "   IMDB_norm_round  Metacritic_user_vote_count  IMDB_user_vote_count  \\\n",
      "0              4.0                        1330                271107   \n",
      "1              3.5                         249                 65709   \n",
      "\n",
      "   Fandango_votes  Fandango_Difference  \n",
      "0           14846                  0.5  \n",
      "1           12640                  0.5  \n",
      "\n",
      "[2 rows x 22 columns]\n"
     ]
    }
   ],
   "source": [
    "import pandas as pd\n",
    "import numpy as np\n",
    "\n",
    "fandango = pd.read_csv(\"data/fandango_score_comparison.csv\")\n",
    "\n",
    "print (fandango.head(2))"
   ]
  },
  {
   "cell_type": "code",
   "execution_count": 2,
   "metadata": {},
   "outputs": [
    {
     "name": "stdout",
     "output_type": "stream",
     "text": [
      "0    Avengers: Age of Ultron (2015)\n",
      "1                 Cinderella (2015)\n",
      "2                    Ant-Man (2015)\n",
      "3            Do You Believe? (2015)\n",
      "4     Hot Tub Time Machine 2 (2015)\n",
      "Name: FILM, dtype: object\n",
      "0    74\n",
      "1    85\n",
      "2    80\n",
      "3    18\n",
      "4    14\n",
      "Name: RottenTomatoes, dtype: int64\n"
     ]
    }
   ],
   "source": [
    "series_film = fandango[\"FILM\"]\n",
    "print(series_film.loc[0:4])\n",
    "\n",
    "series_rt = fandango[\"RottenTomatoes\"]\n",
    "print(series_rt.loc[0:4])"
   ]
  },
  {
   "cell_type": "code",
   "execution_count": 3,
   "metadata": {},
   "outputs": [],
   "source": [
    "film_names = list(fandango[\"FILM\"])\n",
    "series_custom = pd.Series(data = list(series_rt), index = film_names)"
   ]
  },
  {
   "cell_type": "code",
   "execution_count": 4,
   "metadata": {},
   "outputs": [
    {
     "name": "stdout",
     "output_type": "stream",
     "text": [
      "The Water Diviner (2015)             63\n",
      "Irrational Man (2015)                42\n",
      "Top Five (2014)                      86\n",
      "Shaun the Sheep Movie (2015)         99\n",
      "Love & Mercy (2015)                  89\n",
      "Far From The Madding Crowd (2015)    84\n",
      "dtype: int64\n"
     ]
    }
   ],
   "source": [
    "fiveten = series_custom.iloc[5:11]\n",
    "print(fiveten)"
   ]
  },
  {
   "cell_type": "code",
   "execution_count": 5,
   "metadata": {},
   "outputs": [],
   "source": [
    "original_index = series_custom.index\n",
    "\n",
    "new_index = sorted(original_index)\n",
    "\n",
    "sorted_by_index = series_custom.reindex(new_index)"
   ]
  },
  {
   "cell_type": "code",
   "execution_count": 6,
   "metadata": {},
   "outputs": [
    {
     "name": "stdout",
     "output_type": "stream",
     "text": [
      "'71 (2015)                    97\n",
      "5 Flights Up (2015)           52\n",
      "A Little Chaos (2015)         40\n",
      "A Most Violent Year (2014)    90\n",
      "About Elly (2015)             97\n",
      "dtype: int64\n"
     ]
    }
   ],
   "source": [
    "print(sorted_by_index.iloc[0:5])"
   ]
  },
  {
   "cell_type": "code",
   "execution_count": 7,
   "metadata": {},
   "outputs": [
    {
     "name": "stdout",
     "output_type": "stream",
     "text": [
      "74\n"
     ]
    }
   ],
   "source": [
    "print(sorted_by_index.loc['Avengers: Age of Ultron (2015)'])"
   ]
  },
  {
   "cell_type": "code",
   "execution_count": 8,
   "metadata": {},
   "outputs": [
    {
     "name": "stdout",
     "output_type": "stream",
     "text": [
      "'71 (2015)                    97\n",
      "5 Flights Up (2015)           52\n",
      "A Little Chaos (2015)         40\n",
      "A Most Violent Year (2014)    90\n",
      "About Elly (2015)             97\n",
      "Aloha (2015)                  19\n",
      "American Sniper (2015)        72\n",
      "American Ultra (2015)         46\n",
      "Amy (2015)                    97\n",
      "Annie (2014)                  27\n",
      "dtype: int64\n",
      "Paul Blart: Mall Cop 2 (2015)     5\n",
      "Hitman: Agent 47 (2015)           7\n",
      "Hot Pursuit (2015)                8\n",
      "Fantastic Four (2015)             9\n",
      "Taken 3 (2015)                    9\n",
      "The Boy Next Door (2015)         10\n",
      "The Loft (2015)                  11\n",
      "Unfinished Business (2015)       11\n",
      "Mortdecai (2015)                 12\n",
      "Seventh Son (2015)               12\n",
      "dtype: int64\n"
     ]
    }
   ],
   "source": [
    "sc2 = series_custom.sort_index()\n",
    "sc3 = series_custom.sort_values()\n",
    "\n",
    "print(sc2.iloc[0:10])\n",
    "print(sc3.iloc[0:10])"
   ]
  },
  {
   "cell_type": "code",
   "execution_count": 9,
   "metadata": {},
   "outputs": [],
   "source": [
    "new_df = fandango.loc[:10,[\"RottenTomatoes\",\"RottenTomatoes_User\"]]"
   ]
  },
  {
   "cell_type": "code",
   "execution_count": 10,
   "metadata": {},
   "outputs": [
    {
     "name": "stdout",
     "output_type": "stream",
     "text": [
      "    RottenTomatoes  RottenTomatoes_User\n",
      "0               74                   86\n",
      "1               85                   80\n",
      "2               80                   90\n",
      "3               18                   84\n",
      "4               14                   28\n",
      "5               63                   62\n",
      "6               42                   53\n",
      "7               86                   64\n",
      "8               99                   82\n",
      "9               89                   87\n",
      "10              84                   77\n"
     ]
    }
   ],
   "source": [
    "print(new_df)"
   ]
  },
  {
   "cell_type": "code",
   "execution_count": 11,
   "metadata": {},
   "outputs": [],
   "source": [
    "rt_series = pd.Series(fandango[\"RottenTomatoes\"].values, index = fandango[\"FILM\"])"
   ]
  },
  {
   "cell_type": "code",
   "execution_count": 12,
   "metadata": {},
   "outputs": [],
   "source": [
    "best_movies = pd.Series(fandango[\"RottenTomatoes\"].values, index = fandango[\"FILM\"]).sort_values(ascending = False, inplace = False)"
   ]
  },
  {
   "cell_type": "code",
   "execution_count": 13,
   "metadata": {},
   "outputs": [
    {
     "name": "stdout",
     "output_type": "stream",
     "text": [
      "FILM\n",
      "Gett: The Trial of Viviane Amsalem (2015)      100\n",
      "Seymour: An Introduction (2015)                100\n",
      "Selma (2014)                                    99\n",
      "Phoenix (2015)                                  99\n",
      "Song of the Sea (2014)                          99\n",
      "Leviathan (2014)                                99\n",
      "Shaun the Sheep Movie (2015)                    99\n",
      "Timbuktu (2015)                                 99\n",
      "Mr. Turner (2014)                               98\n",
      "Paddington (2015)                               98\n",
      "Inside Out (2015)                               98\n",
      "Mad Max: Fury Road (2015)                       97\n",
      "Amy (2015)                                      97\n",
      "Two Days, One Night (2014)                      97\n",
      "About Elly (2015)                               97\n",
      "'71 (2015)                                      97\n",
      "What We Do in the Shadows (2015)                96\n",
      "The Salt of the Earth (2015)                    96\n",
      "Red Army (2015)                                 96\n",
      "It Follows (2015)                               96\n",
      "Wild Tales (2014)                               96\n",
      "The Diary of a Teenage Girl (2015)              95\n",
      "Tangerine (2015)                                95\n",
      "I'll See You In My Dreams (2015)                94\n",
      "Monkey Kingdom (2015)                           94\n",
      "The Wrecking Crew (2015)                        93\n",
      "The Gift (2015)                                 93\n",
      "Spy (2015)                                      93\n",
      "Mission: Impossible â€“ Rogue Nation (2015)     92\n",
      "Ex Machina (2015)                               92\n",
      "                                              ... \n",
      "Annie (2014)                                    27\n",
      "Jupiter Ascending (2015)                        26\n",
      "Dark Places (2015)                              26\n",
      "Child 44 (2015)                                 26\n",
      "Terminator Genisys (2015)                       26\n",
      "Fifty Shades of Grey (2015)                     25\n",
      "The Woman In Black 2 Angel of Death (2015)      22\n",
      "Little Boy (2015)                               20\n",
      "Self/less (2015)                                20\n",
      "Aloha (2015)                                    19\n",
      "Serena (2015)                                   18\n",
      "Do You Believe? (2015)                          18\n",
      "Strange Magic (2015)                            17\n",
      "Pixels (2015)                                   17\n",
      "The Gunman (2015)                               17\n",
      "The Gallows (2015)                              16\n",
      "Hot Tub Time Machine 2 (2015)                   14\n",
      "The Lazarus Effect (2015)                       14\n",
      "Sinister 2 (2015)                               13\n",
      "The Vatican Tapes (2015)                        13\n",
      "Seventh Son (2015)                              12\n",
      "Mortdecai (2015)                                12\n",
      "Unfinished Business (2015)                      11\n",
      "The Loft (2015)                                 11\n",
      "The Boy Next Door (2015)                        10\n",
      "Taken 3 (2015)                                   9\n",
      "Fantastic Four (2015)                            9\n",
      "Hot Pursuit (2015)                               8\n",
      "Hitman: Agent 47 (2015)                          7\n",
      "Paul Blart: Mall Cop 2 (2015)                    5\n",
      "Length: 146, dtype: int64\n"
     ]
    }
   ],
   "source": [
    "print(best_movies)"
   ]
  },
  {
   "cell_type": "code",
   "execution_count": 14,
   "metadata": {},
   "outputs": [
    {
     "name": "stdout",
     "output_type": "stream",
     "text": [
      "RangeIndex(start=0, stop=146, step=1)\n"
     ]
    }
   ],
   "source": [
    "print(fandango.index)"
   ]
  },
  {
   "cell_type": "code",
   "execution_count": 15,
   "metadata": {},
   "outputs": [],
   "source": [
    "# select the first and last rows\n",
    "\n",
    "first_last = fandango.iloc[[0,-1]]"
   ]
  },
  {
   "cell_type": "code",
   "execution_count": 16,
   "metadata": {},
   "outputs": [
    {
     "name": "stdout",
     "output_type": "stream",
     "text": [
      "                                   FILM  RottenTomatoes  RottenTomatoes_User\n",
      "0        Avengers: Age of Ultron (2015)              74                   86\n",
      "145  Kumiko, The Treasure Hunter (2015)              87                   63\n"
     ]
    }
   ],
   "source": [
    "print(first_last.iloc[:,:3])"
   ]
  },
  {
   "cell_type": "code",
   "execution_count": 17,
   "metadata": {},
   "outputs": [],
   "source": [
    "# assign FILM as the index\n",
    "\n",
    "fandango_films = fandango.set_index(\"FILM\", drop = False, inplace = False)"
   ]
  },
  {
   "cell_type": "code",
   "execution_count": 18,
   "metadata": {},
   "outputs": [
    {
     "name": "stdout",
     "output_type": "stream",
     "text": [
      "Index(['Avengers: Age of Ultron (2015)', 'Cinderella (2015)', 'Ant-Man (2015)',\n",
      "       'Do You Believe? (2015)', 'Hot Tub Time Machine 2 (2015)',\n",
      "       'The Water Diviner (2015)', 'Irrational Man (2015)', 'Top Five (2014)',\n",
      "       'Shaun the Sheep Movie (2015)', 'Love & Mercy (2015)',\n",
      "       ...\n",
      "       'The Woman In Black 2 Angel of Death (2015)', 'Danny Collins (2015)',\n",
      "       'Spare Parts (2015)', 'Serena (2015)', 'Inside Out (2015)',\n",
      "       'Mr. Holmes (2015)', ''71 (2015)', 'Two Days, One Night (2014)',\n",
      "       'Gett: The Trial of Viviane Amsalem (2015)',\n",
      "       'Kumiko, The Treasure Hunter (2015)'],\n",
      "      dtype='object', name='FILM', length=146)\n"
     ]
    }
   ],
   "source": [
    "print(fandango_films.index)"
   ]
  },
  {
   "cell_type": "code",
   "execution_count": 19,
   "metadata": {},
   "outputs": [],
   "source": [
    "best_movies_ever = fandango_films = fandango_films.loc[[\"The Lazarus Effect (2015)\", \"Gett: The Trial of Viviane Amsalem (2015)\", \"Mr. Holmes (2015)\"]]"
   ]
  },
  {
   "cell_type": "code",
   "execution_count": 52,
   "metadata": {},
   "outputs": [
    {
     "name": "stdout",
     "output_type": "stream",
     "text": [
      "Metacritic_User               7.10\n",
      "IMDB                          7.80\n",
      "Fandango_Stars                5.00\n",
      "Fandango_Ratingvalue          4.50\n",
      "RT_norm                       3.70\n",
      "RT_user_norm                  4.30\n",
      "Metacritic_norm               3.30\n",
      "Metacritic_user_nom           3.55\n",
      "IMDB_norm                     3.90\n",
      "RT_norm_round                 3.50\n",
      "RT_user_norm_round            4.50\n",
      "Metacritic_norm_round         3.50\n",
      "Metacritic_user_norm_round    3.50\n",
      "IMDB_norm_round               4.00\n",
      "Fandango_Difference           0.50\n",
      "Name: 0, dtype: float64\n",
      "Metacritic_User               7.10\n",
      "IMDB                          7.80\n",
      "Fandango_Stars                5.00\n",
      "Fandango_Ratingvalue          4.50\n",
      "RT_norm                       3.70\n",
      "RT_user_norm                  4.30\n",
      "Metacritic_norm               3.30\n",
      "Metacritic_user_nom           3.55\n",
      "IMDB_norm                     3.90\n",
      "RT_norm_round                 3.50\n",
      "RT_user_norm_round            4.50\n",
      "Metacritic_norm_round         3.50\n",
      "Metacritic_user_norm_round    3.50\n",
      "IMDB_norm_round               4.00\n",
      "Fandango_Difference           0.50\n",
      "dtype: float64\n",
      "0    62.65\n",
      "dtype: float64\n",
      "   Metacritic_User\n",
      "0             14.2\n",
      "1             15.0\n",
      "Metacritic_User               1.505529\n",
      "IMDB                          0.955447\n",
      "Fandango_Stars                0.538532\n",
      "Fandango_Ratingvalue          0.501106\n",
      "RT_norm                       1.503265\n",
      "RT_user_norm                  0.997787\n",
      "Metacritic_norm               0.972522\n",
      "Metacritic_user_nom           0.752765\n",
      "IMDB_norm                     0.477723\n",
      "RT_norm_round                 1.509404\n",
      "RT_user_norm_round            1.003559\n",
      "Metacritic_norm_round         0.987561\n",
      "Metacritic_user_norm_round    0.785412\n",
      "IMDB_norm_round               0.501043\n",
      "Fandango_Difference           0.152141\n",
      "dtype: float64\n"
     ]
    }
   ],
   "source": [
    "# make a df with all the float types, then multiply each by two\n",
    "\n",
    "types = fandango.dtypes\n",
    "float_columns = types[types.values == \"float64\"].index\n",
    "float_df = fandango[float_columns]\n",
    "float_df_x_2 = float_df.apply(lambda x: x*2)\n",
    "float_df_std = float_df.apply(lambda x: np.std(x))\n",
    "print (float_df.iloc[0,])\n",
    "print (float_df.iloc[:1,].apply(lambda x: np.sum(x), axis = 0)) # will sum each row in the column, therefore with only one row will return unchanged series\n",
    "print (float_df.iloc[:1,].apply(lambda x: np.sum(x), axis = 1)) # will sum each column in a row, therefore when run on single row returns a single number \n",
    "\n",
    "print (float_df_x_2.iloc[:2,:1])\n",
    "print (float_df_std)"
   ]
  },
  {
   "cell_type": "code",
   "execution_count": 56,
   "metadata": {},
   "outputs": [
    {
     "name": "stdout",
     "output_type": "stream",
     "text": [
      "Metacritic_User               7.50\n",
      "IMDB                          7.10\n",
      "Fandango_Stars                5.00\n",
      "Fandango_Ratingvalue          4.50\n",
      "RT_norm                       4.25\n",
      "RT_user_norm                  4.00\n",
      "Metacritic_norm               3.35\n",
      "Metacritic_user_nom           3.75\n",
      "IMDB_norm                     3.55\n",
      "RT_norm_round                 4.50\n",
      "RT_user_norm_round            4.00\n",
      "Metacritic_norm_round         3.50\n",
      "Metacritic_user_norm_round    4.00\n",
      "IMDB_norm_round               3.50\n",
      "Fandango_Difference           0.50\n",
      "Name: 1, dtype: float64\n",
      "Metacritic_User               3.550\n",
      "IMDB                          3.900\n",
      "Fandango_Stars                2.500\n",
      "Fandango_Ratingvalue          2.250\n",
      "RT_norm                       1.850\n",
      "RT_user_norm                  2.150\n",
      "Metacritic_norm               1.650\n",
      "Metacritic_user_nom           1.775\n",
      "IMDB_norm                     1.950\n",
      "RT_norm_round                 1.750\n",
      "RT_user_norm_round            2.250\n",
      "Metacritic_norm_round         1.750\n",
      "Metacritic_user_norm_round    1.750\n",
      "IMDB_norm_round               2.000\n",
      "Fandango_Difference           0.250\n",
      "Name: 0, dtype: float64\n"
     ]
    }
   ],
   "source": [
    "# practicing starting again\n",
    "fandango = pd.read_csv(\"data/fandango_score_comparison.csv\")\n",
    "\n",
    "types = fandango.dtypes\n",
    "float_columns = types[types.values == \"float64\"].index\n",
    "\n",
    "float_df = fandango[float_columns]\n",
    "halved_df = float_df.apply(lambda x: x/2)\n",
    "\n",
    "print(float_df.iloc[1])\n",
    "print(halved_df.iloc[0])"
   ]
  },
  {
   "cell_type": "code",
   "execution_count": 64,
   "metadata": {},
   "outputs": [
    {
     "name": "stdout",
     "output_type": "stream",
     "text": [
      "FILM\n",
      "The Lazarus Effect (2015)                    1.800\n",
      "Gett: The Trial of Viviane Amsalem (2015)    3.850\n",
      "Mr. Holmes (2015)                            3.925\n",
      "dtype: float64\n",
      "FILM\n",
      "The Lazarus Effect (2015)                    1.800\n",
      "Gett: The Trial of Viviane Amsalem (2015)    3.850\n",
      "Mr. Holmes (2015)                            3.925\n",
      "dtype: float64\n"
     ]
    }
   ],
   "source": [
    "# get avg of each movies normalized ratings from RT_user_norm and Metacritic_user_norm\n",
    "\n",
    "rt_mt_means = fandango_films[[\"RT_user_norm\",\"Metacritic_user_nom\"]].apply(lambda x: np.mean(x), axis=1)\n",
    "print(rt_mt_means[:5])\n",
    "print(rt_mt_means)"
   ]
  },
  {
   "cell_type": "code",
   "execution_count": null,
   "metadata": {},
   "outputs": [],
   "source": []
  }
 ],
 "metadata": {
  "kernelspec": {
   "display_name": "Python 3",
   "language": "python",
   "name": "python3"
  },
  "language_info": {
   "codemirror_mode": {
    "name": "ipython",
    "version": 3
   },
   "file_extension": ".py",
   "mimetype": "text/x-python",
   "name": "python",
   "nbconvert_exporter": "python",
   "pygments_lexer": "ipython3",
   "version": "3.6.4"
  }
 },
 "nbformat": 4,
 "nbformat_minor": 2
}
