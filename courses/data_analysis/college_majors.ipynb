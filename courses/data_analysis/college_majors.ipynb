{
 "cells": [
  {
   "cell_type": "markdown",
   "metadata": {},
   "source": [
    "# Course 2.1 challenge\n",
    "\n",
    "* Rank - The major's numerical rank, by post-graduation median earnings\n",
    "* Major_code - The major's numerical code\n",
    "* Major - The major's description\n",
    "* Major_category - The major's category\n",
    "* Total - The total number of people who studied the major\n",
    "* Sample_size - Sample size (unweighted) of full-time, year-round students\n",
    "* Men - The number of men who studied the major\n",
    "* Women - The number of women who studied the major\n",
    "* ShareWomen - The share of women (from 0 to 1) who studied the major\n",
    "* Employed - The number of people who studied the major and obtained a job after graduating\n",
    "* Low_wage_jobs - Number in low-wage service jobs"
   ]
  },
  {
   "cell_type": "code",
   "execution_count": 11,
   "metadata": {},
   "outputs": [
    {
     "name": "stdout",
     "output_type": "stream",
     "text": [
      "   Major_code                                  Major  \\\n",
      "0        1100                    GENERAL AGRICULTURE   \n",
      "1        1101  AGRICULTURE PRODUCTION AND MANAGEMENT   \n",
      "2        1102                 AGRICULTURAL ECONOMICS   \n",
      "3        1103                        ANIMAL SCIENCES   \n",
      "4        1104                           FOOD SCIENCE   \n",
      "\n",
      "                    Major_category   Total  Employed  \\\n",
      "0  Agriculture & Natural Resources  128148     90245   \n",
      "1  Agriculture & Natural Resources   95326     76865   \n",
      "2  Agriculture & Natural Resources   33955     26321   \n",
      "3  Agriculture & Natural Resources  103549     81177   \n",
      "4  Agriculture & Natural Resources   24280     17281   \n",
      "\n",
      "   Employed_full_time_year_round  Unemployed  Unemployment_rate  Median  \\\n",
      "0                          74078        2423           0.026147   50000   \n",
      "1                          64240        2266           0.028636   54000   \n",
      "2                          22810         821           0.030248   63000   \n",
      "3                          64937        3619           0.042679   46000   \n",
      "4                          12722         894           0.049188   62000   \n",
      "\n",
      "   P25th    P75th  \n",
      "0  34000  80000.0  \n",
      "1  36000  80000.0  \n",
      "2  40000  98000.0  \n",
      "3  30000  72000.0  \n",
      "4  38500  90000.0  \n",
      "   Rank  Major_code                                      Major    Total  \\\n",
      "0     1        2419                      PETROLEUM ENGINEERING   2339.0   \n",
      "1     2        2416             MINING AND MINERAL ENGINEERING    756.0   \n",
      "2     3        2415                  METALLURGICAL ENGINEERING    856.0   \n",
      "3     4        2417  NAVAL ARCHITECTURE AND MARINE ENGINEERING   1258.0   \n",
      "4     5        2405                       CHEMICAL ENGINEERING  32260.0   \n",
      "\n",
      "       Men    Women Major_category  ShareWomen  Sample_size  Employed  \\\n",
      "0   2057.0    282.0    Engineering    0.120564           36      1976   \n",
      "1    679.0     77.0    Engineering    0.101852            7       640   \n",
      "2    725.0    131.0    Engineering    0.153037            3       648   \n",
      "3   1123.0    135.0    Engineering    0.107313           16       758   \n",
      "4  21239.0  11021.0    Engineering    0.341631          289     25694   \n",
      "\n",
      "       ...        Part_time  Full_time_year_round  Unemployed  \\\n",
      "0      ...              270                  1207          37   \n",
      "1      ...              170                   388          85   \n",
      "2      ...              133                   340          16   \n",
      "3      ...              150                   692          40   \n",
      "4      ...             5180                 16697        1672   \n",
      "\n",
      "   Unemployment_rate  Median  P25th   P75th  College_jobs  Non_college_jobs  \\\n",
      "0           0.018381  110000  95000  125000          1534               364   \n",
      "1           0.117241   75000  55000   90000           350               257   \n",
      "2           0.024096   73000  50000  105000           456               176   \n",
      "3           0.050125   70000  43000   80000           529               102   \n",
      "4           0.061098   65000  50000   75000         18314              4440   \n",
      "\n",
      "   Low_wage_jobs  \n",
      "0            193  \n",
      "1             50  \n",
      "2              0  \n",
      "3              0  \n",
      "4            972  \n",
      "\n",
      "[5 rows x 21 columns]\n"
     ]
    }
   ],
   "source": [
    "import pandas as pd\n",
    "import numpy as np\n",
    "\n",
    "all_ages = pd.read_csv(\"data/all-ages.csv\")\n",
    "recent_grads = pd.read_csv(\"data/recent-grads.csv\")\n",
    "\n",
    "print(all_ages.iloc[0:5])\n",
    "print(recent_grads.iloc[0:5])"
   ]
  },
  {
   "cell_type": "code",
   "execution_count": 23,
   "metadata": {},
   "outputs": [
    {
     "name": "stdout",
     "output_type": "stream",
     "text": [
      "{'Agriculture & Natural Resources': 632437, 'Biology & Life Science': 1338186, 'Engineering': 3576013, 'Humanities & Liberal Arts': 3738335, 'Communications & Journalism': 1803822, 'Computers & Mathematics': 1781378, 'Industrial Arts & Consumer Services': 1033798, 'Education': 4700118, 'Law & Public Policy': 902926, 'Interdisciplinary': 45199, 'Health': 2950859, 'Social Science': 2654125, 'Physical Sciences': 1025318, 'Psychology & Social Work': 1987278, 'Arts': 1805865, 'Business': 9858741}\n",
      "{'Engineering': 537583.0, 'Business': 1302376.0, 'Physical Sciences': 185479.0, 'Law & Public Policy': 179107.0, 'Computers & Mathematics': 299008.0, 'Agriculture & Natural Resources': 75620.0, 'Industrial Arts & Consumer Services': 229792.0, 'Arts': 357130.0, 'Health': 463230.0, 'Social Science': 529966.0, 'Biology & Life Science': 453862.0, 'Education': 559129.0, 'Humanities & Liberal Arts': 713468.0, 'Psychology & Social Work': 481007.0, 'Communications & Journalism': 392601.0, 'Interdisciplinary': 12296.0}\n"
     ]
    }
   ],
   "source": [
    "# Calculate the total people in each major category\n",
    "\n",
    "aa_unique_cats = all_ages[\"Major_category\"].unique()\n",
    "rg_unique_cats = recent_grads[\"Major_category\"].unique()\n",
    "\n",
    "def count_totals(df, categories):\n",
    "    counts = {}\n",
    "    for each in categories:\n",
    "        is_cat = df[\"Major_category\"] == each\n",
    "        selected_rows = df.loc[is_cat]\n",
    "        #print(\"%s:\\n%s\" % (each, selected_rows))\n",
    "        counts[each] = selected_rows[\"Total\"].sum()\n",
    "    return counts\n",
    "\n",
    "aa_cat_counts = count_totals(all_ages, aa_unique_cats)\n",
    "rg_cat_counts = count_totals(recent_grads, rg_unique_cats)\n",
    "\n",
    "print(aa_cat_counts)\n",
    "print(rg_cat_counts)"
   ]
  },
  {
   "cell_type": "code",
   "execution_count": 25,
   "metadata": {},
   "outputs": [
    {
     "name": "stdout",
     "output_type": "stream",
     "text": [
      "0.09858891195563152\n"
     ]
    }
   ],
   "source": [
    "# Calculate proportion of recent graduates in low wage jobs\n",
    "\n",
    "low_wage_proportion = recent_grads[\"Low_wage_jobs\"].sum() / recent_grads[\"Total\"].sum()\n",
    "print(low_wage_proportion)"
   ]
  },
  {
   "cell_type": "code",
   "execution_count": 41,
   "metadata": {},
   "outputs": [
    {
     "name": "stdout",
     "output_type": "stream",
     "text": [
      "44\n"
     ]
    }
   ],
   "source": [
    "# Calculate number of majors where recent grads did better (lower unemployment rate) than all comers\n",
    "\n",
    "majors  = recent_grads['Major'].unique()\n",
    "\n",
    "rg_lower_count = 0\n",
    "\n",
    "for each in majors:\n",
    "    rg_row = recent_grads[recent_grads[\"Major\"] == each].iloc[0]\n",
    "    aa_row = all_ages[all_ages[\"Major\"] == each].iloc[0]\n",
    "        \n",
    "    rg_unemp_rate = rg_row[\"Unemployment_rate\"]\n",
    "    aa_unemp_rate = aa_row[\"Unemployment_rate\"]\n",
    "    \n",
    "    if rg_unemp_rate < aa_unemp_rate:\n",
    "        rg_lower_count += 1\n",
    "    \n",
    "print (rg_lower_count)"
   ]
  },
  {
   "cell_type": "code",
   "execution_count": null,
   "metadata": {},
   "outputs": [],
   "source": []
  },
  {
   "cell_type": "code",
   "execution_count": null,
   "metadata": {},
   "outputs": [],
   "source": []
  }
 ],
 "metadata": {
  "kernelspec": {
   "display_name": "Python 3",
   "language": "python",
   "name": "python3"
  },
  "language_info": {
   "codemirror_mode": {
    "name": "ipython",
    "version": 3
   },
   "file_extension": ".py",
   "mimetype": "text/x-python",
   "name": "python",
   "nbconvert_exporter": "python",
   "pygments_lexer": "ipython3",
   "version": "3.6.4"
  }
 },
 "nbformat": 4,
 "nbformat_minor": 2
}
