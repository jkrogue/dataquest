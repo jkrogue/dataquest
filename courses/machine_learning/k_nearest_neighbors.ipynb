{
 "cells": [
  {
   "cell_type": "markdown",
   "metadata": {},
   "source": [
    "# K-nearest neighbors\n",
    "\n",
    "Airbnb dataset:\n",
    "* host_response_rate: the response rate of the host\n",
    "* host_acceptance_rate: number of requests to the host that convert to rentals\n",
    "* host_listings_count: number of other listings the host has\n",
    "* latitude: latitude dimension of the geographic coordinates\n",
    "* longitude: longitude part of the coordinates\n",
    "* city: the city the living space resides\n",
    "* zipcode: the zip code the living space resides\n",
    "* state: the state the living space resides\n",
    "* accommodates: the number of guests the rental can accommodate\n",
    "* room_type: the type of living space (Private room, Shared room or Entire home/apt\n",
    "* bedrooms: number of bedrooms included in the rental\n",
    "* bathrooms: number of bathrooms included in the rental\n",
    "* beds: number of beds included in the rental\n",
    "* price: nightly price for the rental\n",
    "* cleaning_fee: additional fee used for cleaning the living space after the guest leaves\n",
    "* security_deposit: refundable security deposit, in case of damages\n",
    "* minimum_nights: minimum number of nights a guest can stay for the rental\n",
    "* maximum_nights: maximum number of nights a guest can stay for the rental\n",
    "* number_of_reviews: number of reviews that previous guests have left"
   ]
  },
  {
   "cell_type": "code",
   "execution_count": 1,
   "metadata": {},
   "outputs": [
    {
     "data": {
      "text/html": [
       "<div>\n",
       "<style scoped>\n",
       "    .dataframe tbody tr th:only-of-type {\n",
       "        vertical-align: middle;\n",
       "    }\n",
       "\n",
       "    .dataframe tbody tr th {\n",
       "        vertical-align: top;\n",
       "    }\n",
       "\n",
       "    .dataframe thead th {\n",
       "        text-align: right;\n",
       "    }\n",
       "</style>\n",
       "<table border=\"1\" class=\"dataframe\">\n",
       "  <thead>\n",
       "    <tr style=\"text-align: right;\">\n",
       "      <th></th>\n",
       "      <th>host_response_rate</th>\n",
       "      <th>host_acceptance_rate</th>\n",
       "      <th>host_listings_count</th>\n",
       "      <th>accommodates</th>\n",
       "      <th>room_type</th>\n",
       "      <th>bedrooms</th>\n",
       "      <th>bathrooms</th>\n",
       "      <th>beds</th>\n",
       "      <th>price</th>\n",
       "      <th>cleaning_fee</th>\n",
       "      <th>security_deposit</th>\n",
       "      <th>minimum_nights</th>\n",
       "      <th>maximum_nights</th>\n",
       "      <th>number_of_reviews</th>\n",
       "      <th>latitude</th>\n",
       "      <th>longitude</th>\n",
       "      <th>city</th>\n",
       "      <th>zipcode</th>\n",
       "      <th>state</th>\n",
       "    </tr>\n",
       "  </thead>\n",
       "  <tbody>\n",
       "    <tr>\n",
       "      <th>0</th>\n",
       "      <td>92%</td>\n",
       "      <td>91%</td>\n",
       "      <td>26</td>\n",
       "      <td>4</td>\n",
       "      <td>Entire home/apt</td>\n",
       "      <td>1.0</td>\n",
       "      <td>1.0</td>\n",
       "      <td>2.0</td>\n",
       "      <td>$160.00</td>\n",
       "      <td>$115.00</td>\n",
       "      <td>$100.00</td>\n",
       "      <td>1</td>\n",
       "      <td>1125</td>\n",
       "      <td>0</td>\n",
       "      <td>38.890046</td>\n",
       "      <td>-77.002808</td>\n",
       "      <td>Washington</td>\n",
       "      <td>20003</td>\n",
       "      <td>DC</td>\n",
       "    </tr>\n",
       "  </tbody>\n",
       "</table>\n",
       "</div>"
      ],
      "text/plain": [
       "  host_response_rate host_acceptance_rate  host_listings_count  accommodates  \\\n",
       "0                92%                  91%                   26             4   \n",
       "\n",
       "         room_type  bedrooms  bathrooms  beds    price cleaning_fee  \\\n",
       "0  Entire home/apt       1.0        1.0   2.0  $160.00      $115.00   \n",
       "\n",
       "  security_deposit  minimum_nights  maximum_nights  number_of_reviews  \\\n",
       "0          $100.00               1            1125                  0   \n",
       "\n",
       "    latitude  longitude        city zipcode state  \n",
       "0  38.890046 -77.002808  Washington   20003    DC  "
      ]
     },
     "execution_count": 1,
     "metadata": {},
     "output_type": "execute_result"
    }
   ],
   "source": [
    "import pandas as pd\n",
    "\n",
    "dc_listings = pd.read_csv(\"data/dc_airbnb.csv\")\n",
    "dc_listings.head(1)"
   ]
  },
  {
   "cell_type": "markdown",
   "metadata": {},
   "source": [
    "### Euclidean distance between two observations equals the square root of the sum of the square of the differences of their attributes:\n",
    "* sqrt((q1 - p1)^2 + (q2 - p2)^2 ... + (qn - pn)^2) "
   ]
  },
  {
   "cell_type": "code",
   "execution_count": 2,
   "metadata": {},
   "outputs": [
    {
     "name": "stdout",
     "output_type": "stream",
     "text": [
      "1\n"
     ]
    }
   ],
   "source": [
    "# calculate Euclidean distance between our living space (accomodates 3) and first listing in dataset using 'accommodates' as only feature\n",
    "\n",
    "first_distance = abs(3 - dc_listings['accommodates'].iloc[0])\n",
    "print(first_distance)"
   ]
  },
  {
   "cell_type": "code",
   "execution_count": 3,
   "metadata": {},
   "outputs": [
    {
     "name": "stdout",
     "output_type": "stream",
     "text": [
      "1     2294\n",
      "2      503\n",
      "0      461\n",
      "3      279\n",
      "5       73\n",
      "4       35\n",
      "7       22\n",
      "6       17\n",
      "9       12\n",
      "13       8\n",
      "8        7\n",
      "12       6\n",
      "11       4\n",
      "10       2\n",
      "Name: distance, dtype: int64\n"
     ]
    },
    {
     "data": {
      "text/plain": [
       "0       1\n",
       "1       3\n",
       "2       2\n",
       "3       1\n",
       "4       1\n",
       "5       1\n",
       "6       1\n",
       "7       1\n",
       "8       1\n",
       "9       1\n",
       "10      1\n",
       "11      2\n",
       "12      1\n",
       "13      1\n",
       "14      1\n",
       "15      1\n",
       "16      2\n",
       "17      1\n",
       "18      1\n",
       "19      1\n",
       "20      1\n",
       "21      1\n",
       "22      4\n",
       "23      2\n",
       "24      1\n",
       "25      1\n",
       "26      0\n",
       "27      1\n",
       "28      1\n",
       "29      1\n",
       "       ..\n",
       "3693    2\n",
       "3694    3\n",
       "3695    1\n",
       "3696    1\n",
       "3697    0\n",
       "3698    1\n",
       "3699    1\n",
       "3700    1\n",
       "3701    1\n",
       "3702    1\n",
       "3703    3\n",
       "3704    3\n",
       "3705    2\n",
       "3706    3\n",
       "3707    0\n",
       "3708    1\n",
       "3709    1\n",
       "3710    1\n",
       "3711    1\n",
       "3712    1\n",
       "3713    2\n",
       "3714    0\n",
       "3715    2\n",
       "3716    2\n",
       "3717    4\n",
       "3718    1\n",
       "3719    1\n",
       "3720    3\n",
       "3721    1\n",
       "3722    0\n",
       "Name: distance, Length: 3723, dtype: int64"
      ]
     },
     "execution_count": 3,
     "metadata": {},
     "output_type": "execute_result"
    }
   ],
   "source": [
    "# Calculate Euclidean distance between our living space (accomodates 3) and every listing using 'accommodates'\n",
    "\n",
    "dc_listings['distance'] = dc_listings['accommodates'].apply(lambda x: abs(x-3))\n",
    "print(dc_listings['distance'].value_counts())\n",
    "dc_listings['distance']"
   ]
  },
  {
   "cell_type": "code",
   "execution_count": 4,
   "metadata": {},
   "outputs": [
    {
     "data": {
      "text/plain": [
       "577     $185.00\n",
       "2166    $180.00\n",
       "3631    $175.00\n",
       "71      $128.00\n",
       "1011    $115.00\n",
       "380     $219.00\n",
       "943     $125.00\n",
       "3107    $250.00\n",
       "1499     $94.00\n",
       "625     $150.00\n",
       "Name: price, dtype: object"
      ]
     },
     "execution_count": 4,
     "metadata": {},
     "output_type": "execute_result"
    }
   ],
   "source": [
    "#Select 5 nearest neighbors based on 'accomodations' after shuffling dataset so that order isn't biased\n",
    "\n",
    "import numpy as np\n",
    "np.random.seed(1)\n",
    "\n",
    "dc_listings = dc_listings.iloc[np.random.permutation(list(range(dc_listings.shape[0])))]\n",
    "dc_listings = dc_listings.sort_values(by=\"distance\")\n",
    "dc_listings.head(10)['price']"
   ]
  },
  {
   "cell_type": "code",
   "execution_count": 5,
   "metadata": {},
   "outputs": [
    {
     "name": "stdout",
     "output_type": "stream",
     "text": [
      "156.6\n"
     ]
    }
   ],
   "source": [
    "# Make price numeric\n",
    "import re\n",
    "\n",
    "dc_listings['price'] = dc_listings['price'].apply(lambda x: float(re.sub(r'[$,]','',x)))\n",
    "mean_price = dc_listings['price'].iloc[:5].mean()\n",
    "print(mean_price)"
   ]
  },
  {
   "cell_type": "code",
   "execution_count": 6,
   "metadata": {},
   "outputs": [
    {
     "name": "stdout",
     "output_type": "stream",
     "text": [
      "Acc one: 71.8\n",
      "Acc two: 96.8\n",
      "Acc four: 96.0\n"
     ]
    }
   ],
   "source": [
    "# Brought along the changes we made to the `dc_listings` Dataframe.\n",
    "dc_listings = pd.read_csv('data/dc_airbnb.csv')\n",
    "stripped_commas = dc_listings['price'].str.replace(',', '')\n",
    "stripped_dollars = stripped_commas.str.replace('$', '')\n",
    "dc_listings['price'] = stripped_dollars.astype('float')\n",
    "dc_listings = dc_listings.loc[np.random.permutation(len(dc_listings))]\n",
    "\n",
    "def predict_price(new_listing):\n",
    "    temp_df = dc_listings.copy()\n",
    "    \n",
    "    temp_df['distance'] = temp_df['accommodates'].apply(lambda x: abs(x-new_listing))\n",
    "    temp_df.sort_values(by=\"distance\",inplace=True)\n",
    "    return temp_df['price'].iloc[:5].mean()\n",
    "\n",
    "acc_one = predict_price(1)\n",
    "acc_two = predict_price(2)\n",
    "acc_four = predict_price(4)\n",
    "\n",
    "print(\"Acc one: {}\\nAcc two: {}\\nAcc four: {}\".format(acc_one,acc_two,acc_four))"
   ]
  },
  {
   "cell_type": "code",
   "execution_count": 7,
   "metadata": {},
   "outputs": [
    {
     "name": "stderr",
     "output_type": "stream",
     "text": [
      "/anaconda3/lib/python3.6/site-packages/ipykernel_launcher.py:21: SettingWithCopyWarning: \n",
      "A value is trying to be set on a copy of a slice from a DataFrame.\n",
      "Try using .loc[row_indexer,col_indexer] = value instead\n",
      "\n",
      "See the caveats in the documentation: http://pandas.pydata.org/pandas-docs/stable/indexing.html#indexing-view-versus-copy\n"
     ]
    }
   ],
   "source": [
    "# Mission 2: Evaluating model performance\n",
    "\n",
    "import pandas as pd\n",
    "import numpy as np\n",
    "dc_listings = pd.read_csv(\"data/dc_airbnb.csv\")\n",
    "stripped_commas = dc_listings['price'].str.replace(',', '')\n",
    "stripped_dollars = stripped_commas.str.replace('$', '')\n",
    "dc_listings['price'] = stripped_dollars.astype('float')\n",
    "train_df = dc_listings.iloc[0:2792]\n",
    "test_df = dc_listings.iloc[2792:]\n",
    "\n",
    "def predict_price(new_listing):\n",
    "    ## DataFrame.copy() performs a deep copy\n",
    "    temp_df = train_df.copy()\n",
    "    temp_df['distance'] = temp_df['accommodates'].apply(lambda x: np.abs(x - new_listing))\n",
    "    temp_df = temp_df.sort_values('distance')\n",
    "    nearest_neighbor_prices = temp_df.iloc[0:5]['price']\n",
    "    predicted_price = nearest_neighbor_prices.mean()\n",
    "    return(predicted_price)\n",
    "\n",
    "test_df['predicted_price'] = test_df['accommodates'].apply(predict_price)"
   ]
  },
  {
   "cell_type": "code",
   "execution_count": 8,
   "metadata": {},
   "outputs": [
    {
     "data": {
      "text/plain": [
       "56.29001074113856"
      ]
     },
     "execution_count": 8,
     "metadata": {},
     "output_type": "execute_result"
    }
   ],
   "source": [
    "# calculate MAE (mean absolute error)\n",
    "\n",
    "mae = np.absolute(test_df['predicted_price'] - test_df['price']).sum()/test_df.shape[0]\n",
    "mae"
   ]
  },
  {
   "cell_type": "code",
   "execution_count": 9,
   "metadata": {},
   "outputs": [
    {
     "name": "stdout",
     "output_type": "stream",
     "text": [
      "18646.525370569325\n"
     ]
    }
   ],
   "source": [
    "# calculate MSE (mean squared error).  Penalizes predictions that are way off much more than close predictions (e.g., error of 100 counts as 10000 and error of 10 counts as 100)\n",
    "\n",
    "mse = sum((test_df['predicted_price'] - test_df['price'])**2)/test_df.shape[0]\n",
    "print(mse)"
   ]
  },
  {
   "cell_type": "code",
   "execution_count": 10,
   "metadata": {},
   "outputs": [
    {
     "name": "stdout",
     "output_type": "stream",
     "text": [
      "18405.44408163265\n"
     ]
    },
    {
     "name": "stderr",
     "output_type": "stream",
     "text": [
      "/anaconda3/lib/python3.6/site-packages/ipykernel_launcher.py:12: SettingWithCopyWarning: \n",
      "A value is trying to be set on a copy of a slice from a DataFrame.\n",
      "Try using .loc[row_indexer,col_indexer] = value instead\n",
      "\n",
      "See the caveats in the documentation: http://pandas.pydata.org/pandas-docs/stable/indexing.html#indexing-view-versus-copy\n",
      "  if sys.path[0] == '':\n",
      "/anaconda3/lib/python3.6/site-packages/ipykernel_launcher.py:14: SettingWithCopyWarning: \n",
      "A value is trying to be set on a copy of a slice from a DataFrame.\n",
      "Try using .loc[row_indexer,col_indexer] = value instead\n",
      "\n",
      "See the caveats in the documentation: http://pandas.pydata.org/pandas-docs/stable/indexing.html#indexing-view-versus-copy\n",
      "  \n"
     ]
    }
   ],
   "source": [
    "# Implement k-nearest neighbors based on \"bathrooms\" column\n",
    "\n",
    "train_df = dc_listings.iloc[0:2792]\n",
    "test_df = dc_listings.iloc[2792:]\n",
    "\n",
    "def predict_price(bathrooms):\n",
    "    temp_df = train_df.copy()\n",
    "    temp_df['distance'] = temp_df['bathrooms'].apply(lambda x: abs(x-bathrooms))\n",
    "    temp_df.sort_values(by=\"distance\", inplace=True)\n",
    "    return temp_df['price'][:5].mean()\n",
    "\n",
    "test_df['predicted_price'] = test_df['bathrooms'].apply(predict_price)\n",
    "\n",
    "test_df['squared_error'] = (test_df['predicted_price'] - test_df['price'])**2\n",
    "mse = test_df['squared_error'].sum()/test_df.shape[0]\n",
    "print(mse)"
   ]
  },
  {
   "cell_type": "code",
   "execution_count": 11,
   "metadata": {},
   "outputs": [
    {
     "name": "stdout",
     "output_type": "stream",
     "text": [
      "135.66666532952246\n"
     ]
    }
   ],
   "source": [
    "# Calculating root mean squared error (RMSE: sqrt(MSE))\n",
    "\n",
    "rmse = mse ** 0.5\n",
    "print(rmse)"
   ]
  },
  {
   "cell_type": "code",
   "execution_count": 12,
   "metadata": {},
   "outputs": [
    {
     "name": "stdout",
     "output_type": "stream",
     "text": [
      "Errors one:\n",
      "MAE: 7.5\tRMSE: 7.905694150420948\n",
      "Errors two:\n",
      "MAE: 62.5\tRMSE: 235.82302686548658\n"
     ]
    }
   ],
   "source": [
    "# Comparing properties of measures of error: MAE vs RMSE\n",
    "errors_one = pd.Series([5, 10, 5, 10, 5, 10, 5, 10, 5, 10, 5, 10, 5, 10, 5, 10, 5, 10])\n",
    "errors_two = pd.Series([5, 10, 5, 10, 5, 10, 5, 10, 5, 10, 5, 10, 5, 10, 5, 10, 5, 1000])\n",
    "\n",
    "mae_one = errors_one.sum()/len(errors_one)\n",
    "rmse_one = (sum(errors_one ** 2)/len(errors_one)) ** 0.5\n",
    "\n",
    "mae_two = errors_two.sum()/len(errors_two)\n",
    "rmse_two = (sum(errors_two ** 2)/len(errors_two)) ** 0.5\n",
    "\n",
    "print(\"Errors one:\\nMAE: {}\\tRMSE: {}\".format(mae_one,rmse_one))\n",
    "print(\"Errors two:\\nMAE: {}\\tRMSE: {}\".format(mae_two,rmse_two))"
   ]
  },
  {
   "cell_type": "code",
   "execution_count": 13,
   "metadata": {},
   "outputs": [
    {
     "name": "stdout",
     "output_type": "stream",
     "text": [
      "<class 'pandas.core.frame.DataFrame'>\n",
      "Int64Index: 3723 entries, 574 to 1061\n",
      "Data columns (total 19 columns):\n",
      "host_response_rate      3289 non-null object\n",
      "host_acceptance_rate    3109 non-null object\n",
      "host_listings_count     3723 non-null int64\n",
      "accommodates            3723 non-null int64\n",
      "room_type               3723 non-null object\n",
      "bedrooms                3702 non-null float64\n",
      "bathrooms               3696 non-null float64\n",
      "beds                    3712 non-null float64\n",
      "price                   3723 non-null float64\n",
      "cleaning_fee            2335 non-null object\n",
      "security_deposit        1426 non-null object\n",
      "minimum_nights          3723 non-null int64\n",
      "maximum_nights          3723 non-null int64\n",
      "number_of_reviews       3723 non-null int64\n",
      "latitude                3723 non-null float64\n",
      "longitude               3723 non-null float64\n",
      "city                    3723 non-null object\n",
      "zipcode                 3714 non-null object\n",
      "state                   3723 non-null object\n",
      "dtypes: float64(6), int64(5), object(8)\n",
      "memory usage: 581.7+ KB\n"
     ]
    }
   ],
   "source": [
    "# Mission 3: Multivariate K-Nearest Neighbors\n",
    "\n",
    "import pandas as pd\n",
    "import numpy as np\n",
    "np.random.seed(1)\n",
    "\n",
    "dc_listings = pd.read_csv('data/dc_airbnb.csv')\n",
    "dc_listings = dc_listings.loc[np.random.permutation(len(dc_listings))]\n",
    "stripped_commas = dc_listings['price'].str.replace(',', '')\n",
    "stripped_dollars = stripped_commas.str.replace('$', '')\n",
    "dc_listings['price'] = stripped_dollars.astype('float')\n",
    "\n",
    "dc_listings.info()"
   ]
  },
  {
   "cell_type": "code",
   "execution_count": 14,
   "metadata": {},
   "outputs": [
    {
     "name": "stdout",
     "output_type": "stream",
     "text": [
      "      accommodates  bedrooms  bathrooms  beds  price cleaning_fee  \\\n",
      "574              2       1.0        1.0   1.0  125.0          NaN   \n",
      "1593             2       1.0        1.5   1.0   85.0       $15.00   \n",
      "3091             1       1.0        0.5   1.0   50.0          NaN   \n",
      "420              2       1.0        1.0   1.0  209.0      $150.00   \n",
      "808             12       5.0        2.0   5.0  215.0      $135.00   \n",
      "\n",
      "     security_deposit  minimum_nights  maximum_nights  number_of_reviews  \n",
      "574           $300.00               1               4                149  \n",
      "1593              NaN               1              30                 49  \n",
      "3091              NaN               1            1125                  1  \n",
      "420               NaN               4             730                  2  \n",
      "808           $100.00               2            1825                 34  \n"
     ]
    }
   ],
   "source": [
    "# Drop nonnumerical and ordinal data and data related to host not space\n",
    "\n",
    "cols_to_remove = [\"room_type\",'city','state','latitude','longitude','zipcode','host_acceptance_rate','host_response_rate','host_listings_count']\n",
    "\n",
    "dc_listings.drop(cols_to_remove, axis=1, inplace=True)\n",
    "\n",
    "print(dc_listings.head())"
   ]
  },
  {
   "cell_type": "code",
   "execution_count": 15,
   "metadata": {},
   "outputs": [
    {
     "name": "stdout",
     "output_type": "stream",
     "text": [
      "accommodates         0\n",
      "bedrooms             0\n",
      "bathrooms            0\n",
      "beds                 0\n",
      "price                0\n",
      "minimum_nights       0\n",
      "maximum_nights       0\n",
      "number_of_reviews    0\n",
      "dtype: int64\n"
     ]
    }
   ],
   "source": [
    "# Drop columns with lots of null values, and drop null values of columns with just a few\n",
    "\n",
    "cols_to_remove = ['cleaning_fee','security_deposit']\n",
    "dc_listings.drop(cols_to_remove, axis=1, inplace=True)\n",
    "dc_listings.dropna(subset=['bedrooms','bathrooms','beds'],inplace=True)\n",
    "print(dc_listings.isnull().sum())"
   ]
  },
  {
   "cell_type": "code",
   "execution_count": 16,
   "metadata": {},
   "outputs": [
    {
     "name": "stdout",
     "output_type": "stream",
     "text": [
      "      accommodates  bedrooms  bathrooms      beds  price  minimum_nights  \\\n",
      "574      -0.596544 -0.249467  -0.439151 -0.546858  125.0       -0.341375   \n",
      "1593     -0.596544 -0.249467   0.412923 -0.546858   85.0       -0.341375   \n",
      "3091     -1.095499 -0.249467  -1.291226 -0.546858   50.0       -0.341375   \n",
      "\n",
      "      maximum_nights  number_of_reviews  \n",
      "574        -0.016604           4.579650  \n",
      "1593       -0.016603           1.159275  \n",
      "3091       -0.016573          -0.482505  \n"
     ]
    }
   ],
   "source": [
    "# Normalizing attributes to standard normal distribution (mean of 0, stdev of 1): for each point subtract mean and divide by stdev\n",
    "\n",
    "normalized_listings = (dc_listings - dc_listings.mean())/(dc_listings.std())\n",
    "\n",
    "normalized_listings['price'] = dc_listings['price']\n",
    "print(normalized_listings.head(3))"
   ]
  },
  {
   "cell_type": "code",
   "execution_count": 17,
   "metadata": {},
   "outputs": [
    {
     "name": "stdout",
     "output_type": "stream",
     "text": [
      "5.272543124668404\n"
     ]
    }
   ],
   "source": [
    "# Computing Euclidean distance using scipy.spatial.distance.euclidean method\n",
    "\n",
    "from scipy.spatial import distance\n",
    "\n",
    "first_fifth_distance = distance.euclidean(normalized_listings[['accommodates','bathrooms']].iloc[0],normalized_listings[['accommodates','bathrooms']].iloc[4])\n",
    "\n",
    "print(first_fifth_distance)"
   ]
  },
  {
   "cell_type": "code",
   "execution_count": 18,
   "metadata": {},
   "outputs": [
    {
     "name": "stdout",
     "output_type": "stream",
     "text": [
      "5.272543124668404\n"
     ]
    }
   ],
   "source": [
    "#Doing it myself\n",
    "\n",
    "my_distance = ((normalized_listings['accommodates'].iloc[0] - normalized_listings['accommodates'].iloc[4]) ** 2 + (normalized_listings['bathrooms'].iloc[0] - normalized_listings['bathrooms'].iloc[4]) ** 2) ** 0.5\n",
    "\n",
    "print(my_distance)\n",
    "\n"
   ]
  },
  {
   "cell_type": "code",
   "execution_count": 19,
   "metadata": {},
   "outputs": [
    {
     "name": "stdout",
     "output_type": "stream",
     "text": [
      "125.02565961889567\n"
     ]
    }
   ],
   "source": [
    "# Using scikit learn to perform multivariate K-neighbors regression\n",
    "\n",
    "from sklearn.neighbors import KNeighborsRegressor\n",
    "\n",
    "train_df = normalized_listings.iloc[0:2792]\n",
    "test_df = normalized_listings.iloc[2792:]\n",
    "\n",
    "knn = KNeighborsRegressor(n_neighbors=5, algorithm='brute')\n",
    "\n",
    "knn.fit(train_df[['accommodates','bathrooms']],train_df['price'])\n",
    "\n",
    "predictions = knn.predict(test_df[['accommodates','bathrooms']])\n",
    "\n",
    "rmse = (sum((test_df['price'] - predictions) ** 2)/test_df.shape[0]) ** 0.5\n",
    "print(rmse)"
   ]
  },
  {
   "cell_type": "code",
   "execution_count": 20,
   "metadata": {},
   "outputs": [
    {
     "name": "stdout",
     "output_type": "stream",
     "text": [
      "With two features:\n",
      "MSE: 15631.415563139932\n",
      "RMSE: 125.02565961889556\n"
     ]
    }
   ],
   "source": [
    "# Using sklearn.metrics.mean_squared_error to calculate MSE and RMSE\n",
    "\n",
    "from sklearn.metrics import mean_squared_error\n",
    "from sklearn.neighbors import KNeighborsRegressor\n",
    "\n",
    "train_columns = ['accommodates','bathrooms']\n",
    "\n",
    "knn = KNeighborsRegressor(n_neighbors = 5, algorithm = \"brute\")\n",
    "\n",
    "knn.fit(train_df[train_columns],train_df['price'])\n",
    "\n",
    "predictions = knn.predict(test_df[train_columns])\n",
    "\n",
    "two_features_mse = mean_squared_error(test_df['price'],predictions)\n",
    "two_features_rmse = two_features_mse ** 0.5\n",
    "\n",
    "print(\"With two features:\\nMSE: {}\\nRMSE: {}\".format(two_features_mse,two_features_rmse))"
   ]
  },
  {
   "cell_type": "code",
   "execution_count": 21,
   "metadata": {},
   "outputs": [
    {
     "name": "stdout",
     "output_type": "stream",
     "text": [
      "With four features:\n",
      "MSE: 13460.036268486916\n",
      "RMSE: 116.0173964045346\n"
     ]
    }
   ],
   "source": [
    "# Building model with 4 features\n",
    "\n",
    "from sklearn.neighbors import KNeighborsRegressor\n",
    "from sklearn.metrics import mean_squared_error\n",
    "\n",
    "features = ['accommodates','bedrooms','bathrooms','number_of_reviews']\n",
    "\n",
    "knn = KNeighborsRegressor(n_neighbors=5, algorithm=\"brute\")\n",
    "\n",
    "knn.fit(train_df[features],train_df['price'])\n",
    "four_predictions = knn.predict(test_df[features])\n",
    "\n",
    "four_mse = mean_squared_error(test_df['price'],four_predictions)\n",
    "four_rmse = four_mse ** 0.5\n",
    "\n",
    "print(\"With four features:\\nMSE: {}\\nRMSE: {}\".format(four_mse,four_rmse))"
   ]
  },
  {
   "cell_type": "code",
   "execution_count": 22,
   "metadata": {},
   "outputs": [
    {
     "name": "stdout",
     "output_type": "stream",
     "text": [
      "accommodates         0.515931\n",
      "bedrooms             0.527657\n",
      "bathrooms            0.496411\n",
      "beds                 0.464558\n",
      "price                1.000000\n",
      "minimum_nights       0.011519\n",
      "maximum_nights       0.015163\n",
      "number_of_reviews   -0.082843\n",
      "Name: price, dtype: float64\n",
      "With 'accommodates', 'bedrooms', 'bathrooms', and 'beds':\n",
      "MSE: 16287.52081911263\n",
      "RMSE: 127.62257174619477\n"
     ]
    }
   ],
   "source": [
    "print(normalized_listings.corr()['price'])\n",
    "\n",
    "features = ['accommodates','bedrooms','bathrooms','beds']\n",
    "\n",
    "knn = KNeighborsRegressor(n_neighbors=5, algorithm=\"brute\")\n",
    "knn.fit(train_df[features],train_df['price'])\n",
    "predictions = knn.predict(test_df[features])\n",
    "\n",
    "mse = mean_squared_error(test_df['price'],predictions)\n",
    "rmse = mse ** 0.5\n",
    "\n",
    "print(\"With 'accommodates', 'bedrooms', 'bathrooms', and 'beds':\\nMSE: {}\\nRMSE: {}\".format(mse,rmse))"
   ]
  },
  {
   "cell_type": "code",
   "execution_count": 23,
   "metadata": {},
   "outputs": [
    {
     "name": "stdout",
     "output_type": "stream",
     "text": [
      "With all features:\n",
      "MSE: 15343.983845278724\n",
      "RMSE: 123.87083532970432\n"
     ]
    }
   ],
   "source": [
    "# Utilizing all available features\n",
    "\n",
    "from sklearn.neighbors import KNeighborsRegressor\n",
    "from sklearn.metrics import mean_squared_error\n",
    "\n",
    "features = [each for each in train_df.columns.values if each != 'price']\n",
    "\n",
    "knn = KNeighborsRegressor(n_neighbors = 5, algorithm=\"brute\")\n",
    "knn.fit(train_df[features],train_df['price'])\n",
    "all_features_predictions = knn.predict(test_df[features])\n",
    "\n",
    "all_features_mse = mean_squared_error(test_df['price'],all_features_predictions)\n",
    "all_features_rmse = all_features_mse ** 0.5\n",
    "\n",
    "print(\"With all features:\\nMSE: {}\\nRMSE: {}\".format(all_features_mse,all_features_rmse))"
   ]
  },
  {
   "cell_type": "code",
   "execution_count": 24,
   "metadata": {},
   "outputs": [],
   "source": [
    "# Mission 4: Hyperparameter Optimization\n",
    "\n",
    "import pandas as pd\n",
    "\n",
    "train_df = pd.read_csv(\"data/dc_airbnb_train.csv\")\n",
    "test_df = pd.read_csv(\"data/dc_airbnb_test.csv\")"
   ]
  },
  {
   "cell_type": "code",
   "execution_count": 25,
   "metadata": {},
   "outputs": [
    {
     "name": "stdout",
     "output_type": "stream",
     "text": [
      "[26364.92832764505, 15100.52246871445, 14578.804070281883, 16006.955844709897, 14114.812468714448]\n"
     ]
    }
   ],
   "source": [
    "# Trying from 1-5 number of neighbors\n",
    "\n",
    "from sklearn.neighbors import KNeighborsRegressor\n",
    "from sklearn.metrics import mean_squared_error\n",
    "\n",
    "features = [\"accommodates\",\"bedrooms\",'bathrooms','number_of_reviews']\n",
    "hyper_params = range(1,6)\n",
    "\n",
    "mse_values = []\n",
    "\n",
    "for each in hyper_params:\n",
    "    knn = KNeighborsRegressor(n_neighbors=each, algorithm=\"brute\")\n",
    "    knn.fit(train_df[features],train_df['price'])\n",
    "    predictions = knn.predict(test_df[features])\n",
    "    mse_values.append(mean_squared_error(test_df['price'],predictions))\n",
    "    \n",
    "print(mse_values)"
   ]
  },
  {
   "cell_type": "code",
   "execution_count": 29,
   "metadata": {},
   "outputs": [
    {
     "name": "stdout",
     "output_type": "stream",
     "text": [
      "[26364.92832764505, 15100.52246871445, 14578.804070281883, 16006.955844709897, 14114.812468714448, 13543.857887751232, 14285.285830373108, 14668.37078711604, 14603.355145437437, 14596.476951080776, 14667.816038134994, 14808.210379534821, 14703.662371845363, 14776.279184369996, 14765.986120591582, 14849.175310189135, 14800.645440910755, 14750.895198668522, 14731.226585864699, 14648.419749715586]\n"
     ]
    }
   ],
   "source": [
    "from sklearn.neighbors import KNeighborsRegressor\n",
    "from sklearn.metrics import mean_squared_error\n",
    "\n",
    "hyper_params = range(1,21)\n",
    "features = [\"accommodates\",\"bedrooms\",'bathrooms','number_of_reviews']\n",
    "mse_values = []\n",
    "\n",
    "for each in hyper_params:\n",
    "    knn = KNeighborsRegressor(n_neighbors=each, algorithm=\"brute\")\n",
    "    knn.fit(train_df[features],train_df['price'])\n",
    "    predictions = knn.predict(test_df[features])\n",
    "    mse_values.append(mean_squared_error(test_df['price'],predictions))\n",
    "    \n",
    "print(mse_values)"
   ]
  },
  {
   "cell_type": "code",
   "execution_count": 31,
   "metadata": {},
   "outputs": [
    {
     "data": {
      "image/png": "[encoded data removed]",
      "text/plain": [
       "<matplotlib.figure.Figure at 0x1a160ba9e8>"
      ]
     },
     "metadata": {},
     "output_type": "display_data"
    },
    {
     "data": {
      "image/png": "[encoded data removed]",
      "text/plain": [
       "<matplotlib.figure.Figure at 0x1a16238588>"
      ]
     },
     "metadata": {},
     "output_type": "display_data"
    }
   ],
   "source": [
    "import matplotlib.pyplot as plt\n",
    "%matplotlib inline\n",
    "\n",
    "features = ['accommodates', 'bedrooms', 'bathrooms', 'number_of_reviews']\n",
    "hyper_params = range(1, 21)\n",
    "mse_values = list()\n",
    "rmse_values = list()\n",
    "\n",
    "for hp in hyper_params:\n",
    "    knn = KNeighborsRegressor(n_neighbors=hp, algorithm='brute')\n",
    "    knn.fit(train_df[features], train_df['price'])\n",
    "    predictions = knn.predict(test_df[features])\n",
    "    mse = mean_squared_error(test_df['price'], predictions)\n",
    "    mse_values.append(mse)\n",
    "    rmse_values.append(mse**0.5)\n",
    "    \n",
    "plt.scatter(hyper_params, mse_values)\n",
    "plt.show()\n",
    "\n",
    "plt.scatter(hyper_params, rmse_values)\n",
    "plt.show()"
   ]
  },
  {
   "cell_type": "code",
   "execution_count": 33,
   "metadata": {},
   "outputs": [
    {
     "name": "stdout",
     "output_type": "stream",
     "text": [
      "[23303.759954493744, 14917.940273037542, 15006.17772721527, 15477.679536405005, 15286.060341296927, 15484.882442169133, 14955.637598384066, 15121.261127701933, 15075.432716751639, 14826.446894197952, 14721.343572241181, 14804.630056250791, 14875.420757854206, 14969.454888440017, 14960.892878270763, 15071.190837421786, 15096.145513736516, 15266.2938875546, 15218.578975731045, 15212.8344596132]\n"
     ]
    },
    {
     "data": {
      "image/png": "[encoded data removed]",
      "text/plain": [
       "<matplotlib.figure.Figure at 0x1068e8128>"
      ]
     },
     "metadata": {},
     "output_type": "display_data"
    }
   ],
   "source": [
    "# Retrying all neighbors from 1-20 with all features included except price\n",
    "\n",
    "from sklearn.neighbors import KNeighborsRegressor\n",
    "from sklearn.metrics import mean_squared_error\n",
    "\n",
    "features = [each for each in train_df.columns.values if each != \"price\"]\n",
    "hyper_params = [x for x in range(1,21)]\n",
    "mse_values = list()\n",
    "\n",
    "for each in hyper_params:\n",
    "    knn = KNeighborsRegressor(n_neighbors=each, algorithm=\"brute\")\n",
    "    knn.fit(train_df[features],train_df['price'])\n",
    "    predictions = knn.predict(test_df[features])\n",
    "    mse_values.append(mean_squared_error(test_df['price'],predictions))\n",
    "    \n",
    "print(mse_values)\n",
    "\n",
    "plt.scatter(hyper_params,mse_values)\n",
    "plt.show()"
   ]
  },
  {
   "cell_type": "code",
   "execution_count": 40,
   "metadata": {},
   "outputs": [
    {
     "name": "stdout",
     "output_type": "stream",
     "text": [
      "{5: 14787.264345847556} {7: 13518.769009310208}\n"
     ]
    }
   ],
   "source": [
    "# Undergoing hyperparameter optimization for two and three feature models\n",
    "\n",
    "from sklearn.neighbors import KNeighborsRegressor\n",
    "from sklearn.metrics import mean_squared_error\n",
    "\n",
    "two_features = ['accommodates', 'bathrooms']\n",
    "three_features = ['accommodates', 'bathrooms', 'bedrooms']\n",
    "hyper_params = [x for x in range(1,21)]\n",
    "# Append the first model's MSE values to this list.\n",
    "two_mse_values = list()\n",
    "# Append the second model's MSE values to this list.\n",
    "three_mse_values = list()\n",
    "two_hyp_mse = dict()\n",
    "three_hyp_mse = dict()\n",
    "\n",
    "for hp in hyper_params:\n",
    "    knn = KNeighborsRegressor(n_neighbors = hp, algorithm=\"brute\")\n",
    "    features = [two_features, three_features]\n",
    "    for i, feat in enumerate(features):\n",
    "        knn.fit(train_df[feat],train_df['price'])\n",
    "        predictions = knn.predict(test_df[feat])\n",
    "        mse = mean_squared_error(test_df['price'],predictions)\n",
    "        if i == 0:\n",
    "            two_mse_values.append(mse)\n",
    "        elif i == 1:\n",
    "            three_mse_values.append(mse)\n",
    "                \n",
    "min2 = min(two_mse_values)\n",
    "two_hyp_mse[two_mse_values.index(min2)+1] = min2\n",
    "min3 = min(three_mse_values)\n",
    "three_hyp_mse[three_mse_values.index(min3)+1] = min3\n",
    "\n",
    "\n",
    "print(two_hyp_mse,three_hyp_mse)"
   ]
  },
  {
   "cell_type": "code",
   "execution_count": 42,
   "metadata": {},
   "outputs": [],
   "source": [
    "#Challenge: cross validation\n",
    "\n",
    "import numpy as np\n",
    "import pandas as pd\n",
    "\n",
    "dc_listings = pd.read_csv(\"data/dc_airbnb.csv\")\n",
    "stripped_commas = dc_listings['price'].str.replace(',', '')\n",
    "stripped_dollars = stripped_commas.str.replace('$', '')\n",
    "dc_listings['price'] = stripped_dollars.astype('float')\n",
    "\n",
    "dc_listings = dc_listings.loc[np.random.permutation(dc_listings.index.values)]\n",
    "\n",
    "split_one = dc_listings.iloc[:1862]\n",
    "split_two = dc_listings.iloc[1862:]"
   ]
  },
  {
   "cell_type": "code",
   "execution_count": 51,
   "metadata": {},
   "outputs": [
    {
     "name": "stdout",
     "output_type": "stream",
     "text": [
      "131.6207283081407 128.77209995637674 130.19641413225872\n"
     ]
    }
   ],
   "source": [
    "# cross-validation\n",
    "\n",
    "from sklearn.neighbors import KNeighborsRegressor\n",
    "from sklearn.metrics import mean_squared_error\n",
    "import numpy as np\n",
    "\n",
    "train_one = split_one\n",
    "test_one = split_two\n",
    "train_two = split_two\n",
    "test_two = split_one\n",
    "train = [train_one, train_two]\n",
    "test = [test_one, test_two]\n",
    "rmses = []\n",
    "\n",
    "for i, each in enumerate(train):\n",
    "    knn = KNeighborsRegressor(n_neighbors=5, algorithm=\"auto\")\n",
    "    knn.fit(train[i][[\"accommodates\"]],train[i]['price'])\n",
    "    predictions = knn.predict(test[i][['accommodates']])\n",
    "    rmses.append(mean_squared_error(test[i]['price'],predictions)**0.5)\n",
    "    \n",
    "iteration_one_rmse = rmses[0]\n",
    "iteration_two_rmse = rmses[1]\n",
    "\n",
    "avg_rmse = np.mean(rmses)\n",
    "\n",
    "print(iteration_one_rmse,iteration_two_rmse,avg_rmse)"
   ]
  },
  {
   "cell_type": "code",
   "execution_count": 52,
   "metadata": {},
   "outputs": [
    {
     "name": "stdout",
     "output_type": "stream",
     "text": [
      "5.0    745\n",
      "2.0    745\n",
      "1.0    745\n",
      "4.0    744\n",
      "3.0    744\n",
      "Name: fold, dtype: int64\n",
      "0\n"
     ]
    }
   ],
   "source": [
    "# K-fold cross validation with 5 folds\n",
    "dc_listings.loc[dc_listings.index[0:745], \"fold\"] = 1\n",
    "dc_listings.loc[dc_listings.index[745:1490], \"fold\"] = 2\n",
    "dc_listings.loc[dc_listings.index[1490:2234], \"fold\"] = 3\n",
    "dc_listings.loc[dc_listings.index[2234:2978], \"fold\"] = 4\n",
    "dc_listings.loc[dc_listings.index[2978:3723], \"fold\"] = 5\n",
    "\n",
    "print(dc_listings[\"fold\"].value_counts())\n",
    "print(dc_listings[\"fold\"].isnull().sum())"
   ]
  },
  {
   "cell_type": "code",
   "execution_count": 54,
   "metadata": {},
   "outputs": [],
   "source": [
    "from sklearn.neighbors import KNeighborsRegressor\n",
    "from sklearn.metrics import mean_squared_error\n",
    "\n",
    "knn = KNeighborsRegressor(n_neighbors = 5, algorithm=\"auto\")\n",
    "\n",
    "train_one = dc_listings[dc_listings['fold'] != 1]\n",
    "test_one = dc_listings[dc_listings['fold'] == 1]\n",
    "knn.fit(train_one[['accommodates']],train_one['price'])\n",
    "labels = knn.predict(test_one[['accommodates']])\n",
    "iteration_one_rmse = mean_squared_error(test_one['price'],labels)**0.5"
   ]
  },
  {
   "cell_type": "code",
   "execution_count": 55,
   "metadata": {},
   "outputs": [
    {
     "name": "stdout",
     "output_type": "stream",
     "text": [
      "[112.04826596623559, 144.38561957805769, 124.88396829711334, 136.89503611883998, 112.45994078728297] 126.13456614950594\n"
     ]
    }
   ],
   "source": [
    "# Use np.mean to calculate the mean.\n",
    "import numpy as np\n",
    "fold_ids = [1,2,3,4,5]\n",
    "\n",
    "def train_and_validate(df, folds):\n",
    "    rmses = []\n",
    "    \n",
    "    for each in folds:\n",
    "        train_df = df[df['fold'] != each]\n",
    "        test_df = df[df['fold'] == each]\n",
    "        \n",
    "        knn = KNeighborsRegressor()\n",
    "        knn.fit(train_df[['accommodates']],train_df['price'])\n",
    "        labels = knn.predict(test_df[['accommodates']])\n",
    "        rmses.append(mean_squared_error(test_df['price'],labels)**0.5)\n",
    "    return rmses\n",
    "\n",
    "rmses = train_and_validate(dc_listings,fold_ids)\n",
    "avg_rmse = np.mean(rmses)\n",
    "print(rmses, avg_rmse)"
   ]
  },
  {
   "cell_type": "code",
   "execution_count": 63,
   "metadata": {},
   "outputs": [
    {
     "name": "stdout",
     "output_type": "stream",
     "text": [
      "129.01866963719164\n"
     ]
    }
   ],
   "source": [
    "from sklearn.model_selection import cross_val_score, KFold\n",
    "\n",
    "kf = KFold(n_splits = 5, shuffle=True, random_state=1)\n",
    "\n",
    "knn = KNeighborsRegressor(n_neighbors=5, algorithm=\"auto\")\n",
    "mses = cross_val_score(knn,dc_listings[['accommodates']],dc_listings['price'],scoring=\"neg_mean_squared_error\",cv=kf)\n",
    "\n",
    "rmses = np.absolute(mses)**0.5\n",
    "avg_rmse = np.mean(rmses)\n",
    "print(avg_rmse)"
   ]
  },
  {
   "cell_type": "code",
   "execution_count": null,
   "metadata": {},
   "outputs": [],
   "source": []
  }
 ],
 "metadata": {
  "kernelspec": {
   "display_name": "Python 3",
   "language": "python",
   "name": "python3"
  },
  "language_info": {
   "codemirror_mode": {
    "name": "ipython",
    "version": 3
   },
   "file_extension": ".py",
   "mimetype": "text/x-python",
   "name": "python",
   "nbconvert_exporter": "python",
   "pygments_lexer": "ipython3",
   "version": "3.6.5"
  }
 },
 "nbformat": 4,
 "nbformat_minor": 2
}
