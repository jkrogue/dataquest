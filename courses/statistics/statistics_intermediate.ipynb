{
 "cells": [
  {
   "cell_type": "markdown",
   "metadata": {},
   "source": [
    "# Intro to dataset (flags.csv)\n",
    "\n",
    "Our dataset contains information on flags of countries around the world. Each row is a country. Here are the relevant columns:\n",
    "\n",
    "    name -- name of the country\n",
    "    landmass -- which continent the country is in (1=N.America, 2=S.America, 3=Europe, 4=Africa, 4=Asia, 6=Oceania)\n",
    "    area -- country area, in thousands of square kilometers\n",
    "    population -- rounded to the nearest million\n",
    "    bars -- Number of vertical bars in the flag\n",
    "    stripes -- Number of horizontal stripes in the flag\n",
    "    colors -- Number of different colours in the flag\n",
    "    red, green, blue, gold, white, black, orange -- 0 if color absent, 1 if color present in the flag\n"
   ]
  },
  {
   "cell_type": "code",
   "execution_count": 1,
   "metadata": {},
   "outputs": [
    {
     "data": {
      "text/html": [
       "<div>\n",
       "<style scoped>\n",
       "    .dataframe tbody tr th:only-of-type {\n",
       "        vertical-align: middle;\n",
       "    }\n",
       "\n",
       "    .dataframe tbody tr th {\n",
       "        vertical-align: top;\n",
       "    }\n",
       "\n",
       "    .dataframe thead th {\n",
       "        text-align: right;\n",
       "    }\n",
       "</style>\n",
       "<table border=\"1\" class=\"dataframe\">\n",
       "  <thead>\n",
       "    <tr style=\"text-align: right;\">\n",
       "      <th></th>\n",
       "      <th>name</th>\n",
       "      <th>landmass</th>\n",
       "      <th>zone</th>\n",
       "      <th>area</th>\n",
       "      <th>population</th>\n",
       "      <th>language</th>\n",
       "      <th>religion</th>\n",
       "      <th>bars</th>\n",
       "      <th>stripes</th>\n",
       "      <th>colors</th>\n",
       "      <th>...</th>\n",
       "      <th>saltires</th>\n",
       "      <th>quarters</th>\n",
       "      <th>sunstars</th>\n",
       "      <th>crescent</th>\n",
       "      <th>triangle</th>\n",
       "      <th>icon</th>\n",
       "      <th>animate</th>\n",
       "      <th>text</th>\n",
       "      <th>topleft</th>\n",
       "      <th>botright</th>\n",
       "    </tr>\n",
       "  </thead>\n",
       "  <tbody>\n",
       "    <tr>\n",
       "      <th>0</th>\n",
       "      <td>Afghanistan</td>\n",
       "      <td>5</td>\n",
       "      <td>1</td>\n",
       "      <td>648</td>\n",
       "      <td>16</td>\n",
       "      <td>10</td>\n",
       "      <td>2</td>\n",
       "      <td>0</td>\n",
       "      <td>3</td>\n",
       "      <td>5</td>\n",
       "      <td>...</td>\n",
       "      <td>0</td>\n",
       "      <td>0</td>\n",
       "      <td>1</td>\n",
       "      <td>0</td>\n",
       "      <td>0</td>\n",
       "      <td>1</td>\n",
       "      <td>0</td>\n",
       "      <td>0</td>\n",
       "      <td>black</td>\n",
       "      <td>green</td>\n",
       "    </tr>\n",
       "    <tr>\n",
       "      <th>1</th>\n",
       "      <td>Albania</td>\n",
       "      <td>3</td>\n",
       "      <td>1</td>\n",
       "      <td>29</td>\n",
       "      <td>3</td>\n",
       "      <td>6</td>\n",
       "      <td>6</td>\n",
       "      <td>0</td>\n",
       "      <td>0</td>\n",
       "      <td>3</td>\n",
       "      <td>...</td>\n",
       "      <td>0</td>\n",
       "      <td>0</td>\n",
       "      <td>1</td>\n",
       "      <td>0</td>\n",
       "      <td>0</td>\n",
       "      <td>0</td>\n",
       "      <td>1</td>\n",
       "      <td>0</td>\n",
       "      <td>red</td>\n",
       "      <td>red</td>\n",
       "    </tr>\n",
       "    <tr>\n",
       "      <th>2</th>\n",
       "      <td>Algeria</td>\n",
       "      <td>4</td>\n",
       "      <td>1</td>\n",
       "      <td>2388</td>\n",
       "      <td>20</td>\n",
       "      <td>8</td>\n",
       "      <td>2</td>\n",
       "      <td>2</td>\n",
       "      <td>0</td>\n",
       "      <td>3</td>\n",
       "      <td>...</td>\n",
       "      <td>0</td>\n",
       "      <td>0</td>\n",
       "      <td>1</td>\n",
       "      <td>1</td>\n",
       "      <td>0</td>\n",
       "      <td>0</td>\n",
       "      <td>0</td>\n",
       "      <td>0</td>\n",
       "      <td>green</td>\n",
       "      <td>white</td>\n",
       "    </tr>\n",
       "    <tr>\n",
       "      <th>3</th>\n",
       "      <td>American-Samoa</td>\n",
       "      <td>6</td>\n",
       "      <td>3</td>\n",
       "      <td>0</td>\n",
       "      <td>0</td>\n",
       "      <td>1</td>\n",
       "      <td>1</td>\n",
       "      <td>0</td>\n",
       "      <td>0</td>\n",
       "      <td>5</td>\n",
       "      <td>...</td>\n",
       "      <td>0</td>\n",
       "      <td>0</td>\n",
       "      <td>0</td>\n",
       "      <td>0</td>\n",
       "      <td>1</td>\n",
       "      <td>1</td>\n",
       "      <td>1</td>\n",
       "      <td>0</td>\n",
       "      <td>blue</td>\n",
       "      <td>red</td>\n",
       "    </tr>\n",
       "    <tr>\n",
       "      <th>4</th>\n",
       "      <td>Andorra</td>\n",
       "      <td>3</td>\n",
       "      <td>1</td>\n",
       "      <td>0</td>\n",
       "      <td>0</td>\n",
       "      <td>6</td>\n",
       "      <td>0</td>\n",
       "      <td>3</td>\n",
       "      <td>0</td>\n",
       "      <td>3</td>\n",
       "      <td>...</td>\n",
       "      <td>0</td>\n",
       "      <td>0</td>\n",
       "      <td>0</td>\n",
       "      <td>0</td>\n",
       "      <td>0</td>\n",
       "      <td>0</td>\n",
       "      <td>0</td>\n",
       "      <td>0</td>\n",
       "      <td>blue</td>\n",
       "      <td>red</td>\n",
       "    </tr>\n",
       "  </tbody>\n",
       "</table>\n",
       "<p>5 rows × 30 columns</p>\n",
       "</div>"
      ],
      "text/plain": [
       "             name  landmass  zone  area  population  language  religion  bars  \\\n",
       "0     Afghanistan         5     1   648          16        10         2     0   \n",
       "1         Albania         3     1    29           3         6         6     0   \n",
       "2         Algeria         4     1  2388          20         8         2     2   \n",
       "3  American-Samoa         6     3     0           0         1         1     0   \n",
       "4         Andorra         3     1     0           0         6         0     3   \n",
       "\n",
       "   stripes  colors    ...     saltires  quarters  sunstars  crescent  \\\n",
       "0        3       5    ...            0         0         1         0   \n",
       "1        0       3    ...            0         0         1         0   \n",
       "2        0       3    ...            0         0         1         1   \n",
       "3        0       5    ...            0         0         0         0   \n",
       "4        0       3    ...            0         0         0         0   \n",
       "\n",
       "   triangle  icon  animate text  topleft  botright  \n",
       "0         0     1        0    0    black     green  \n",
       "1         0     0        1    0      red       red  \n",
       "2         0     0        0    0    green     white  \n",
       "3         1     1        1    0     blue       red  \n",
       "4         0     0        0    0     blue       red  \n",
       "\n",
       "[5 rows x 30 columns]"
      ]
     },
     "execution_count": 1,
     "metadata": {},
     "output_type": "execute_result"
    }
   ],
   "source": [
    "import pandas as pd\n",
    "import numpy as np\n",
    "import matplotlib.pyplot as plt\n",
    "%matplotlib inline\n",
    "flags = pd.read_csv(\"data/flags.csv\")\n",
    "flags.head()"
   ]
  },
  {
   "cell_type": "code",
   "execution_count": 2,
   "metadata": {},
   "outputs": [
    {
     "name": "stdout",
     "output_type": "stream",
     "text": [
      "St-Vincent China\n"
     ]
    }
   ],
   "source": [
    "most_bars_country = flags.iloc[flags['bars'].idxmax()]['name']\n",
    "highest_population_country = flags.iloc[flags['population'].idxmax()]['name']\n",
    "print(most_bars_country,highest_population_country)"
   ]
  },
  {
   "cell_type": "code",
   "execution_count": 3,
   "metadata": {},
   "outputs": [
    {
     "name": "stdout",
     "output_type": "stream",
     "text": [
      "0.13402061855670103 0.41237113402061853\n"
     ]
    }
   ],
   "source": [
    "total_countries = flags.shape[0]\n",
    "\n",
    "orange_probability = flags[flags['orange'] == 1].shape[0]/total_countries\n",
    "stripe_probability = flags[flags['stripes'] > 1].shape[0]/total_countries\n",
    "\n",
    "print(orange_probability,stripe_probability)"
   ]
  },
  {
   "cell_type": "code",
   "execution_count": 4,
   "metadata": {},
   "outputs": [
    {
     "name": "stdout",
     "output_type": "stream",
     "text": [
      "0.03125 0.0009765625 7.888609052210118e-31\n"
     ]
    }
   ],
   "source": [
    "# calculate probabilities of sequence of heads rolls\n",
    "\n",
    "five_heads = .5 ** 5\n",
    "\n",
    "ten_heads = 0.5 ** 10\n",
    "\n",
    "hundred_heads = 0.5 ** 100\n",
    "\n",
    "print(five_heads,ten_heads,hundred_heads)"
   ]
  },
  {
   "cell_type": "code",
   "execution_count": 5,
   "metadata": {},
   "outputs": [
    {
     "name": "stdout",
     "output_type": "stream",
     "text": [
      "0.4884855242775493\n"
     ]
    }
   ],
   "source": [
    "# calculate odds of picking 3 countries with red in their flag in a row\n",
    "\n",
    "num_red = flags[flags['red'] == 1].shape[0]\n",
    "three_red = (num_red / total_countries) * ((num_red - 1)/(total_countries - 1)) * ((num_red - 2)/(total_countries - 2))\n",
    "print(three_red)\n"
   ]
  },
  {
   "cell_type": "code",
   "execution_count": 6,
   "metadata": {},
   "outputs": [
    {
     "name": "stdout",
     "output_type": "stream",
     "text": [
      "0.01 0.014277777777777778\n"
     ]
    }
   ],
   "source": [
    "start = 1\n",
    "end = 18000\n",
    "\n",
    "# calculate probability of getting multiple of 100\n",
    "num_hundreds = end // 100\n",
    "hundred_prob = num_hundreds / end\n",
    "\n",
    "# calculate probability of getting multiple of 70\n",
    "num_seventies = end // 70\n",
    "seventy_prob = num_seventies / end\n",
    "print(hundred_prob,seventy_prob)"
   ]
  },
  {
   "cell_type": "code",
   "execution_count": 7,
   "metadata": {},
   "outputs": [
    {
     "name": "stdout",
     "output_type": "stream",
     "text": [
      "0.8247422680412371 0.5927835051546392\n"
     ]
    }
   ],
   "source": [
    "# Find the probability of a flag having red or orange as a color. Assign the result to red_or_orange.\n",
    "orange_flags = flags[flags['orange'] == 1]\n",
    "red_flags = flags[flags['red'] == 1]\n",
    "num_red_and_orange = orange_flags[orange_flags['red'] == 1].shape[0]\n",
    "red_or_orange = (orange_flags.shape[0] + red_flags.shape[0] - num_red_and_orange)/total_countries\n",
    "\n",
    "# Find the probability of a flag having at least one stripes or at least one bars. Assign the result to stripes_or_bars.\n",
    "stripes = flags[flags['stripes'] >= 1]                                                                                                                              \n",
    "bars = flags[flags['bars'] >= 1]\n",
    "num_stripes_and_bars = stripes[stripes['bars'] >= 1].shape[0]\n",
    "stripes_or_bars = (stripes.shape[0] + bars.shape[0] - num_stripes_and_bars)/total_countries\n",
    "\n",
    "print(red_or_orange,stripes_or_bars)"
   ]
  },
  {
   "cell_type": "code",
   "execution_count": 8,
   "metadata": {},
   "outputs": [
    {
     "name": "stdout",
     "output_type": "stream",
     "text": [
      "0.875\n"
     ]
    }
   ],
   "source": [
    "# Let's say we have a coin that we're flipping. Find the probability that at least one of the first three flips comes up heads. Assign the result to heads_or.\n",
    "\n",
    "prob_all_tails = 0.5 ** 3\n",
    "heads_or = 1 - prob_all_tails\n",
    "print(heads_or)"
   ]
  },
  {
   "cell_type": "markdown",
   "metadata": {},
   "source": [
    "# Mission 2: calculating probabilities\n",
    "\n",
    "In many countries, there are bikesharing programs where anyone can rent a bike from a depot, and return it at other depots throughout a city. There is one such program in Washington, D.C., in the US. We'll be looking at the number of bikes that were rented by day. Here are the relevant columns:\n",
    "\n",
    "* dteday -- the date that we're looking at.\n",
    "* casual -- the number of casual riders (people who hadn't previously signed up with the bikesharing program) that rented bikes on the day.\n",
    "* registered -- the number of registered riders (people who signed up previously) that rented bikes.\n",
    "* cnt -- the total number of bikes rented.\n",
    "\n",
    "This data was collected by Hadi Fanaee-T at the University of Porto, and can be downloaded [here](http://archive.ics.uci.edu/ml/datasets/Bike+Sharing+Dataset)."
   ]
  },
  {
   "cell_type": "code",
   "execution_count": 9,
   "metadata": {},
   "outputs": [
    {
     "data": {
      "text/html": [
       "<div>\n",
       "<style scoped>\n",
       "    .dataframe tbody tr th:only-of-type {\n",
       "        vertical-align: middle;\n",
       "    }\n",
       "\n",
       "    .dataframe tbody tr th {\n",
       "        vertical-align: top;\n",
       "    }\n",
       "\n",
       "    .dataframe thead th {\n",
       "        text-align: right;\n",
       "    }\n",
       "</style>\n",
       "<table border=\"1\" class=\"dataframe\">\n",
       "  <thead>\n",
       "    <tr style=\"text-align: right;\">\n",
       "      <th></th>\n",
       "      <th>instant</th>\n",
       "      <th>dteday</th>\n",
       "      <th>season</th>\n",
       "      <th>yr</th>\n",
       "      <th>mnth</th>\n",
       "      <th>holiday</th>\n",
       "      <th>weekday</th>\n",
       "      <th>workingday</th>\n",
       "      <th>weathersit</th>\n",
       "      <th>temp</th>\n",
       "      <th>atemp</th>\n",
       "      <th>hum</th>\n",
       "      <th>windspeed</th>\n",
       "      <th>casual</th>\n",
       "      <th>registered</th>\n",
       "      <th>cnt</th>\n",
       "    </tr>\n",
       "  </thead>\n",
       "  <tbody>\n",
       "    <tr>\n",
       "      <th>0</th>\n",
       "      <td>1</td>\n",
       "      <td>2011-01-01</td>\n",
       "      <td>1</td>\n",
       "      <td>0</td>\n",
       "      <td>1</td>\n",
       "      <td>0</td>\n",
       "      <td>6</td>\n",
       "      <td>0</td>\n",
       "      <td>2</td>\n",
       "      <td>0.344167</td>\n",
       "      <td>0.363625</td>\n",
       "      <td>0.805833</td>\n",
       "      <td>0.160446</td>\n",
       "      <td>331</td>\n",
       "      <td>654</td>\n",
       "      <td>985</td>\n",
       "    </tr>\n",
       "    <tr>\n",
       "      <th>1</th>\n",
       "      <td>2</td>\n",
       "      <td>2011-01-02</td>\n",
       "      <td>1</td>\n",
       "      <td>0</td>\n",
       "      <td>1</td>\n",
       "      <td>0</td>\n",
       "      <td>0</td>\n",
       "      <td>0</td>\n",
       "      <td>2</td>\n",
       "      <td>0.363478</td>\n",
       "      <td>0.353739</td>\n",
       "      <td>0.696087</td>\n",
       "      <td>0.248539</td>\n",
       "      <td>131</td>\n",
       "      <td>670</td>\n",
       "      <td>801</td>\n",
       "    </tr>\n",
       "    <tr>\n",
       "      <th>2</th>\n",
       "      <td>3</td>\n",
       "      <td>2011-01-03</td>\n",
       "      <td>1</td>\n",
       "      <td>0</td>\n",
       "      <td>1</td>\n",
       "      <td>0</td>\n",
       "      <td>1</td>\n",
       "      <td>1</td>\n",
       "      <td>1</td>\n",
       "      <td>0.196364</td>\n",
       "      <td>0.189405</td>\n",
       "      <td>0.437273</td>\n",
       "      <td>0.248309</td>\n",
       "      <td>120</td>\n",
       "      <td>1229</td>\n",
       "      <td>1349</td>\n",
       "    </tr>\n",
       "    <tr>\n",
       "      <th>3</th>\n",
       "      <td>4</td>\n",
       "      <td>2011-01-04</td>\n",
       "      <td>1</td>\n",
       "      <td>0</td>\n",
       "      <td>1</td>\n",
       "      <td>0</td>\n",
       "      <td>2</td>\n",
       "      <td>1</td>\n",
       "      <td>1</td>\n",
       "      <td>0.200000</td>\n",
       "      <td>0.212122</td>\n",
       "      <td>0.590435</td>\n",
       "      <td>0.160296</td>\n",
       "      <td>108</td>\n",
       "      <td>1454</td>\n",
       "      <td>1562</td>\n",
       "    </tr>\n",
       "    <tr>\n",
       "      <th>4</th>\n",
       "      <td>5</td>\n",
       "      <td>2011-01-05</td>\n",
       "      <td>1</td>\n",
       "      <td>0</td>\n",
       "      <td>1</td>\n",
       "      <td>0</td>\n",
       "      <td>3</td>\n",
       "      <td>1</td>\n",
       "      <td>1</td>\n",
       "      <td>0.226957</td>\n",
       "      <td>0.229270</td>\n",
       "      <td>0.436957</td>\n",
       "      <td>0.186900</td>\n",
       "      <td>82</td>\n",
       "      <td>1518</td>\n",
       "      <td>1600</td>\n",
       "    </tr>\n",
       "  </tbody>\n",
       "</table>\n",
       "</div>"
      ],
      "text/plain": [
       "   instant      dteday  season  yr  mnth  holiday  weekday  workingday  \\\n",
       "0        1  2011-01-01       1   0     1        0        6           0   \n",
       "1        2  2011-01-02       1   0     1        0        0           0   \n",
       "2        3  2011-01-03       1   0     1        0        1           1   \n",
       "3        4  2011-01-04       1   0     1        0        2           1   \n",
       "4        5  2011-01-05       1   0     1        0        3           1   \n",
       "\n",
       "   weathersit      temp     atemp       hum  windspeed  casual  registered  \\\n",
       "0           2  0.344167  0.363625  0.805833   0.160446     331         654   \n",
       "1           2  0.363478  0.353739  0.696087   0.248539     131         670   \n",
       "2           1  0.196364  0.189405  0.437273   0.248309     120        1229   \n",
       "3           1  0.200000  0.212122  0.590435   0.160296     108        1454   \n",
       "4           1  0.226957  0.229270  0.436957   0.186900      82        1518   \n",
       "\n",
       "    cnt  \n",
       "0   985  \n",
       "1   801  \n",
       "2  1349  \n",
       "3  1562  \n",
       "4  1600  "
      ]
     },
     "execution_count": 9,
     "metadata": {},
     "output_type": "execute_result"
    }
   ],
   "source": [
    "bikes = pd.read_csv(\"data/bike_rental_day.csv\")\n",
    "\n",
    "bikes.head()"
   ]
  },
  {
   "cell_type": "code",
   "execution_count": 10,
   "metadata": {},
   "outputs": [
    {
     "name": "stdout",
     "output_type": "stream",
     "text": [
      "0.86593707250342\n",
      "0.6183310533515732\n"
     ]
    }
   ],
   "source": [
    "# Get the probability that more than 2000 bikes were rented for any given day.\n",
    "probability_over_2000 = bikes[bikes['cnt']> 2000].shape[0]/bikes.shape[0]\n",
    "print(probability_over_2000)\n",
    "\n",
    "# Get the probability that more than 4000 bikes were rented for any given day.\n",
    "probability_over_4000 = bikes[bikes['cnt'] > 4000].shape[0]/bikes.shape[0]\n",
    "print(probability_over_4000)"
   ]
  },
  {
   "cell_type": "code",
   "execution_count": 11,
   "metadata": {},
   "outputs": [
    {
     "name": "stdout",
     "output_type": "stream",
     "text": [
      "0.375\n"
     ]
    }
   ],
   "source": [
    "# Flip a coin 3 times.  Calculate probability that 1 of 3 is heads\n",
    "\n",
    "# There are 8 total combinations of flips (2**3).  3 of these have 1 head\n",
    "coin_1_prob = 3/8\n",
    "print(coin_1_prob)"
   ]
  },
  {
   "cell_type": "code",
   "execution_count": 12,
   "metadata": {},
   "outputs": [],
   "source": [
    "#Find the number of combinations in which 1 day of 5 will be sunny.  probability of sunny day is 0.7\n",
    "#Assign the result to sunny_1_combinations.\n",
    "sunny_1_combinations = 5"
   ]
  },
  {
   "cell_type": "markdown",
   "metadata": {},
   "source": [
    "We can calculate the number of combinations in which an outcome can occur k times in a set of events with a formula: $\\frac{N!}{k!(N-k)!}$  In this formula, $N$ is the total number of events we have, and $k$ is the target number of times we want our desired outcome to occur"
   ]
  },
  {
   "cell_type": "code",
   "execution_count": 13,
   "metadata": {},
   "outputs": [
    {
     "name": "stdout",
     "output_type": "stream",
     "text": [
      "True\n"
     ]
    }
   ],
   "source": [
    "# Implementing and testing my own recursive factorial calculation method\n",
    "\n",
    "import math\n",
    "\n",
    "def factorial(n):\n",
    "    if n <= 1:\n",
    "        return 1\n",
    "    return n * factorial(n-1)\n",
    "\n",
    "def verify_factorial(n):\n",
    "    for i in range(n):\n",
    "        if factorial(i) != math.factorial(i):\n",
    "            return False\n",
    "    return True\n",
    "\n",
    "print(verify_factorial(100))"
   ]
  },
  {
   "cell_type": "code",
   "execution_count": 14,
   "metadata": {},
   "outputs": [
    {
     "name": "stdout",
     "output_type": "stream",
     "text": [
      "45.0 10.0\n"
     ]
    }
   ],
   "source": [
    "def number_combinations(N, k):\n",
    "    return factorial(N)/(factorial(k)*factorial(N-k))\n",
    "\n",
    "combinations_8 = number_combinations(10,8)\n",
    "combinations_9 = number_combinations(10,9)\n",
    "\n",
    "print(combinations_8,combinations_9)"
   ]
  },
  {
   "cell_type": "code",
   "execution_count": 15,
   "metadata": {},
   "outputs": [
    {
     "name": "stdout",
     "output_type": "stream",
     "text": [
      "0.03086999999999999\n"
     ]
    }
   ],
   "source": [
    "#Find the probability of a single combination for finding 3 days out of 5 are sunny.\n",
    "\n",
    "combinations_3 = number_combinations(5,3)\n",
    "\n",
    "prob_combination_3 = 0.7*0.7*0.7*0.3*0.3\n",
    "print(prob_combination_3)"
   ]
  },
  {
   "cell_type": "markdown",
   "metadata": {},
   "source": [
    "The probability of a single combination occurring is given by $p^{k} * q^{N-k}$. $p$ = probability of desired outcome occurring in any given event.  $q$ = probability of other outcome occurring.  $N$ is the total number of events we have, and $k$ is the target number of times we want our desired outcome to occur.  We can verify this with our sunny days example."
   ]
  },
  {
   "cell_type": "code",
   "execution_count": 16,
   "metadata": {},
   "outputs": [
    {
     "name": "stdout",
     "output_type": "stream",
     "text": [
      "0.12093235199999997 0.04031078399999999 0.006046617599999997\n"
     ]
    }
   ],
   "source": [
    "#Write a function to find the probability of a single combination occurring.\n",
    "\n",
    "def probability(N, k, p):\n",
    "    return (p**k) * ((1-p)**(N-k))\n",
    "\n",
    "# Use the function to calculate the probability of 8 days out of 10 having more than 4000 riders.\n",
    "prob_8 = number_combinations(10,8) * probability(10,8, 0.6)\n",
    "\n",
    "# 9 days\n",
    "prob_9 = number_combinations(10,9) * probability(10,9,0.6)\n",
    "\n",
    "# 10 days\n",
    "prob_10 = number_combinations(10,10) * probability(10,10,0.6)\n",
    "\n",
    "print(prob_8,prob_9,prob_10)\n"
   ]
  },
  {
   "cell_type": "markdown",
   "metadata": {},
   "source": [
    "# Mission 3: probability distributions"
   ]
  },
  {
   "cell_type": "code",
   "execution_count": 17,
   "metadata": {},
   "outputs": [],
   "source": [
    "import pandas as pd\n",
    "\n",
    "bikes = pd.read_csv(\"data/bike_rental_day.csv\")\n"
   ]
  },
  {
   "cell_type": "code",
   "execution_count": 18,
   "metadata": {},
   "outputs": [
    {
     "name": "stdout",
     "output_type": "stream",
     "text": [
      "0.3912448700410397\n"
     ]
    }
   ],
   "source": [
    "# Find the probability of there being more than 5000 riders in a single day (using the cnt column)\n",
    "\n",
    "prob_over_5000 = bikes[bikes['cnt'] > 5000].shape[0] / bikes.shape[0]\n",
    "print(prob_over_5000)"
   ]
  },
  {
   "cell_type": "code",
   "execution_count": 19,
   "metadata": {},
   "outputs": [
    {
     "data": {
      "image/png": "[encoded data removed]",
      "text/plain": [
       "<matplotlib.figure.Figure at 0x1133242b0>"
      ]
     },
     "metadata": {},
     "output_type": "display_data"
    },
    {
     "data": {
      "image/png": "[encoded data removed]",
      "text/plain": [
       "<matplotlib.figure.Figure at 0x11337e3c8>"
      ]
     },
     "metadata": {},
     "output_type": "display_data"
    },
    {
     "data": {
      "image/png": "[encoded data removed]",
      "text/plain": [
       "<matplotlib.figure.Figure at 0x10e96f978>"
      ]
     },
     "metadata": {},
     "output_type": "display_data"
    }
   ],
   "source": [
    "import math\n",
    "# Using the knowledge from the last mission, create a function that can compute the probability of k outcomes out of N events occurring.\n",
    "\n",
    "def number_combinations(N, k):\n",
    "    return math.factorial(N)/(math.factorial(k) * math.factorial(N-k))\n",
    "\n",
    "def probability(N, k, p):\n",
    "    return number_combinations(N,k) * p**k * (1-p) ** (N-k)\n",
    "\n",
    "# Use the function to find the probability of each number of outcomes in outcome_counts occurring.\n",
    "\n",
    "# Each item in this list represents one k, starting from 0 and going up to and including 30.\n",
    "outcome_counts = list(range(31))\n",
    "N = 30 # 30 days\n",
    "p = 0.39 # probability of having more than 5000 bikes rented in one day\n",
    "\n",
    "outcome_probs = [probability(30, i, p) for i in outcome_counts]\n",
    "outcome_probs\n",
    "\n",
    "plt.scatter(range(0,31),outcome_probs)\n",
    "plt.show()\n",
    "\n",
    "plt.bar(range(0,31),outcome_probs)\n",
    "plt.show()\n",
    "\n",
    "plt.plot(range(0,31),outcome_probs)\n",
    "plt.show()"
   ]
  },
  {
   "cell_type": "code",
   "execution_count": 20,
   "metadata": {},
   "outputs": [
    {
     "data": {
      "image/png": "[encoded data removed]",
      "text/plain": [
       "<matplotlib.figure.Figure at 0x1132fb2b0>"
      ]
     },
     "metadata": {},
     "output_type": "display_data"
    }
   ],
   "source": [
    "import scipy\n",
    "from scipy import linspace\n",
    "from scipy.stats import binom\n",
    "\n",
    "# Create a range of numbers from 0 to 30, with 31 elements (each number has one entry).\n",
    "outcome_counts = linspace(0,30,31)\n",
    "binom_dist = binom.pmf(outcome_counts,30,0.39)\n",
    "\n",
    "plt.bar(outcome_counts,binom_dist)\n",
    "plt.show()"
   ]
  },
  {
   "cell_type": "markdown",
   "metadata": {},
   "source": [
    "Sometimes we'll want to be able to tell people the expected value of a probability distribution -- the most likely result of a single sample that we look at.\n",
    "\n",
    "To compute this: $N * p$"
   ]
  },
  {
   "cell_type": "code",
   "execution_count": 21,
   "metadata": {},
   "outputs": [
    {
     "name": "stdout",
     "output_type": "stream",
     "text": [
      "11.700000000000001\n"
     ]
    }
   ],
   "source": [
    "dist_mean = 30 * 0.39\n",
    "print(dist_mean)"
   ]
  },
  {
   "cell_type": "markdown",
   "metadata": {},
   "source": [
    "We can calculate the mean () and standard deviation () of a binomial probability distribution using these formulas:\n",
    "\n",
    "$\\mu = N * p$\n",
    "\n",
    "$\\sigma = \\sqrt{N*p*q}$"
   ]
  },
  {
   "cell_type": "code",
   "execution_count": 22,
   "metadata": {},
   "outputs": [
    {
     "data": {
      "text/plain": [
       "2.671516423307182"
      ]
     },
     "execution_count": 22,
     "metadata": {},
     "output_type": "execute_result"
    }
   ],
   "source": [
    "dist_stdev = (30 * 0.39 * 0.61) ** 0.5\n",
    "dist_stdev"
   ]
  },
  {
   "cell_type": "markdown",
   "metadata": {},
   "source": [
    "Generate a binomial distribution, with N=10, and p=.39.\n",
    "* Find the probabilities for each value in outcome_counts.\n",
    "* Plot the resulting data as a bar chart.\n",
    "\n",
    "Generate a binomial distribution, with N=100, and p=.39.\n",
    "* Find the probabilities for each value in outcome_counts.\n",
    "* Plot the resulting data as a bar chart."
   ]
  },
  {
   "cell_type": "code",
   "execution_count": 23,
   "metadata": {},
   "outputs": [
    {
     "data": {
      "image/png": "[encoded data removed]",
      "text/plain": [
       "<matplotlib.figure.Figure at 0x1a1dc04c50>"
      ]
     },
     "metadata": {},
     "output_type": "display_data"
    },
    {
     "data": {
      "image/png": "[encoded data removed]",
      "text/plain": [
       "<matplotlib.figure.Figure at 0x1a1dd3afd0>"
      ]
     },
     "metadata": {},
     "output_type": "display_data"
    },
    {
     "data": {
      "image/png": "[encoded data removed]",
      "text/plain": [
       "<matplotlib.figure.Figure at 0x1a1dd3aef0>"
      ]
     },
     "metadata": {},
     "output_type": "display_data"
    }
   ],
   "source": [
    "binom_10 = binom.pmf(range(0,11),10, 0.39)\n",
    "plt.bar(range(0,11),binom_10)\n",
    "plt.show()\n",
    "\n",
    "binom_100 = binom.pmf(range(0,101),100,0.39)\n",
    "plt.bar(range(0,101),binom_100)\n",
    "plt.show()\n",
    "\n",
    "binom_1000 = binom.pmf(range(0,1001),1000,0.39)\n",
    "plt.bar(range(0,1001),binom_1000)\n",
    "plt.show()"
   ]
  },
  {
   "cell_type": "code",
   "execution_count": 24,
   "metadata": {},
   "outputs": [
    {
     "data": {
      "image/png": "[encoded data removed]",
      "text/plain": [
       "<matplotlib.figure.Figure at 0x1a1df33da0>"
      ]
     },
     "metadata": {},
     "output_type": "display_data"
    }
   ],
   "source": [
    "# Create a range of numbers from 0 to 100, with 101 elements (each number has one entry).\n",
    "outcome_counts = scipy.linspace(0,100,101)\n",
    "\n",
    "# Create a probability mass function along the outcome_counts.\n",
    "outcome_probs = binom.pmf(outcome_counts,100,0.39)\n",
    "\n",
    "# Plot a line, not a bar chart.\n",
    "plt.plot(outcome_counts, outcome_probs)\n",
    "plt.show()"
   ]
  },
  {
   "cell_type": "code",
   "execution_count": 25,
   "metadata": {},
   "outputs": [
    {
     "data": {
      "image/png": "[encoded data removed]",
      "text/plain": [
       "<matplotlib.figure.Figure at 0x1a1de5fe10>"
      ]
     },
     "metadata": {},
     "output_type": "display_data"
    }
   ],
   "source": [
    "# practicing creating my own probability mass function for a binomial distribution\n",
    "def number_combinations(N, k):\n",
    "    return math.factorial(N)/(math.factorial(k)*math.factorial(N-k))\n",
    "\n",
    "def probability(N, k, p):\n",
    "    return p**k * (1-p)** (N-k) * number_combinations(N,k)\n",
    "\n",
    "N = 30\n",
    "p = 0.39\n",
    "\n",
    "dist = [probability(N, i, p) for i in range(0,31)]\n",
    "\n",
    "fig = plt.figure(figsize = (10,5))\n",
    "ax1 = fig.add_subplot(121)\n",
    "ax1.bar(range(0,31),dist)\n",
    "\n",
    "ax2 = fig.add_subplot(122)\n",
    "ax2.bar(range(0,31),binom.pmf(range(0,31),30,0.39))\n",
    "plt.show()"
   ]
  },
  {
   "cell_type": "markdown",
   "metadata": {},
   "source": [
    "Create a cumulative distribution where $N = 30$ and $p = .39$ and generate a line plot of the distribution.\n"
   ]
  },
  {
   "cell_type": "code",
   "execution_count": 26,
   "metadata": {},
   "outputs": [
    {
     "data": {
      "image/png": "[encoded data removed]",
      "text/plain": [
       "<matplotlib.figure.Figure at 0x1a1e36fcc0>"
      ]
     },
     "metadata": {},
     "output_type": "display_data"
    }
   ],
   "source": [
    "dist = binom.cdf(range(0,31),30,0.39)\n",
    "plt.plot(range(0,31),dist)\n",
    "plt.show()"
   ]
  },
  {
   "cell_type": "markdown",
   "metadata": {},
   "source": [
    "If we want to figure out the number of standard deviations from the mean a value is, we just do:\n",
    "\n",
    "$\\frac{k-\\mu}{\\sigma}$\n",
    "\n",
    "Remember:\n",
    "\n",
    "$\\mu = N * p$\n",
    "\n",
    "$\\sigma = \\sqrt{N*p*q}$"
   ]
  },
  {
   "cell_type": "code",
   "execution_count": 27,
   "metadata": {},
   "outputs": [],
   "source": [
    "#Find the probability to the left of k=16 (including 16) when N=30 and p=0.39.\n",
    "left_16 = binom.cdf(16,30,0.39)\n",
    "\n",
    "#Find the probability to the right of k=16 (including 16) when N=30 and p=0.39.\n",
    "right_16 = 1 - left_16"
   ]
  },
  {
   "cell_type": "markdown",
   "metadata": {},
   "source": [
    "# Mission 4: Significance testing"
   ]
  },
  {
   "cell_type": "markdown",
   "metadata": {},
   "source": [
    "Now that we have decided on a test statistic, we can rewrite our hypotheses to be more precise:\n",
    "\n",
    "Null hypothesis: $\\bar{x}_b - \\bar{x}_a = 0$<br />\n",
    "Alternative hypothesis: $\\bar{x}_b - \\bar{x}_a > 0$\n"
   ]
  },
  {
   "cell_type": "markdown",
   "metadata": {},
   "source": [
    "# Mission 5: Chi-squared testing\n",
    "\n",
    "Each row represents a single person who was counted in the 1990 US Census, and contains information about their income and demograpics. Here are some of the relevant columns:\n",
    "\n",
    "* age -- how old the person is\n",
    "* workclass -- the type of sector the person is employed in.\n",
    "* race -- the race of the person.\n",
    "* sex -- the gender of the person, either Male or Female.\n",
    "\n",
    "The entire dataset has 32561 rows, and is a sample of the full Census. Of the rows, 10771 are Female, and 21790 are Male. These numbers look a bit off, because the full Census shows that the US is about 50% Male and 50% Female. So our expected values for number of Males and Females would be 16280.5 each.\n",
    "\n",
    "![table](table.png)"
   ]
  },
  {
   "cell_type": "code",
   "execution_count": 28,
   "metadata": {},
   "outputs": [],
   "source": [
    "import pandas as pd\n",
    "import numpy as np\n",
    "import matplotlib.pyplot as plt"
   ]
  },
  {
   "cell_type": "code",
   "execution_count": 30,
   "metadata": {},
   "outputs": [
    {
     "name": "stdout",
     "output_type": "stream",
     "text": [
      "-0.33841098246368356 0.33841098246368356\n"
     ]
    }
   ],
   "source": [
    "# In the last screen, our observed values were 10771 Females, and 21790 Males.\n",
    "# Our expected values were 16280.5 Females and 16280.5 Males.\n",
    "\n",
    "female_diff = (10771-16280.5)/16280.5\n",
    "male_diff = (21790-16280.5)/16280.5\n",
    "print(female_diff,male_diff)"
   ]
  },
  {
   "cell_type": "markdown",
   "metadata": {},
   "source": [
    "We can calculate $\\chi^2$, the chi-squared value, by adding up all of the squared differences between observed and expected values."
   ]
  },
  {
   "cell_type": "code",
   "execution_count": 31,
   "metadata": {},
   "outputs": [
    {
     "name": "stdout",
     "output_type": "stream",
     "text": [
      "3728.950615767329\n"
     ]
    }
   ],
   "source": [
    "#Compute the difference in number of observed Females vs number of expected Females using the updated technique. Assign the result to female_diff.\n",
    "#Compute the difference in number of observed Males vs number of expected Males using the updated technique. Assign the result to male_diff.\n",
    "#Add male_diff and female_diff together and assign to the variable gender_chisq.\n",
    "\n",
    "female_diff = (10771-16280.5)**2/16280.5\n",
    "male_diff = (21790-16280.5)**2/16280.5\n",
    "gender_chisq = female_diff + male_diff\n",
    "print(gender_chisq)"
   ]
  },
  {
   "cell_type": "code",
   "execution_count": 47,
   "metadata": {},
   "outputs": [
    {
     "name": "stdout",
     "output_type": "stream",
     "text": [
      "0.1328122600657228 0.1328122600657228\n",
      "0.23993427720278862 0.23993427720278862\n",
      "0.011194373637173306 0.011194373637173306\n",
      "0.00812321488897761 0.00812321488897761\n",
      "2.3476091029145296 2.3476091029145296\n",
      "0.20308037222444028 0.20308037222444028\n",
      "1.0460520254291945 1.0460520254291945\n",
      "1.0300819999385769 1.0300819999385769\n",
      "0.49201498725469117 0.49201498725469117\n",
      "0.06094714535794355 0.06094714535794355\n",
      "0.5255520407849882 0.5255520407849882\n",
      "0.05713890851018089 0.05713890851018089\n",
      "0.011194373637173306 0.011194373637173306\n",
      "0.009597371088111544 0.009597371088111544\n",
      "1.7855870519947177 1.7855870519947177\n",
      "0.18919873468259574 0.18919873468259574\n",
      "0.45958355087374464 0.45958355087374464\n",
      "0.03686926077208931 0.03686926077208931\n",
      "0.9674303614753846 0.9674303614753846\n",
      "0.21745339516599613 0.21745339516599613\n",
      "0.0012438192930192562 0.0012438192930192562\n",
      "0.0007524338933079451 0.0007524338933079451\n",
      "0.2323178035072633 0.2323178035072633\n",
      "0.7364792236110684 0.7364792236110684\n",
      "0.09104450109026135 0.09104450109026135\n",
      "0.012914222536162895 0.012914222536162895\n",
      "0.1328122600657228 0.1328122600657228\n",
      "0.21745339516599613 0.21745339516599613\n",
      "0.548524308221492 0.548524308221492\n",
      "0.25553576364362274 0.25553576364362274\n",
      "0.4282577316421486 0.4282577316421486\n",
      "0.41806148459813885 0.41806148459813885\n",
      "0.0863763397930039 0.0863763397930039\n",
      "0.7499923221031295 0.7499923221031295\n",
      "1.2648413746506557 1.2648413746506557\n",
      "0.16929762599428763 0.16929762599428763\n",
      "0.29668929086944507 0.29668929086944507\n",
      "0.20308037222444028 0.20308037222444028\n",
      "2.2057215687478884 2.2057215687478884\n",
      "0.014756917785080311 0.014756917785080311\n",
      "0.012914222536162895 0.012914222536162895\n",
      "0.7364792236110684 0.7364792236110684\n",
      "0.1328122600657228 0.1328122600657228\n",
      "0.014756917785080311 0.014756917785080311\n",
      "0.00812321488897761 0.00812321488897761\n",
      "0.12163324222229047 0.12163324222229047\n",
      "0.00812321488897761 0.00812321488897761\n",
      "0.0007524338933079451 0.0007524338933079451\n",
      "0.41806148459813885 0.41806148459813885\n",
      "0.09104450109026135 0.09104450109026135\n",
      "0.2102054605202543 0.2102054605202543\n",
      "0.0003838948435244618 0.0003838948435244618\n",
      "0.2882128927244249 0.2882128927244249\n",
      "0.5719879610577071 0.5719879610577071\n",
      "0.17580848254046252 0.17580848254046252\n",
      "1.723303952581309 1.723303952581309\n",
      "0.11622800282546605 0.11622800282546605\n",
      "0.2102054605202543 0.2102054605202543\n",
      "0.0067719050397715055 0.0067719050397715055\n",
      "1.6823961180553422 1.6823961180553422\n",
      "0.44901876477995145 0.44901876477995145\n",
      "4.428134885292221 4.428134885292221\n",
      "0.14448266330886644 0.14448266330886644\n",
      "0.003455053591720156 0.003455053591720156\n",
      "1.1111605908909432 1.1111605908909432\n",
      "0.04989097386443905 0.04989097386443905\n",
      "0.27162863548416816 0.27162863548416816\n",
      "0.0863763397930039 0.0863763397930039\n",
      "0.1566444519517214 0.1566444519517214\n",
      "0.04645127606645987 0.04645127606645987\n",
      "0.1328122600657228 0.1328122600657228\n",
      "0.6327969042719818 0.6327969042719818\n",
      "0.20308037222444028 0.20308037222444028\n",
      "0.00013820214366880624 0.00013820214366880624\n",
      "0.16929762599428763 0.16929762599428763\n",
      "0.014756917785080311 0.014756917785080311\n",
      "0.00812321488897761 0.00812321488897761\n",
      "0.26352077638893157 0.26352077638893157\n",
      "3.671892755136513 3.671892755136513\n",
      "0.35946377568256505 0.35946377568256505\n",
      "0.00812321488897761 0.00812321488897761\n",
      "0.012914222536162895 0.012914222536162895\n",
      "0.7098215656767298 0.7098215656767298\n",
      "2.0234175854549923 2.0234175854549923\n",
      "0.0007524338933079451 0.0007524338933079451\n",
      "0.12163324222229047 0.12163324222229047\n",
      "0.0003838948435244618 0.0003838948435244618\n",
      "0.11622800282546605 0.11622800282546605\n",
      "0.001858051042658395 0.001858051042658395\n",
      "0.4810816621111145 0.4810816621111145\n",
      "0.0012438192930192562 0.0012438192930192562\n",
      "0.005543441540493228 0.005543441540493228\n",
      "0.018810847332698628 0.018810847332698628\n",
      "0.07740855624827248 0.07740855624827248\n",
      "0.26352077638893157 0.26352077638893157\n",
      "0.06487822855563403 0.06487822855563403\n",
      "0.4810816621111145 0.4810816621111145\n",
      "0.018810847332698628 0.018810847332698628\n",
      "0.04645127606645987 0.04645127606645987\n",
      "0.00013820214366880624 0.00013820214366880624\n"
     ]
    },
    {
     "data": {
      "image/png": "[encoded data removed]",
      "text/plain": [
       "<matplotlib.figure.Figure at 0x10e9c7da0>"
      ]
     },
     "metadata": {},
     "output_type": "display_data"
    }
   ],
   "source": [
    "chi_squared_values = []\n",
    "total = 32561\n",
    "exp = total / 2\n",
    "\n",
    "for i in range(1000):\n",
    "    male_fem = [1 if np.random.random() >= 0.5 else 0 for _ in range(total)]\n",
    "    males = sum([1 for each in male_fem if each == 0])\n",
    "    females = sum(male_fem)\n",
    "    male_diff = (males-exp)**2/exp\n",
    "    female_diff = (females-exp)**2/exp\n",
    "    #print(male_diff,female_diff)\n",
    "\n",
    "    chi_sq = male_diff + female_diff\n",
    "    chi_squared_values.append(chi_sq)\n",
    "\n",
    "plt.hist(chi_squared_values)\n",
    "plt.show()"
   ]
  },
  {
   "cell_type": "code",
   "execution_count": 51,
   "metadata": {},
   "outputs": [
    {
     "data": {
      "text/plain": [
       "(array([721., 164.,  57.,  34.,   9.,   9.,   2.,   3.,   0.,   1.]),\n",
       " array([3.07115875e-05, 1.19969903e+00, 2.39936734e+00, 3.59903566e+00,\n",
       "        4.79870397e+00, 5.99837229e+00, 7.19804060e+00, 8.39770892e+00,\n",
       "        9.59737723e+00, 1.07970455e+01, 1.19967139e+01]),\n",
       " <a list of 10 Patch objects>)"
      ]
     },
     "execution_count": 51,
     "metadata": {},
     "output_type": "execute_result"
    },
    {
     "data": {
      "image/png": "[encoded data removed]",
      "text/plain": [
       "<matplotlib.figure.Figure at 0x1a1e0f1be0>"
      ]
     },
     "metadata": {},
     "output_type": "display_data"
    }
   ],
   "source": []
  },
  {
   "cell_type": "code",
   "execution_count": null,
   "metadata": {},
   "outputs": [],
   "source": []
  }
 ],
 "metadata": {
  "kernelspec": {
   "display_name": "Python 3",
   "language": "python",
   "name": "python3"
  },
  "language_info": {
   "codemirror_mode": {
    "name": "ipython",
    "version": 3
   },
   "file_extension": ".py",
   "mimetype": "text/x-python",
   "name": "python",
   "nbconvert_exporter": "python",
   "pygments_lexer": "ipython3",
   "version": "3.6.5"
  }
 },
 "nbformat": 4,
 "nbformat_minor": 2
}
