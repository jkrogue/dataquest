{
 "cells": [
  {
   "cell_type": "markdown",
   "metadata": {},
   "source": [
    "# Key descriptive statistics:\n",
    "\n",
    "* Mean, mode, median = obvious\n",
    "* Variance: describes how much each point varies from the mean. Python code: sum([(i - mean) ** 2 for i in list])/len(list)\n",
    "* Standard deviation: sqrt of variance. Python code: var ** 0.5\n",
    "* Covariance: describes how much two continuous variables *vary* together (i.e., when one is far from the mean is other far from the mean).  Python code: sum([(x[i] - mean_x) * (y[i] - mean_y) for i in range(len(x))])/len(list)\n",
    "* Pearson correlation coefficient: measure of linear correlation between 2 variables, ranges from -1 to 1.  Calculated by dividing covariance by product of each stddev.  Python code: covar / (stdev_x * stdev_y)."
   ]
  },
  {
   "cell_type": "markdown",
   "metadata": {},
   "source": [
    "# Linear regression\n",
    "\n",
    "* Slope = covariance(x,y) / var(x).\n",
    "  * Python code (assumes x is series object):\n",
    "  * from numpy import cov\n",
    "  * cov(x,y)[0,1] / x.var()\n",
    "* Y-intercept = mean_y - (mean_x * slope)\n",
    "* Sum of squared residuals = sum([(predicted_y[i] - y[i]) ** 2 for i in range(len(y))])\n",
    "* Standard error = square root( sum of squared residuals / (n-2)).  Python code: (rss/(n-2)) ** 0.5"
   ]
  },
  {
   "cell_type": "code",
   "execution_count": null,
   "metadata": {},
   "outputs": [],
   "source": []
  }
 ],
 "metadata": {
  "kernelspec": {
   "display_name": "Python 3",
   "language": "python",
   "name": "python3"
  },
  "language_info": {
   "codemirror_mode": {
    "name": "ipython",
    "version": 3
   },
   "file_extension": ".py",
   "mimetype": "text/x-python",
   "name": "python",
   "nbconvert_exporter": "python",
   "pygments_lexer": "ipython3",
   "version": "3.6.5"
  }
 },
 "nbformat": 4,
 "nbformat_minor": 2
}
