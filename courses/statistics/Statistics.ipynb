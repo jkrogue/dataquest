{
 "cells": [
  {
   "cell_type": "markdown",
   "metadata": {},
   "source": [
    "# Key descriptive statistics:\n",
    "\n",
    "* Mean, mode, median = obvious\n",
    "* Variance: describes how much each point varies from the mean. Python code: sum([(i - mean) ** 2 for i in list])/len(list)\n",
    "* Standard deviation: sqrt of variance. Python code: var ** 0.5\n",
    "* Covariance: describes how much two continuous variables *vary* together (i.e., when one is far from the mean is other far from the mean).  Python code: sum([(x[i] - mean_x) * (y[i] - mean_y) for i in range(len(x))])/(len(list)-1)\n",
    "* Pearson correlation coefficient: measure of linear correlation between 2 variables, ranges from -1 to 1.  Calculated by dividing covariance by product of each stddev.  Python code: covar / (stdev_x * stdev_y)."
   ]
  },
  {
   "cell_type": "markdown",
   "metadata": {},
   "source": [
    "# Linear regression\n",
    "\n",
    "* Slope = covariance(x,y) / var(x).\n",
    "  * Python code (assumes x is series object):\n",
    "  * from numpy import cov\n",
    "  * cov(x,y)[0,1] / x.var()\n",
    "* Y-intercept = mean_y - (mean_x * slope)\n",
    "* Sum of squared residuals = sum([(predicted_y[i] - y[i]) ** 2 for i in range(len(y))])\n",
    "* Standard error = square root( sum of squared residuals / (n-2)).  Python code: (rss/(n-2)) ** 0.5"
   ]
  },
  {
   "cell_type": "markdown",
   "metadata": {},
   "source": [
    "# Distributions and sampling\n",
    "\n",
    "Dataset: us_income.csv - income demographics by county \n",
    "\n",
    "Columns - \n",
    "* id -- the county id.\n",
    "* county -- the name and state of the county.\n",
    "* pop_over_25 -- the number of adults over age 25.\n",
    "* median_income -- the median income for residents over age 25 in the county.\n",
    "* median_income_no_hs -- median income for residents without a high school education.\n",
    "* median_income_hs -- median income for high school graduates who didn't go to college.\n",
    "* median_income_some_college -- median income for residents who went to college but didn't graduate.\n",
    "* median_income_college -- median income for college graduates.\n",
    "* median_income_graduate_degree -- median income for those with a masters or other graduate degree."
   ]
  },
  {
   "cell_type": "code",
   "execution_count": 2,
   "metadata": {},
   "outputs": [],
   "source": [
    "import pandas as pd\n",
    "\n",
    "income = pd.read_csv('data/us_income.csv')"
   ]
  },
  {
   "cell_type": "code",
   "execution_count": 3,
   "metadata": {},
   "outputs": [],
   "source": [
    "lowest_row = income['median_income'].idxmin()\n",
    "lowest_income_county = income.loc[lowest_row,'county']\n",
    "gt_500000 = income[income['pop_over_25'] > 500000]\n",
    "lowest_income_high_pop_county = gt_500000.loc[gt_500000['median_income'].idxmin(),'county']"
   ]
  },
  {
   "cell_type": "code",
   "execution_count": 4,
   "metadata": {},
   "outputs": [],
   "source": [
    "import random\n",
    "random.seed(20)\n",
    "new_sequence = [random.randint(0,10) for _ in range(10)]"
   ]
  },
  {
   "cell_type": "code",
   "execution_count": 7,
   "metadata": {},
   "outputs": [
    {
     "name": "stdout",
     "output_type": "stream",
     "text": [
      "[10, 1, 2, 4, 0]\n"
     ]
    }
   ],
   "source": [
    "sample_of_5 = random.sample(new_sequence, 5)\n",
    "print(sample_of_5)"
   ]
  },
  {
   "cell_type": "code",
   "execution_count": 15,
   "metadata": {},
   "outputs": [
    {
     "data": {
      "image/png": "[encoded data removed]",
      "text/plain": [
       "<matplotlib.figure.Figure at 0x1182ad6a0>"
      ]
     },
     "metadata": {},
     "output_type": "display_data"
    },
    {
     "data": {
      "image/png": "[encoded data removed]",
      "text/plain": [
       "<matplotlib.figure.Figure at 0x118552be0>"
      ]
     },
     "metadata": {},
     "output_type": "display_data"
    }
   ],
   "source": [
    "import matplotlib.pyplot as plt\n",
    "%matplotlib inline\n",
    "def roll():\n",
    "    return random.randint(1,6)\n",
    "\n",
    "random.seed(1)\n",
    "med_sample = [roll() for _ in range(100)]\n",
    "plt.hist(med_sample, bins=6)\n",
    "plt.show()\n",
    "\n",
    "random.seed(1)\n",
    "large_sample = [roll() for _ in range(10000)]\n",
    "plt.hist(large_sample,bins=6)\n",
    "plt.show()\n"
   ]
  },
  {
   "cell_type": "code",
   "execution_count": 26,
   "metadata": {},
   "outputs": [
    {
     "data": {
      "image/png": "[encoded data removed]",
      "text/plain": [
       "<matplotlib.figure.Figure at 0x118487978>"
      ]
     },
     "metadata": {},
     "output_type": "display_data"
    },
    {
     "data": {
      "image/png": "[encoded data removed]",
      "text/plain": [
       "<matplotlib.figure.Figure at 0x110b8d630>"
      ]
     },
     "metadata": {},
     "output_type": "display_data"
    },
    {
     "data": {
      "image/png": "[encoded data removed]",
      "text/plain": [
       "<matplotlib.figure.Figure at 0x117c19fd0>"
      ]
     },
     "metadata": {},
     "output_type": "display_data"
    },
    {
     "data": {
      "image/png": "[encoded data removed]",
      "text/plain": [
       "<matplotlib.figure.Figure at 0x1186d1d30>"
      ]
     },
     "metadata": {},
     "output_type": "display_data"
    }
   ],
   "source": [
    "def probability_of_one(num_trials, num_rolls):\n",
    "    \"\"\"\n",
    "    This function will take in the number of trials, and the number of rolls per trial.\n",
    "    Then it will conduct each trial, and record the probability of rolling a one.\n",
    "    \"\"\"\n",
    "\n",
    "    probabilities = []\n",
    "    for i in range(num_trials):\n",
    "        dice_rolls = [roll() for _ in range(num_rolls)]\n",
    "        num_ones = len([i for i in dice_rolls if i == 1])\n",
    "        probabilities.append(num_ones/num_rolls)\n",
    "    return probabilities\n",
    "\n",
    "random.seed(1)\n",
    "small_samps = probability_of_one(300, 50)\n",
    "plt.hist(small_samps,bins=20)\n",
    "plt.ylim(0,70)\n",
    "plt.xlim(0,0.4)\n",
    "plt.show()\n",
    "\n",
    "random.seed(1)\n",
    "medium_samps = probability_of_one(300, 100)\n",
    "plt.hist(medium_samps,bins=20)\n",
    "plt.ylim(0,70)\n",
    "plt.xlim(0,0.4)\n",
    "plt.show()\n",
    "\n",
    "random.seed(1)\n",
    "large_samps = probability_of_one(300,1000)\n",
    "plt.hist(large_samps,bins=20)\n",
    "plt.ylim(0,70)\n",
    "plt.xlim(0,0.4)\n",
    "plt.show()\n",
    "\n",
    "random.seed(1)\n",
    "very_large_samps = probability_of_one(300,10000)\n",
    "plt.hist(very_large_samps,bins=20)\n",
    "plt.ylim(0,70)\n",
    "plt.xlim(0,0.4)\n",
    "plt.show()"
   ]
  },
  {
   "cell_type": "markdown",
   "metadata": {},
   "source": [
    "As sample size grows, notice how much tighter the distribution is"
   ]
  },
  {
   "cell_type": "code",
   "execution_count": 28,
   "metadata": {},
   "outputs": [],
   "source": [
    "import numpy\n",
    "\n",
    "large_sample_std = numpy.std(large_sample)\n",
    "\n",
    "large_sample_mean = numpy.mean(large_sample)\n",
    "\n",
    "deviations_from_mean = (0.18 - large_sample_mean)/large_sample_std\n",
    "\n",
    "over_18_count = len([i for i in large_sample if i >= 0.18])"
   ]
  },
  {
   "cell_type": "code",
   "execution_count": 50,
   "metadata": {},
   "outputs": [
    {
     "name": "stdout",
     "output_type": "stream",
     "text": [
      "31063.09385937003\n"
     ]
    },
    {
     "data": {
      "image/png": "[encoded data removed]",
      "text/plain": [
       "<matplotlib.figure.Figure at 0x1185620f0>"
      ]
     },
     "metadata": {},
     "output_type": "display_data"
    },
    {
     "name": "stdout",
     "output_type": "stream",
     "text": [
      "31050.101990000003\n"
     ]
    },
    {
     "data": {
      "image/png": "[encoded data removed]",
      "text/plain": [
       "<matplotlib.figure.Figure at 0x110b740f0>"
      ]
     },
     "metadata": {},
     "output_type": "display_data"
    }
   ],
   "source": [
    "# This is the mean median income in any US county.\n",
    "mean_median_income = income[\"median_income\"].mean()\n",
    "print(mean_median_income)\n",
    "\n",
    "def get_sample_mean(start, end):\n",
    "    return income[\"median_income\"][start:end].mean()\n",
    "\n",
    "def find_mean_incomes(row_step):\n",
    "    mean_median_sample_incomes = []\n",
    "    # Iterate over the indices of the income rows\n",
    "    # Starting at 0, and counting in blocks of row_step (0, row_step, row_step * 2, etc).\n",
    "    for i in range(0, income.shape[0], row_step):\n",
    "        # Find the mean median for the row_step counties from i to i+row_step.\n",
    "        mean_median_sample_incomes.append(get_sample_mean(i, i+row_step))\n",
    "    return mean_median_sample_incomes\n",
    "\n",
    "nonrandom_sample = find_mean_incomes(100)\n",
    "plt.hist(nonrandom_sample, 20)\n",
    "plt.xlim(25000,40000)\n",
    "plt.show()\n",
    "\n",
    "# What you're seeing above is the result of biased sampling.\n",
    "# Instead of selecting randomly, we selected counties that were next to each other in the data.\n",
    "# This picked counties in the same state more often that not, and created means that didn't represent the whole country.\n",
    "# This is the danger of not using random sampling -- you end up with samples that don't reflect the entire population.\n",
    "# This gives you a distribution that isn't normal.\n",
    "\n",
    "import random\n",
    "def select_random_sample(count):\n",
    "    \"\"\"\n",
    "    Returns a random sample with n=count elements from income\n",
    "    \"\"\"\n",
    "    random_indices = random.sample(range(income.shape[0]),count)\n",
    "    return income.iloc[random_indices]\n",
    "\n",
    "random.seed(1)\n",
    "\n",
    "random_means = [select_random_sample(100)[\"median_income\"].mean() for _ in range(1000)]\n",
    "print(numpy.mean(random_means))\n",
    "plt.hist(random_means, bins=20)\n",
    "plt.show()\n"
   ]
  },
  {
   "cell_type": "code",
   "execution_count": 51,
   "metadata": {},
   "outputs": [
    {
     "data": {
      "image/png": "[encoded data removed]",
      "text/plain": [
       "<matplotlib.figure.Figure at 0x110effb70>"
      ]
     },
     "metadata": {},
     "output_type": "display_data"
    },
    {
     "name": "stdout",
     "output_type": "stream",
     "text": [
      "0.6465622532524408\n"
     ]
    }
   ],
   "source": [
    "random.seed(1)\n",
    "\n",
    "random_samples = [select_random_sample(100) for _ in range(1000)]\n",
    "mean_ratios = [(each[\"median_income_hs\"] / each[\"median_income_college\"]).mean() for each in random_samples]\n",
    "plt.hist(mean_ratios,bins=20)\n",
    "plt.show()\n",
    "\n",
    "print(numpy.mean(mean_ratios))"
   ]
  },
  {
   "cell_type": "markdown",
   "metadata": {},
   "source": [
    "# Find significance value\n",
    "\n",
    "Assume we made some change in a sample of 100 counties trying to increase the wages of high school grads vs college grads.  At the end of 5 years the ratio in this sample of counties is 0.675.  What is the significance level of this observation (the likelihood that this value would be obtained by picking a random sample from the population):"
   ]
  },
  {
   "cell_type": "code",
   "execution_count": 56,
   "metadata": {},
   "outputs": [
    {
     "name": "stdout",
     "output_type": "stream",
     "text": [
      "0.014\n"
     ]
    }
   ],
   "source": [
    "gt_675 = len([each for each in mean_ratios if each >= 0.675])\n",
    "significance_value = gt_675/len(mean_ratios)\n",
    "print(significance_value)"
   ]
  },
  {
   "cell_type": "markdown",
   "metadata": {},
   "source": [
    "Repeating above with sample size of 1000"
   ]
  },
  {
   "cell_type": "code",
   "execution_count": 57,
   "metadata": {},
   "outputs": [
    {
     "data": {
      "image/png": "[encoded data removed]",
      "text/plain": [
       "<matplotlib.figure.Figure at 0x1187917b8>"
      ]
     },
     "metadata": {},
     "output_type": "display_data"
    },
    {
     "name": "stdout",
     "output_type": "stream",
     "text": [
      "0.6460284006750108\n"
     ]
    }
   ],
   "source": [
    "random.seed(1)\n",
    "\n",
    "random_samples = [select_random_sample(1000) for _ in range(1000)]\n",
    "mean_ratios = [(each[\"median_income_hs\"] / each[\"median_income_college\"]).mean() for each in random_samples]\n",
    "plt.hist(mean_ratios,bins=20)\n",
    "plt.show()\n",
    "\n",
    "print(numpy.mean(mean_ratios))"
   ]
  },
  {
   "cell_type": "code",
   "execution_count": 58,
   "metadata": {},
   "outputs": [
    {
     "name": "stdout",
     "output_type": "stream",
     "text": [
      "0.0\n"
     ]
    }
   ],
   "source": [
    "gt_675 = len([each for each in mean_ratios if each >= 0.675])\n",
    "significance_value = gt_675/len(mean_ratios)\n",
    "print(significance_value)"
   ]
  },
  {
   "cell_type": "code",
   "execution_count": null,
   "metadata": {},
   "outputs": [],
   "source": []
  }
 ],
 "metadata": {
  "kernelspec": {
   "display_name": "Python 3",
   "language": "python",
   "name": "python3"
  },
  "language_info": {
   "codemirror_mode": {
    "name": "ipython",
    "version": 3
   },
   "file_extension": ".py",
   "mimetype": "text/x-python",
   "name": "python",
   "nbconvert_exporter": "python",
   "pygments_lexer": "ipython3",
   "version": "3.6.5"
  }
 },
 "nbformat": 4,
 "nbformat_minor": 2
}
